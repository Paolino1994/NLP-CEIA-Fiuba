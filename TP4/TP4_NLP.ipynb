{
  "nbformat": 4,
  "nbformat_minor": 0,
  "metadata": {
    "colab": {
      "provenance": [],
      "authorship_tag": "ABX9TyOB11Ms9jdRKwcAgCw1aqYf",
      "include_colab_link": true
    },
    "kernelspec": {
      "name": "python3",
      "display_name": "Python 3"
    },
    "language_info": {
      "name": "python"
    },
    "accelerator": "GPU",
    "gpuClass": "standard"
  },
  "cells": [
    {
      "cell_type": "markdown",
      "metadata": {
        "id": "view-in-github",
        "colab_type": "text"
      },
      "source": [
        "<a href=\"https://colab.research.google.com/github/Paolino1994/NLP-CEIA-Fiuba/blob/main/TP4/TP4_NLP.ipynb\" target=\"_parent\"><img src=\"https://colab.research.google.com/assets/colab-badge.svg\" alt=\"Open In Colab\"/></a>"
      ]
    },
    {
      "cell_type": "markdown",
      "source": [
        "Consigna : Utilizar otro dataset y poner en práctica la predicción de próxima palabra"
      ],
      "metadata": {
        "id": "-n3eeORlsLoF"
      }
    },
    {
      "cell_type": "code",
      "execution_count": 1,
      "metadata": {
        "id": "7zwq--3Dr7HI"
      },
      "outputs": [],
      "source": [
        "import random\n",
        "import io\n",
        "import pickle\n",
        "\n",
        "import numpy as np\n",
        "import pandas as pd\n",
        "\n",
        "from tensorflow import keras\n",
        "from tensorflow.keras import layers\n",
        "from keras.utils.np_utils import to_categorical\n",
        "from keras.models import Sequential\n",
        "from keras.layers import Dense, LSTM, Embedding, Dropout\n",
        "\n",
        "from keras.preprocessing.text import Tokenizer # equivalente a ltokenizer de nltk\n",
        "from keras.preprocessing.text import text_to_word_sequence # equivalente a word_teokenize de nltk\n",
        "from keras.utils import pad_sequences # se utilizará para padding"
      ]
    },
    {
      "cell_type": "code",
      "source": [
        "# Descargar la carpeta de dataset\n",
        "import os\n",
        "import platform\n",
        "if os.access('./songs_dataset', os.F_OK) is False:\n",
        "    if os.access('songs_dataset.zip', os.F_OK) is False:\n",
        "        if platform.system() == 'Windows':\n",
        "            !curl https://raw.githubusercontent.com/FIUBA-Posgrado-Inteligencia-Artificial/procesamiento_lenguaje_natural/main/datasets/songs_dataset.zip -o songs_dataset.zip\n",
        "        else:\n",
        "            !wget songs_dataset.zip https://github.com/FIUBA-Posgrado-Inteligencia-Artificial/procesamiento_lenguaje_natural/raw/main/datasets/songs_dataset.zip\n",
        "    !unzip -q songs_dataset.zip   \n",
        "else:\n",
        "    print(\"El dataset ya se encuentra descargado\")"
      ],
      "metadata": {
        "colab": {
          "base_uri": "https://localhost:8080/"
        },
        "id": "DySox3uNsb9H",
        "outputId": "622a906b-adb5-4377-9291-86df947a030a"
      },
      "execution_count": 2,
      "outputs": [
        {
          "output_type": "stream",
          "name": "stdout",
          "text": [
            "El dataset ya se encuentra descargado\n"
          ]
        }
      ]
    },
    {
      "cell_type": "code",
      "source": [
        "# Posibles bandas\n",
        "os.listdir(\"./songs_dataset/\")"
      ],
      "metadata": {
        "colab": {
          "base_uri": "https://localhost:8080/"
        },
        "id": "hZCVo2KUslAe",
        "outputId": "5f1c1764-dd0d-47f0-a522-f8b91d820105"
      },
      "execution_count": 3,
      "outputs": [
        {
          "output_type": "execute_result",
          "data": {
            "text/plain": [
              "['jimi-hendrix.txt',\n",
              " 'dj-khaled.txt',\n",
              " 'r-kelly.txt',\n",
              " 'prince.txt',\n",
              " 'kanye.txt',\n",
              " 'beatles.txt',\n",
              " 'drake.txt',\n",
              " 'janisjoplin.txt',\n",
              " 'nirvana.txt',\n",
              " 'nickelback.txt',\n",
              " 'leonard-cohen.txt',\n",
              " 'cake.txt',\n",
              " 'notorious-big.txt',\n",
              " 'Lil_Wayne.txt',\n",
              " 'Kanye_West.txt',\n",
              " 'bruce-springsteen.txt',\n",
              " 'lady-gaga.txt',\n",
              " 'bob-marley.txt',\n",
              " 'adele.txt',\n",
              " 'dickinson.txt',\n",
              " 'radiohead.txt',\n",
              " 'patti-smith.txt',\n",
              " 'michael-jackson.txt',\n",
              " 'paul-simon.txt',\n",
              " 'nicki-minaj.txt',\n",
              " 'ludacris.txt',\n",
              " 'bieber.txt',\n",
              " 'bob-dylan.txt',\n",
              " 'dr-seuss.txt',\n",
              " 'lin-manuel-miranda.txt',\n",
              " 'amy-winehouse.txt',\n",
              " 'kanye-west.txt',\n",
              " 'bruno-mars.txt',\n",
              " 'eminem.txt',\n",
              " 'missy-elliott.txt',\n",
              " 'alicia-keys.txt',\n",
              " 'disney.txt',\n",
              " 'lil-wayne.txt',\n",
              " 'rihanna.txt',\n",
              " 'joni-mitchell.txt',\n",
              " 'bjork.txt',\n",
              " 'dolly-parton.txt',\n",
              " 'blink-182.txt',\n",
              " 'nursery_rhymes.txt',\n",
              " 'johnny-cash.txt',\n",
              " 'britney-spears.txt',\n",
              " 'al-green.txt',\n",
              " 'lorde.txt',\n",
              " 'notorious_big.txt']"
            ]
          },
          "metadata": {},
          "execution_count": 3
        }
      ]
    },
    {
      "cell_type": "code",
      "source": [
        "\n",
        "\n",
        "# Continuamos con bruce springsteen\n",
        "df = pd.read_csv('songs_dataset/bruce-springsteen.txt', sep='/n', header=None)\n",
        "df.head()\n",
        "\n"
      ],
      "metadata": {
        "colab": {
          "base_uri": "https://localhost:8080/",
          "height": 262
        },
        "id": "CVpVXKVUslt9",
        "outputId": "35ee2ae4-b46f-4485-a69f-1690d6d5afbd"
      },
      "execution_count": 4,
      "outputs": [
        {
          "output_type": "stream",
          "name": "stderr",
          "text": [
            "/usr/local/lib/python3.7/dist-packages/pandas/util/_decorators.py:311: ParserWarning: Falling back to the 'python' engine because the 'c' engine does not support regex separators (separators > 1 char and different from '\\s+' are interpreted as regex); you can avoid this warning by specifying engine='python'.\n",
            "  return func(*args, **kwargs)\n"
          ]
        },
        {
          "output_type": "execute_result",
          "data": {
            "text/plain": [
              "                                                   0\n",
              "0                                          [Verse 1]\n",
              "1                          They come from everywhere\n",
              "2                               A longing to be free\n",
              "3                          They come to join us here\n",
              "4  From sea to shining sea And they all have a dream"
            ],
            "text/html": [
              "\n",
              "  <div id=\"df-a20d4218-9ad5-4fee-bf8d-7d1c3b571907\">\n",
              "    <div class=\"colab-df-container\">\n",
              "      <div>\n",
              "<style scoped>\n",
              "    .dataframe tbody tr th:only-of-type {\n",
              "        vertical-align: middle;\n",
              "    }\n",
              "\n",
              "    .dataframe tbody tr th {\n",
              "        vertical-align: top;\n",
              "    }\n",
              "\n",
              "    .dataframe thead th {\n",
              "        text-align: right;\n",
              "    }\n",
              "</style>\n",
              "<table border=\"1\" class=\"dataframe\">\n",
              "  <thead>\n",
              "    <tr style=\"text-align: right;\">\n",
              "      <th></th>\n",
              "      <th>0</th>\n",
              "    </tr>\n",
              "  </thead>\n",
              "  <tbody>\n",
              "    <tr>\n",
              "      <th>0</th>\n",
              "      <td>[Verse 1]</td>\n",
              "    </tr>\n",
              "    <tr>\n",
              "      <th>1</th>\n",
              "      <td>They come from everywhere</td>\n",
              "    </tr>\n",
              "    <tr>\n",
              "      <th>2</th>\n",
              "      <td>A longing to be free</td>\n",
              "    </tr>\n",
              "    <tr>\n",
              "      <th>3</th>\n",
              "      <td>They come to join us here</td>\n",
              "    </tr>\n",
              "    <tr>\n",
              "      <th>4</th>\n",
              "      <td>From sea to shining sea And they all have a dream</td>\n",
              "    </tr>\n",
              "  </tbody>\n",
              "</table>\n",
              "</div>\n",
              "      <button class=\"colab-df-convert\" onclick=\"convertToInteractive('df-a20d4218-9ad5-4fee-bf8d-7d1c3b571907')\"\n",
              "              title=\"Convert this dataframe to an interactive table.\"\n",
              "              style=\"display:none;\">\n",
              "        \n",
              "  <svg xmlns=\"http://www.w3.org/2000/svg\" height=\"24px\"viewBox=\"0 0 24 24\"\n",
              "       width=\"24px\">\n",
              "    <path d=\"M0 0h24v24H0V0z\" fill=\"none\"/>\n",
              "    <path d=\"M18.56 5.44l.94 2.06.94-2.06 2.06-.94-2.06-.94-.94-2.06-.94 2.06-2.06.94zm-11 1L8.5 8.5l.94-2.06 2.06-.94-2.06-.94L8.5 2.5l-.94 2.06-2.06.94zm10 10l.94 2.06.94-2.06 2.06-.94-2.06-.94-.94-2.06-.94 2.06-2.06.94z\"/><path d=\"M17.41 7.96l-1.37-1.37c-.4-.4-.92-.59-1.43-.59-.52 0-1.04.2-1.43.59L10.3 9.45l-7.72 7.72c-.78.78-.78 2.05 0 2.83L4 21.41c.39.39.9.59 1.41.59.51 0 1.02-.2 1.41-.59l7.78-7.78 2.81-2.81c.8-.78.8-2.07 0-2.86zM5.41 20L4 18.59l7.72-7.72 1.47 1.35L5.41 20z\"/>\n",
              "  </svg>\n",
              "      </button>\n",
              "      \n",
              "  <style>\n",
              "    .colab-df-container {\n",
              "      display:flex;\n",
              "      flex-wrap:wrap;\n",
              "      gap: 12px;\n",
              "    }\n",
              "\n",
              "    .colab-df-convert {\n",
              "      background-color: #E8F0FE;\n",
              "      border: none;\n",
              "      border-radius: 50%;\n",
              "      cursor: pointer;\n",
              "      display: none;\n",
              "      fill: #1967D2;\n",
              "      height: 32px;\n",
              "      padding: 0 0 0 0;\n",
              "      width: 32px;\n",
              "    }\n",
              "\n",
              "    .colab-df-convert:hover {\n",
              "      background-color: #E2EBFA;\n",
              "      box-shadow: 0px 1px 2px rgba(60, 64, 67, 0.3), 0px 1px 3px 1px rgba(60, 64, 67, 0.15);\n",
              "      fill: #174EA6;\n",
              "    }\n",
              "\n",
              "    [theme=dark] .colab-df-convert {\n",
              "      background-color: #3B4455;\n",
              "      fill: #D2E3FC;\n",
              "    }\n",
              "\n",
              "    [theme=dark] .colab-df-convert:hover {\n",
              "      background-color: #434B5C;\n",
              "      box-shadow: 0px 1px 3px 1px rgba(0, 0, 0, 0.15);\n",
              "      filter: drop-shadow(0px 1px 2px rgba(0, 0, 0, 0.3));\n",
              "      fill: #FFFFFF;\n",
              "    }\n",
              "  </style>\n",
              "\n",
              "      <script>\n",
              "        const buttonEl =\n",
              "          document.querySelector('#df-a20d4218-9ad5-4fee-bf8d-7d1c3b571907 button.colab-df-convert');\n",
              "        buttonEl.style.display =\n",
              "          google.colab.kernel.accessAllowed ? 'block' : 'none';\n",
              "\n",
              "        async function convertToInteractive(key) {\n",
              "          const element = document.querySelector('#df-a20d4218-9ad5-4fee-bf8d-7d1c3b571907');\n",
              "          const dataTable =\n",
              "            await google.colab.kernel.invokeFunction('convertToInteractive',\n",
              "                                                     [key], {});\n",
              "          if (!dataTable) return;\n",
              "\n",
              "          const docLinkHtml = 'Like what you see? Visit the ' +\n",
              "            '<a target=\"_blank\" href=https://colab.research.google.com/notebooks/data_table.ipynb>data table notebook</a>'\n",
              "            + ' to learn more about interactive tables.';\n",
              "          element.innerHTML = '';\n",
              "          dataTable['output_type'] = 'display_data';\n",
              "          await google.colab.output.renderOutput(dataTable, element);\n",
              "          const docLink = document.createElement('div');\n",
              "          docLink.innerHTML = docLinkHtml;\n",
              "          element.appendChild(docLink);\n",
              "        }\n",
              "      </script>\n",
              "    </div>\n",
              "  </div>\n",
              "  "
            ]
          },
          "metadata": {},
          "execution_count": 4
        }
      ]
    },
    {
      "cell_type": "markdown",
      "source": [
        "# Preprocesamiento"
      ],
      "metadata": {
        "id": "m32Sy77ssfNK"
      }
    },
    {
      "cell_type": "code",
      "source": [
        "corpus = df.apply(lambda row: ' '.join(row.values.astype(str)), axis=0)[0]\n",
        "corpus"
      ],
      "metadata": {
        "colab": {
          "base_uri": "https://localhost:8080/",
          "height": 178
        },
        "id": "_vPsi2xlscxg",
        "outputId": "ffe6e7c9-d5de-4793-8e58-e451ee91eb1f"
      },
      "execution_count": 5,
      "outputs": [
        {
          "output_type": "execute_result",
          "data": {
            "text/plain": [
              "'[Verse 1] They come from everywhere A longing to be free They come to join us here From sea to shining sea And they all have a dream As people always will To be safe and warm In that shining city on the hill Some wanna slam the door Instead of opening the gate Aw, let\\'s turn this thing around Before it gets too late [Chorus] It\\'s up to me and you Love can conquer hate I know this to be true That\\'s what makes us great [Verse 2] Don\\'t tell me a lie And sell it as a fact I\\'ve been down that road before And I ain\\'t goin\\' back And don\\'t you brag to me That you never read a book I never put my faith In a con man and his crooks I won\\'t follow down that path And tempt the hands of fate Aw, let\\'s turn this thing around Before it gets too late [Chorus] It\\'s up to me and you Love can conquer hate I know this to be true That\\'s what makes us great In the quiet of the night I lie here wide awake And I ask myself Is there a difference I can make? [Chorus] It\\'s up to me and you Love can conquer hate I know this to be true That\\'s what makes us great I come from down in the valley Where mister when you\\'re young They bring you up to do like your daddy done Me and Mary we met in high school When she was just seventeen We\\'d ride out of this valley down to where the fields were green We\\'d go down to the river And into the river we\\'d dive Oh down to the river we\\'d ride Then I got Mary pregnant And man that was all she wrote And for my nineteenth birthday I got a union card and a wedding coat We went down to the courthouse And the judge put it all to rest No wedding day smiles no walk down the aisle No flowers no wedding dress That night we went down to the river And into the river we\\'d dive Oh down to the river we did ride I got a job working construction for the Johnstown Company But lately there ain\\'t been much work on account of the economy Now all them things that seemed so important Well mister they vanished right into the air Now I just act like I don\\'t remember Mary acts like she don\\'t care But I remember us riding in my brother\\'s car Her body tan and wet down at the reservoir At night on them banks I\\'d lie awake And pull her close just to feel each breath she\\'d take Now those memories come back to haunt me They haunt me like a curse Is a dream a lie if it don\\'t come true Or is it something worse That sends me down to the river Though I know the river is dry That sends me down to the river tonight Down to the river My baby and I Oh down to the river we ride The screen door slams, Mary\\'s dress waves Like a vision she dances across the porch as the radio plays Roy Orbison singing for the lonely Hey, that\\'s me and I want you only Don\\'t turn me home again, I just can\\'t face myself alone again Don\\'t run back inside, darling, you know just what I\\'m here for So you\\'re scared and you\\'re thinking that maybe we ain\\'t that young anymore Show a little faith, there\\'s magic in the night You ain\\'t a beauty but, hey, you\\'re alright Oh, and that\\'s alright with me You can hide \\'neath your covers and study your pain Make crosses from your lovers, throw roses in the rain Waste your summer praying in vain For a savior to rise from these streets Well now, I ain\\'t no hero, that\\'s understood All the redemption I can offer, girl, is beneath this dirty hood With a chance to make it good somehow Hey, what else can we do now? Except roll down the window and let the wind blow back your hair Well, the night\\'s busting open, these two lanes will take us anywhere We got one last chance to make it real To trade in these wings on some wheels Climb in back, heaven\\'s waiting on down the tracks Oh oh, come take my hand We\\'re riding out tonight to case the promised land Oh oh oh oh, Thunder Road Oh, Thunder Road, oh, Thunder Road Lying out there like a killer in the sun Hey, I know it\\'s late, we can make it if we run Oh oh oh oh, Thunder Road Sit tight, take hold, Thunder Road Well, I got this guitar and I learned how to make it talk And my car\\'s out back if you\\'re ready to take that long walk From your front porch to my front seat The door\\'s open but the ride ain\\'t free And I know you\\'re lonely for words that I ain\\'t spoken But tonight we\\'ll be free, all the promises\\'ll be broken There were ghosts in the eyes of all the boys you sent away They haunt this dusty beach road in the skeleton frames of burned-out Chevrolets They scream your name at night in the street Your graduation gown lies in rags at their feet And in the lonely cool before dawn You hear their engines rolling on But when you get to the porch, they\\'re gone on the wind So Mary, climb in It\\'s a town full of losers, I\\'m pulling out of here to win I get up in the evening And I ain\\'t got nothing to say I come home in the morning I go to bed feeling the same way I ain\\'t nothing but tired Man I\\'m just tired and bored with myself Hey there baby, I could use just a little help You can\\'t start a fire You can\\'t start a fire without a spark This gun\\'s for hire Even if we\\'re just dancing in the dark Message keeps getting clearer Radio\\'s on and I\\'m moving \\'round the place I check my look in the mirror I want to change my clothes, my hair, my face Man I ain\\'t getting nowhere I\\'m just living in a dump like this There\\'s something happening somewhere Baby I just know that there is You can\\'t start a fire You can\\'t start a fire without a spark This gun\\'s for hire Even if we\\'re just dancing in the dark You sit around getting older There\\'s a joke here somewhere and it\\'s on me I\\'ll shake this world off my shoulders Come on baby this laugh\\'s on me Stay on the streets of this town And they\\'ll be carving you up alright They say you gotta stay hungry Hey baby I\\'m just about starving tonight I\\'m dying for some action I\\'m sick of sitting \\'round here trying to write this book I need a love reaction Come on now baby gimme just one look You can\\'t start a fire sitting \\'round crying over a broken heart This gun\\'s for hire Even if we\\'re just dancing in the dark You can\\'t start a fire worrying about your little world falling apart This gun\\'s for hire Even if we\\'re just dancing in the dark Even if we\\'re just dancing in the dark Even if we\\'re just dancing in the dark Even if we\\'re just dancing in the dark Hey baby Well, it seems like I\\'m caught up in your trap again And it seems like I\\'ll be wearing the same old chains Good will conquer evil and the truth will set me free And I know someday I will find the key And I know somewhere I will find the key Well, it seems like I\\'ve been playing your game way too long And it seems the game I\\'ve played has made you strong But when the game is over I won\\'t walk out the loser Yeah I know that I\\'ll walk out of here again Yeah I know someday I\\'ll walk out of here again But now, I\\'m trapped, oh yeah Trapped, oh yeah Trapped, oh yeah Trapped, oh yeah Now it seems like I\\'ve been sleeping in your bed too long And it seems like you\\'ve been meaning to do me harm But I\\'ll teach my eyes to see, beyond these walls in front of me And someday I\\'ll walk out of here again Yeah I know someday I\\'ll walk out of here again But now, I\\'m trapped, oh yeah Trapped, oh yeah Trapped, oh yeah Trapped, oh yeah Now it seems like I\\'ve been playing your game way too long And it seems the game I\\'ve played has made you strong Because, I\\'m trapped, oh yeah Trapped, oh yeah Trapped, oh yeah Trapped, oh yeah I\\'m trapped, oh yeah Trapped, oh yeah Trapped, oh yeah Trapped, oh yeah I\\'m trapped In the day we sweat it out on the streets of a runaway American dream At night we ride through the mansions of glory in suicide machines Sprung from cages out on highway nine, Chrome wheeled, fuel injected,and steppin\\' out over the line H-Oh, Baby this town rips the bones from your back It\\'s a death trap, it\\'s a suicide rap We gotta get out while we\\'re young `Cause tramps like us, baby we were born to run Yes, girl we were Wendy let me in I wanna be your friend I want to guard your dreams and visions Just wrap your legs \\'round these velvet rims And strap your hands \\'cross my engines Together we could break this trap We\\'ll run till we drop, baby we\\'ll never go back H-Oh, Will you walk with me out on the wire `Cause baby I\\'m just a scared and lonely rider But I gotta know how it feels I want to know if love is wild Babe I want to know if love is real Oh, can you show me Beyond the Palace hemi-powered drones scream down the boulevard Girls comb their hair in rearview mirrors And the boys try to look so hard The amusement park rises bold and stark Kids are huddled on the beach in a mist I wanna die with you Wendy on the street tonight In an everlasting kiss One, two, three, four! The highway\\'s jammed with broken heroes on a last chance power drive Everybody\\'s out on the run tonight But there\\'s no place left to hide Together Wendy we can live with the sadness I\\'ll love you with all the madness in my soul H-Oh, Someday girl I don\\'t know when We\\'re gonna get to that place Where we really wanna go And we\\'ll walk in the sun But till then tramps like us Baby we were born to run Oh honey, tramps like us Baby we were born to run Come on with me, tramps like us Baby we were born to run Men walking \\'long the railroad tracks Going someplace, there\\'s no going back Highway patrol choppers coming up over the ridge Hot soup on a campfire under the bridge Shelter line stretching \\'round the corner Welcome to the new world order Families sleeping in the cars in the southwest No home, no job, no peace, no rest Well the highway is alive tonight But nobody\\'s kidding nobody about where it goes I\\'m sitting down here in the campfire light Searching for the ghost of Tom Joad He pulls a prayer book out of his sleeping bag Preacher lights up a butt and he takes a drag Waiting for when the last shall be first and the first shall be last In a cardboard box \\'neath the underpass You got a one-way ticket to the promised land You got a hole in your belly and a gun in your hand Sleeping on a pillow of solid rock Bathing in the city\\'s aqueduct Go! Well the highway is alive tonight Where it\\'s headed everybody knows I\\'m sitting down here in the campfire light Waiting on the ghost of Tom Joad Now Tom said, \"Mom, wherever there\\'s a cop beating a guy Wherever a hungry newborn baby cries Where there\\'s a fight against the blood and hatred in the air Look for me, Mom, I\\'ll be there Wherever somebody\\'s fighting for a place to stand Or a decent job or a helping hand Wherever somebody\\'s struggling to be free Look in their eyes, Ma, and you\\'ll see me\" Yeah! The highway is alive tonight Where it\\'s headed everybody knows I\\'m sitting down here in the campfire light With the ghost of old Tom Joad It\\'s rainin\\' but there ain\\'t a cloud in the sky Musta been a tear from your eye Everything\\'ll be okay Funny thought I felt a sweet summer breeze Musta been you sighin\\' so deep Don\\'t worry we\\'re gonna find a way I\\'m waitin\\', waitin\\' on a sunny day Gonna chase the clouds away I\\'m waitin\\' on a sunny day Without you I\\'m workin\\' with the rain fallin\\' down I\\'m half a party in a one dog town I need you to chase the blues away Without you I\\'m a drummer girl that can\\'t keep a beat An ice cream truck on a deserted street I hope that you\\'re coming to stay I\\'m waitin\\', waitin\\' on a sunny day Gonna chase the clouds away Waitin\\' on a sunny day Hard times baby, well they come to tell us all Sure as the tickin\\' of the clock on the wall Sure as the turnin\\' of the night into day Your smile girl, brings the mornin\\' light to my eyes Lifts away the blues when I rise I hope that you\\'re coming to stay I\\'m waitin\\', waitin\\' on a sunny day Gonna chase the clouds away Waitin\\' on a sunny day Madman drummers bummers and Indians in the summer with a teenage diplomat In the dumps with the mumps as the adolescent pumps his way into his hat With a boulder on my shoulder, feelin\\' kinda older, I tripped the merry-go-round With this very unpleasing sneezing and wheezing, the calliope crashed to the ground Some all-hot half-shot was headin\\' for the hot spot, snappin\\' his fingers, clappin\\' his hands And some fleshpot mascot was tied into a lover\\'s knot with a whatnot in her hand And now young Scott with a slingshot finally found a tender spot and throws his lover in the sand And some bloodshot forget-me-not whispers, daddy\\'s within earshot, save the buckshot, turn up the band And she was blinded by the light Oh cut loose like a deuce, another runner in the night Blinded by the light She got down but she never got tight, but she\\'ll make it alright Some brimstone baritone anti-cyclone rolling stone preacher from the East He says, dethrone the dictaphone, hit it in its funny bone, that\\'s where they expect it least And some new-mown chaperone was standin\\' in the corner all alone, watchin\\' the young girls dance And some fresh-sown moonstone was messin\\' with his frozen zone to remind him of the feeling of romance Yeah, he was blinded by the light Oh, cut loose like a deuce, another runner in the night Blinded by the light He got down but he never got tight, but he\\'s gonna make it tonight Some silicone sister with her manager\\'s mister told me I got what it takes She said, I\\'ll turn you on, sonny, to something strong if you play that song with the funky break And Go-Cart Mozart was checkin\\' out the weather chart to see if it was safe to go outside And little Early-Pearly came by in her curly-wurly and asked me if I needed a ride Oh, some hazard from Harvard was skunked on beer, playin\\' backyard bombardier Yes, and Scotland Yard was trying hard, they sent some dude with a calling card, he said, do what you like, but don\\'t do it here Well, I jumped up, turned around, spit in the air, fell on the ground and asked him which was the way back home He said, take a right at the light, keep goin\\' straight until night, and then, boy, you\\'re on your own And now in Zanzibar, a shootin\\' star was ridin\\' in a side car, hummin\\' a lunar tune Yes, and the avatar said, blow the bar but first remove the cookie jar, we\\'re gonna teach those boys to laugh too soon And some kidnapped handicap was complainin\\' that he caught the clap from some mousetrap he bought last night Well, I unsnapped his skull cap and between his ears I saw a gap but figured he\\'d be all right He was just blinded by the light Cut loose like a deuce, another runner in the night Blinded by the light Mama always told me not to look into the sights of the sun Oh, but Mama, that\\'s where the fun is Ooh yeah I was blinded I was blinded I was blinded I was blinded I was blinded I was blinded I was blinded I was blinded Hey little girl is your daddy home Did he go away and leave you all alone, mmm mmm I got a bad desire Oh, ho ho, I\\'m on fire Tell me now baby is he good to you And can he do to you the things that I do, oh no I can take you higher Oh, ho ho, I\\'m on fire Sometimes it\\'s like someone took a knife baby Edgy and dull and cut a six inch valley Through the middle of my soul At night I wake up with the sheets soaking wet And a freight train running through the middle of my head Only you, can cool my desire Oh, ho ho, I\\'m on fire Oh, ho ho, I\\'m on fire Oh, ho ho, I\\'m on fire Woo ooo ooo Woo ooo Ooo ooo ooo Woo ooo ooo Woo ooo ooo I had a friend was a big baseball player Back in high school He could throw that speed ball by you Make you look like a fool boy Saw him the other night at this roadside bar I was walking in, he was walking out We went back inside sat down had a few drinks But all he kept talking about was Glory days, well they\\'ll pass you by Glory days, in the wink of a young girl\\'s eye Glory days, glory days Well there\\'s a girl that lives up the block Back in school she could turn all the boy\\'s heads Sometimes on a Friday I\\'ll stop by And have a few drinks after she put her kids to bed Her and her husband Bobby, well they split up I guess it\\'s two years gone by now We just sit around talking about the old times, She says when she feels like crying She starts laughing thinking about Glory days well they\\'ll pass you by Glory days in the wink of a young girl\\'s eye Glory days, glory days I think I\\'m going down to the well tonight And I\\'m going to drink till I get my fill And I hope when I get old I don\\'t sit around thinking about it But I probably will Yeah, just sitting back trying to recapture A little of the glory of, well time slips away And leaves you with nothing mister but Boring stories of glory days Glory days well they\\'ll pass you by Glory days in the wink of a young girl\\'s eye Glory days, glory days Well they\\'ll pass you by Glory days in the wink of a young girl\\'s eye Glory days, glory days Well alright oo yeah Well alright come on now Well alright oo yeah Well alright come on now With you, with you, with you, with you All right boys keep it rocking now Keep on going, we gonna go home now Bring it home, yeah bring it home Alright, alright, well alright, well alright, well alright, well alright Well alright, alright, alright, let\\'s go When you need me call my name \\'Cause without you my life just wouldn\\'t be the same If you want me come sunny skies or rain When you need me just call my name If you miss me, I\\'ll be there To brush the sunlight from your hair I\\'ll be there to guide you when trouble walks beside you If you need me I\\'ll be there And when this dirty world has been cold to you I got two strong arms waitin\\' to hold you And when those mean days come along We\\'ll stand together and we\\'ll take \\'em on So if you need me just call my name When you need me call my name \\'Cause without you my life just isn\\'t the same \\'Cause when this world kicked me around Baby, you picked me up off the ground So if you need me I\\'ll be there I got no time for the corner boys Down in the street making all that noise Or the girls out on the avenue \\'Cause tonight I want to be with you Tonight I\\'m gonna take that ride Across the river to the Jersey side Take my baby to the carnival And I\\'ll take her on all the rides \\'Cause down the shore everything\\'s all right You and your baby on a Saturday night You know all my dreams come true When I\\'m walking down the street with you Sha la la la la la la Sha la la la la la la la la Sha la la la la la la la Sha la la la I\\'m in love with a Jersey girl You know she thrills me with all her charms When I\\'m wrapped up in my baby\\'s arms My little girl gives me everything I know that some day she\\'ll wear my ring So don\\'t bother me man I ain\\'t got no time I\\'m on my way to see that girl of mine \\'Cause nothing matters in this whole wide world When you\\'re in love with a Jersey girl Sha la la la la la la Sha la la la la la la la la Sha la la la la la la la Sha la la la I\\'m in love with a Jersey girl I see you on the street and you look so tired I know that job you got leaves you so uninspired When I come by to take you out to eat you\\'re lyin\\' all dressed up on the bed baby fast asleep Go in the bathroom and put your makeup on We\\'re gonna take that little brat of yours and drop her off at your mom?s I know a place where the dancing?s free Now baby won\\'t you come with me \\'Cause down the shore everything\\'s all right You and your baby on a Saturday night Nothing matters in this whole wide world When you\\'re in love with a Jersey girl Well they blew up the chicken man in Philly last night Now they blew up his house too Down on the boardwalk they\\'re gettin\\' ready For a fight gonna see what them racket boys can do Now there\\'s trouble busin\\' in from outta state And the D.A. can\\'t get no relief Gonna be a rumble out on the promenade and The gamblin\\' commission\\'s hangin\\' on by the skin of its teeth Well now everything dies baby that\\'s a fact But maybe everything that dies someday comes back Put your makeup on, fix your hair up pretty And meet me tonight in Atlantic City Well I got a job and tried to put my money away But I got debts that no honest man could pay So I drew what I had from the Central Trust And I bought us two tickets on that Coast City bus Now baby everything dies baby that\\'s a fact But maybe everything that dies someday comes back Put your makeup on fix your hair up pretty And meet me tonight in Atlantic City Now our luck may have died and out love may be cold But with you forever I\\'ll stay We\\'re goin\\' out where the sand\\'s turnin\\' to gold Put on your stockin\\'s \\'cause the night\\'s getting\\' cold And maybe everything dies that\\'s a fact But maybe everything that dies someday comes back Now I been lookin\\' for a job but it\\'s hard to find Down here it\\'s just winners and losers And don\\'t get caught on the wrong side of that line Well I\\'m tired of comin\\' out on this losin\\' end So honey last night I met this guy And I\\'m gonna do a little favor for him Well I guess everything dies baby that\\'s a fact But maybe everything that dies someday comes back Fix your hair up nice, fix yourself up pretty Meet me tonight in Atlantic City Meet me tonight in Atlantic City Meet me tonight in Atlantic City Meet me tonight in Atlantic City Meet me tonight in Atlantic City Meet me tonight in Atlantic City Meet me tonight in Atlantic City Meet me tonight in Atlantic City Meet me tonight in Atlantic City Well brunettes are fine man And blondes are fun But when it comes to getting the dirty job done I\\'ll take a red headed woman A red headed woman It takes a red headed woman To get a dirty job done Well listen up stud Your life\\'s been wasted \\'Til you\\'ve got down on your knees and tasted A red headed woman A red headed woman It takes a red headed woman To get a dirty job done Tight skirt, strawberry hair Tell me what you\\'ve got baby, waiting under there Big green eyes that look like, son They can see every cheap thing that you ever done Well I don\\'t care how many girls you\\'ve dated, man But you ain\\'t lived \\'til you\\'ve had your tires rotated By a red headed woman A red headed woman It takes a red headed woman To get a dirty job done Born down in a dead man\\'s town The first kick I took was when I hit the ground End up like a dog that\\'s been beat too much Till you spend half your life just covering up Born in the U.S.A., I was born in the U.S.A. I was born in the U.S.A., born in the U.S.A. Got in a little hometown jam So they put a rifle in my hand Sent me off to a foreign land To go and kill the yellow man Born in the U.S.A., I was born in the U.S.A. Born in the U.S.A., born in the U.S.A. Come back home to the refinery Hiring man said \"son if it was up to me\" Went down to see my V.A. man He said \"son, don\\'t you understand\" I had a brother at Khe Sahn Fighting off the Viet Cong They\\'re still there, he\\'s all gone He had a woman he loved in Saigon I got a picture of him in her arms now Down in the shadow of the penitentiary Out by the gas fires of the refinery I\\'m ten years burning down the road Nowhere to run ain\\'t got nowhere to go Born in the U.S.A., I was born in the U.S.A. Born in the U.S.A., I\\'m a long gone daddy in the U.S.A. Born in the U.S.A., born in the U.S.A. Born in the U.S.A., I\\'m a cool rocking daddy in the U.S.A. Lights out tonight Trouble in the heartland Got a head-on collision Smashin\\' in my guts man I\\'m caught in a crossfire That I don\\'t understand But there\\'s one thing I know for sure Girl, I don\\'t give a damn For the same old played out scenes I don\\'t give a damn For just the in-betweens Honey I want the heart, I want the soul I want control right now Yeah, are you listening to me baby? Talk about a dream Try to make it real You wake up in the night With a fear so real You spend your life waiting For a moment that just don\\'t come Well don\\'t waste your time waiting Badlands, you gotta live it every day Let the broken hearts stand As the price you\\'ve gotta pay We\\'ll keep pushin\\' till it\\'s understood And these badlands start treating us good Workin\\' in the fields \\'Til you get your back burned Workin\\' \\'neath the wheels \\'Til you get your facts learned Baby I got my facts Learned real good right now You better get it straight girl Poor man want to be rich Rich man want to be king And a king ain\\'t satisfied \\'Til he rules everything I want to go out tonight I want to find out what I got But I believe in the love that you gave me I believe in the faith that can save me I believe in the hope And I pray that some day it may raise me Above these badlands, you gotta live it every day Let the broken hearts stand As the price you\\'ve gotta pay We\\'ll keep pushin\\' till it\\'s understood And these badlands start treating us good Woah oh woah oh woah oh For the ones who had a notion A notion deep inside That it ain\\'t no sin to be glad you\\'re alive I want to find one face that ain\\'t looking through me I want to find one place I want to spit in the face of these Badlands, you gotta live it every day Let the broken hearts stand As the price you\\'ve gotta pay We\\'ll keep pushin\\' till it\\'s understood And these badlands start treating us good Woah oh woah oh woah oh Badlands Woah oh woah oh woah oh Badlands Woah oh woah oh woah oh Badlands Woah oh woah oh woah oh Badlands Woah oh woah oh woah oh Badlands Woah oh woah oh woah oh Badlands Got a wife and kids in Baltimore, Jack I went out for a ride and I never went back Like a river that don\\'t know where it\\'s flowing I took a wrong turn and I just kept going Everybody\\'s got a hungry heart Everybody\\'s got a hungry heart Lay down your money and you play your part Everybody\\'s got a hungry heart I met her in a Kingstown bar We fell in love I knew it had to end We took what we had and we ripped it apart Now here I am down in Kingstown again Everybody\\'s got a hungry heart Everybody\\'s got a hungry heart Lay down your money and you play your part Everybody\\'s got a hungry heart Everybody needs a place to rest Everybody wants to have a home Don\\'t make no difference what nobody says Ain\\'t nobody like to be alone Everybody\\'s got a hungry heart Everybody\\'s got a hungry heart Lay down your money and you play your part Everybody\\'s got a hungry heart I see you walking, baby, down the street Pushing that baby carriage at your feet I see the lonely ribbon in your hair Tell me I am the man for whom you put it there You never smile girl, you never speak You just walk on by, darlin\\' week after week Raising two kids alone in this mixed up world Must be a lonely life for a working girl Little girl, I want to marry you Oh yeah, little girl, I want to marry you Yes I do Little girl, I want to marry you Now honey, I don\\'t want to clip your wings But a time comes when two people should think of these things Having a home and a family Facing up to their responsibilities They say in the end true love prevails But in the end true love can\\'t be no fairytale To say I\\'ll make your dreams come true would be wrong But maybe, darlin\\', I could help them along Little girl, I want to marry you Oh yeah, little girl, I want to marry you Yes I do Little girl, I want to marry you Oh, my daddy said right before he died That true, true love was just a lie He went to his grave a broken heart An unfulfilled life, makes a man hard Oh, darlin\\' There\\'s something happy and there\\'s something sad \\'Bout wanting somebody, oh so bad I wear my love darlin\\', without shame I\\'d be proud if you would wear my name Oh My darlin\\' Ooh my darlin\\' My darlin\\' Oh oh Well It\\'s Saturday night You\\'re all dressed up in blue I been watching you awhile Maybe you been watching me too So somebody ran out Left somebody\\'s heart in a mess Well if you\\'re looking for love Honey I\\'m tougher than the rest Some girls they want a handsome Dan Or some good-lookin\\' Joe On their arm some girls like a sweet-talkin\\' Romeo Well \\'round here baby I learned you get what you can get So if you\\'re rough enough for love Honey I\\'m tougher than the rest The road is dark And it\\'s a thin thin line But I want you to know I\\'ll walk it for you any time Maybe your other boyfriends Couldn\\'t pass the test Well if you\\'re rough and ready for love Honey I\\'m tougher than the rest Well it ain\\'t no secret I\\'ve been around a time or two Well I don\\'t know baby maybe you\\'ve been around too Well there\\'s another dance All you gotta do is say yes And if you\\'re rough and ready for love Honey I\\'m tougher than the rest If you\\'re rough enough for love Baby I\\'m tougher than the rest I don\\'t need your answered prayers Or the chains your lover wears I don\\'t need your rings of gold Or the secrets that you hold Lift me up, darling Lift me up and I\\'ll fall with you lift me up Let your love lift me up I don\\'t need your sacred vow Or the promise tomorrow brings There behind the morning clouds I\\'ll take the faith the daylight brings Lift me up, darling Lift me up, and I\\'ll fall with you lift me up Let your love lift me up When the morning bright Lifts away this night And the light above We will find our love, we will find our love Your skin, your hand upon my neck This skin, your fingers on my skin This kiss, this heartbeat this breath This heart, this heart this wilderness Lift me up darling Lift me up and I\\'ll fall with you lift me up Let your love lift me up I hold you in my arms As the band plays What are those words whispered baby Just as you turn away I saw you last night Out on the edge of town I want to read your mind To know just what I\\'ve got in this new thing I\\'ve found So tell me what I see When I look in your eyes Is that you baby Or just a brilliant disguise I heard somebody call your name From underneath our willow I saw something tucked in shame Underneath your pillow Well I\\'ve tried so hard baby But I just can\\'t see What a woman like you Is doing with me So tell me who I see When I look in your eyes Is that you baby Or just a brilliant disguise Now look at me baby Struggling to do everything right And then it all falls apart When out go the lights I\\'m just a lonely pilgrim I walk this world in wealth I want to know if it\\'s you I don\\'t trust \\'Cause I damn sure don\\'t trust myself Now you play the loving woman I\\'ll play the faithful man But just don\\'t look too close Into the palm of my hand We stood at the alter The gypsy swore our future was right But come the wee wee hours Well maybe baby the gypsy lied So when you look at me You better look hard and look twice Is that me baby Or just a brilliant disguise Tonight our bed is cold Lost in the darkness of our love God have mercy on the man Who doubts what he\\'s sure of So let the frozen sands crumble, crumble and fall Yeah that\\'s all right, I don\\'t mind at all Well let it all tumble right into the sea Yeah that\\'s all right, that\\'s fine with me Since you came down the line I don\\'t sleep at night I got one thing on my mind And so every day, every night I wanna be with you I wanna be with you That\\'s what I wanna do \\'cause you\\'re so out of sight I wanna be with you I wanna be with you That\\'s what I wanna do Well I lost my job at the texaco station Instead of pumpin\\' gas I dreamed of you I got thrown out of my house I got such a bad reputation \\'cause all I wanna do is be seen with you They gave me my pay and said walk I don\\'t care what they say Go ahead and let \\'em all talk Until the world falls apart I wanna be with you I wanna be with you That\\'s what I wanna do Until they rip out my heart I wanna be with you I wanna be with you That\\'s what I wanna do Bedtime, hold tight, love me just a little bit All night, a little bit more Tonight, tonight ... Oh I don\\'t know, I don\\'t know I don\\'t understand ityou ain\\'t pretty at all But I come when you whisper I run when you call And baby I can\\'t stand it And baby that\\'s all Ridin\\' by your side in my car Oh, oh I wanna be with you I wanna be with you Darlin\\' don\\'t you know Oh, oh I wanna be with you I wanna be with you Because I love you so I was tryin\\' to find my way home But all I heard was a drone Bouncing off a satellite Crushin\\' the last lone American night This is radio nowhere, is there anybody alive out there? This is radio nowhere, is there anybody alive out there? I was spinnin\\' \\'round a dead dial Just another lost number in a file Dancin\\' down a dark hole Just searchin\\' for a world with some soul This is radio nowhere, is there anybody alive out there? This is radio nowhere, is there anybody alive out there? Is there anybody alive out there? I just want to hear some rhythm I just want to hear some rhythm I just want to hear some rhythm I just want to hear some rhythm I want a thousand guitars I want pounding drums I want a million different voices speaking in tongues This is radio nowhere, is there anybody alive out there? This is radio nowhere, is there anybody alive out there? Is there anybody alive out there? I was driving through the misty rain Yeah searchin\\' for a mystery train Boppin\\' through the wild blue Tryin\\' to make a connection with you This is radio nowhere, is there anybody alive out there? This is radio nowhere, is there anybody alive out there? Is there anybody alive out there? I just want to feel some rhythm I just want to feel some rhythm I just want to feel your rhythm I just want to feel your rhythm I just want to feel your rhythm I just want to feel your rhythm I just want to feel your rhythm I just want to feel your rhythm I stood stone-like at midnight, suspended in my masquerade I combed my hair till it was just right and commanded the night brigade I was open to pain and crossed by the rain and I walked on a crooked crutch I strolled all alone through a fallout zone and come out with my soul untouched I hid in the clouded wrath of the crowd, but when they said, \"Sit down,\" I stood up Ooh...growin\\' up The flag of piracy flew from my mast, my sails were set wing to wing I had a jukebox graduate for first mate, she couldn\\'t sail but she sure could sing I pushed b-52 and bombed them with the blues with my gear set stubborn on standing I broke all the rules, strafed my old high school, never once gave thought to landing I hid in the clouded wrath of the crowd, but when they said, \"Come down,\" I threw up Ooh...growin\\' up I took month-long vacations in the stratosphere, and you know it\\'s really hard to hold your breath I swear I lost everything I ever loved or feared, I was the cosmic kid in full costume dress Well, my feet they finally took root in the earth, but I got me a nice little place in the stars And I swear I found the key to the universe in the engine of an old parked car I hid in the mother breast of the crowd, but when they said, \"Pull down,\" I pulled up Ooh...growin\\' up Ooh...growin\\' up Can\\'t see nothin\\' in front of me Can\\'t see nothin\\' coming up behind Make my way through this darkness I can\\'t feel nothing but this chain that binds me Lost track of how far I\\'ve gone How far I\\'ve gone, how high I\\'ve climbed On my back\\'s a sixty pound stone On my shoulder a half mile of line Come on up for the rising Come on up, lay your hands in mine Come on up for the rising Come on up for the rising tonight Left the house this morning Bells ringing filled the air I was wearin\\' the cross of my calling On wheels of fire I come rollin\\' down here Come on up for the rising Come on up, lay your hands in mine Come on up for the rising Come on up for the rising tonight Li, li, li, li, li, li, li, li, li, li, li, li, li, li, li, li, li There\\'s spirits above and behind me Faces gone black, eyes burnin\\' bright May their precious blood bind me Lord, as I stand before your fiery light Li, li, li, li, li, li, li, li, li, li, li, li, li, li, li, li, li I see you Mary in the garden In the garden of a thousand sighs There\\'s holy pictures of our children Dancin\\' in a sky filled with light May I feel your arms around me May I feel your blood mix with mine A dream of life comes to me Like a catfish dancin\\' on the end of my line Sky of blackness and sorrow (a dream of life) Sky of love, sky of tears (a dream of life) Sky of glory and sadness (a dream of life) Sky of mercy, sky of fear (a dream of life) Sky of memory and shadow (a dream of life) Your burnin\\' wind fills my arms tonight Sky of longing and emptiness (a dream of life) Sky of fullness, sky of blessed life Come on up for the rising Come on up, lay your hands in mine Come on up for the rising Come on up for the rising tonight Li, li, li, li, li, li, li, li, li, li, li, li, li, li, li, li, li Two, three, four Have you ever seen a one trick pony in the field so happy and free? If you\\'ve ever seen a one trick pony then you\\'ve seen me Have you ever seen a one-legged dog making his way down the street? If you\\'ve ever seen a one-legged dog then you\\'ve seen me Then you\\'ve seen me, I come and stand at every door Then you\\'ve seen me, I always leave with less than I had before Then you\\'ve seen me, bet I can make you smile when the blood, it hits the floor Tell me, friend, can you ask for anything more? Tell me can you ask for anything more? Have you ever seen a scarecrow filled with nothing but dust and wheat? If you\\'ve ever seen that scarecrow then you\\'ve seen me Have you ever seen a one-armed man punching at nothing but the breeze? If you\\'ve ever seen a one-armed man then you\\'ve seen me Then you\\'ve seen me, I come and stand at every door Then you\\'ve seen me, I always leave with less than I had before Then you\\'ve seen me, bet I can make you smile when the blood, it hits the floor Tell me, friend, can you ask for anything more? Tell me can you ask for anything more? These things that have comforted me, I drive away This place that is my home I cannot stay My only faith\\'s in the broken bones and bruises I display Have you ever seen a one-legged man trying to dance his way free? If you\\'ve ever seen a one-legged man then you\\'ve seen me Well now you may think I\\'m foolish For the foolish things I do You may wonder how come I love you When you get on my nerves like you do Well baby you know you bug me There ain\\'t no secret \\'bout that Well come on over here and hug me Baby I\\'ll spill the facts Well honey it ain\\'t your money \\'Cause baby I got plenty of that I love you for your pink Cadillac Crushed velvet seats Riding in the back Cruising down the street Waving to the girls Feeling out of sight Spending all my money On a Saturday night Honey I just wonder what you do there in back Of your pink Cadillac Pink Cadillac Well now way back in the Bible Temptations always come along There\\'s always somebody tempting Somebody into doing something they know is wrong Well they tempt you, man, with silver And they tempt you, sir, with gold And they tempt you with the pleasures That the flesh does surely hold They say Eve tempted Adam with an apple But man I ain\\'t going for that I know it was her pink Cadillac Crushed velvet seats Riding in the back Oozing down the street Waving to the girls Feeling out of sight Spending all my money On a Saturday night Honey I just wonder what it feels like in the back Of your pink Cadillac Pink Cadillac Now some folks say it\\'s too big And uses too much gas Some folks say it\\'s too old And that it goes too fast But my love is bigger than a Honda Yeah, it\\'s bigger than a Subaru Hey man there\\'s only one thing And one car that will do Anyway we don\\'t have to drive it Honey we can park it out in the back And have a party in your pink Cadillac Crushed velvet seats Riding in the back Cruising down the street Waving to the girls Feeling out of sight Spending all my money On a Saturday night Honey I just wonder what you do there in back Of your pink Cadillac Pink Cadillac Pink Cadillac Pink Cadillac Pink Cadillac Pink Cadillac Pink Cadillac Pink Cadillac Pink Cadillac She\\'ll let you in her house If you come knockin\\' late at night She\\'ll let you in her mouth If the words you say are right If you pay the price She\\'ll let you deep inside But there\\'s a secret garden she hides She\\'ll let you in her car To go drivin\\' round She\\'ll let you into the parts of herself That\\'ll bring you down She\\'ll let you in herheart If you got a hammer and a vise But into her secret garden, don\\'t think twice You\\'ve gone a million miles How far\\'d you get To that place where You can\\'t remember And you can\\'t forget She\\'ll lead you down a path There\\'ll be tenderness in the air She\\'ll let you come just far enough So you know she\\'s really there She\\'ll look at you and smile And her eyes will say She\\'s got a secret garden Where everything you want Where everything you need Will always stay A million miles away My name is Joe Roberts, I work for the state I\\'m a sergeant out of Perrineville, barracks number 8 I always done an honest job, as honest as I could I got a brother named Franky, and Franky ain\\'t no good Now ever since we was young kids, it\\'s been the same come down I get a call on the shortwave, Franky\\'s in trouble downtown Well if it was any other man, I\\'d put him straight away But when it\\'s your brother sometimes you look the other way Yeah me and Franky laughin\\' and drinkin\\', nothin\\' feels better than blood on blood Takin\\' turns dancin\\' with Maria as the band played \"Night of the Johnstown Flood\" I catch him when he\\'s strayin\\', like any brother would Man turns his back on his family, well he just ain\\'t no good Well Franky went in the army back in 1965 I got a farm deferment, settled down, took Maria for my wife But them wheat prices kept on droppin\\' till it was like we were gettin\\' robbed Franky came home in \\'68 and me I took this job Yeah we\\'re laughin\\' and drinkin\\', nothin\\' feels better than blood on blood Takin\\' turns dancin\\' with Maria as the band played \"Night of the Johnstown Flood\" I catch him when he\\'s strayin\\', teach him how to walk that line Man turns his back on his family, he ain\\'t no friend of mine Well the night was like any other, well I got a call \\'bout quarter to nine There was trouble in a roadhouse out on the Michigan line There was a kid lyin\\' on the floor lookin\\' bad, bleedin\\' hard from his head There was a girl cryin\\' at a table and it was Frank, they said Well I went out and I jumped in my car and I hit the lights Well I musta done a hundred and ten through Michigan County that night It was out at the crossroads, down \\'round Willow bank Seen a Buick with Ohio plates, behind the wheel was Frank Well I chased him through them county roads Till a sign said \"Canadian border five miles from here\" I pulled over the side of the highway and watched his taillights disappear Me and Franky laughin\\' and drinkin\\', nothin\\' feels better than blood on blood Takin\\' turns dancin\\' with Maria as the band played \"Night of the Johnstown Flood\" I catch him when he\\'s strayin\\' like any brother would Man turns his back on his family, he just ain\\'t no good I thought I heard the Captain say, Pay me my money down, Tomorrow is our sailing day, Pay me my money down Oh pay me, oh pay me, Pay me my money down, Pay me or go to jail, Pay me my money down As soon as the boat was clear of the bar, Pay me my money down, The captain knocked me down with a spar, Pay me my money down Oh pay me, oh pay me, Pay me my money down, Pay me or go to jail, Pay me my money down If I\\'d been a rich man\\'s son, Pay me my money down, I\\'d sit on the river and watch it run, Pay me my money down Oh pay me, oh pay me, Pay me my money down, Pay me or go to jail, Pay me my money down (trumpet) well... I wish I was Mr Gates, Pay me my money down, They\\'d haul my money in in crates, Pay me my money down Oh pay me, oh pay me, Pay me my money down, Pay me or go to jail, Pay me my money down Well 40 nights, nights at sea Pay me my money down, Captain worked every last dollar out of me, Pay me my money down Oh pay me, oh pay me, Pay me my money down, Pay me or go to jail, Pay me my money down Oh pay me, oh pay me, Pay me my money down, Pay me or go to jail, Pay me my money down ...pay me my money down.... ...pay me my money down.... ...pay me my money down.... At night I go to bed But I just can\\'t sleep I got something runnin\\' around my head Ooh that just won\\'t keep In the silence I hear my heart beatin\\' Time slippin\\' away I got a time bomb tickin\\' deep inside of me Girl all I want to say I keep searchin\\' for you darlin\\' Searchin everywhere I go And when I find you there\\'s gonna be just one thing that you gotta know One thing you gotta know My love, love, love, love, love, love, will not let you down My love, love, love, love, love, love, will not let you down At night I walk the streets lookin\\' for romance But I always end up stumblin\\' in a half trance I search for a connection in some new eyes That hardly protect you from too many dreams passed by I see you standin, across the room watchin\\' me without a sound I\\'m gonna push my way through that crowd I\\'m gonna tear your holy walls down Tear all your walls down My love, love, love, love, love, love, will not let you down My love, love, love, love, love, love, will not let you down My love, love, love, love, love, love, will not let you down My love, love, love, love, love, love, will not let you down Well hold still now darlin\\' Hold still for god\\'s sake Cause I got me a promise I ain\\'t afraid to make (I ain\\'t afraid to make) My love, love, love, love, love, love, will not let you down My love, love, love, love, love, love, will not let you down My love, love, love, love, love, love, will not let you down My love, love, love, love, love, love, will not let you down My love, love, love, love, love, love, will not let you down My love, love, love, love, love, love, will not let you down My love, love, love, love, love, love, will not let you down My love, love, love, love, love, love, will not let you down Well the street lights shine Down on Blessing Avenue Lovers they walk by Holdin\\' hands two by two A breeze crosses the porch Bicycle spokes spin \\'round Jacket\\'s on, I\\'m out the door Tonight I\\'m gonna burn this town down And the girls in their summer clothes In the cool of the evening light The girls in their summer clothes Pass me by Kid\\'s rubber ball smacks Off the gutter \\'neath the lamp light Big bank clock chimes Off go the sleepy front porch lights Downtown the store\\'s alive As the evening\\'s underway Things been a little tight But I know they\\'re gonna turn my way And the girls in their summer clothes In the cool of the evening light The girls in their summer clothes Pass me by Frankie\\'s Diner\\'s Over on the edge of town Neon sign spinnin\\' round Like a cross over the lost and found Fluorescent lights Flicker above Bob\\'s Grill Shaniqua brings a coffee and asks \"fill?\" And says \"penny for your thoughts now my boy Bill\" She went away She cut me like a knife Hello beautiful thing Maybe you could save my life In just a glance Down here on Magic Street Love\\'s a fool\\'s dance I ain\\'t got much sense but I still got my feet And the girls in their summer clothes In the cool of the evening light The girls in their summer clothes Pass me by And the girls in their summer clothes In the cool of the evening light The girls in their summer clothes Pass me by La la la la, la la la la la la la La la la la, la la la la la la la La la la la, la la la la la la la La la la la, la la la la la la la I was bruised and battered, I couldn\\'t tell what I felt I was unrecognizable to myself Saw my reflection in a window and didn\\'t know my own face Oh brother are you gonna leave me wastin\\' away On the streets of Philadelphia I walked the avenue, \\'til my legs felt like stone, I heard the voices of friends, vanished and gone, At night I could hear the blood in my veins, It was just as black and whispering as the rain, On the streets of Philadelphia Ain\\'t no angel gonna greet me It\\'s just you and I my friend And my clothes don\\'t fit me no more, A thousand miles Just to slip this skin Night has fallen, I\\'m lyin\\' awake, I can feel myself fading away, So receive me brother with your faithless kiss, Or will we leave each other alone like this On the streets of Philadelphia On a rattlesnake speedway in the Utah desert I pick up my money and head back into town Driving \\'cross the Waynesboro county line I got the radio on and I\\'m just killing time Working all day in my daddy\\'s garage Driving all night chasing some mirage Pretty soon little girl I\\'m gonna take charge The dogs on Main Street howl \\'Cause they understand If I could take one moment into my hands Mister I ain\\'t a boy, no, I\\'m a man And I believe in a promised land I\\'ve done my best to live the right way I get up every morning and go to work each day But your eyes go blind and your blood runs cold Sometimes I feel so weak I just want to explode Explode and tear this whole town apart Take a knife and cut this pain from my heart Find somebody itching for something to start The dogs on Main Street howl \\'Cause they understand If I could wrench one moment into my hands Mister I ain\\'t a boy, no, I\\'m a man And I believe in a promised land Well there\\'s a dark cloud rising from the desert floor I packed my bags and I\\'m heading straight into the storm Gonna be a twister to blow everything down That ain\\'t got the faith to stand its ground Blow away the dreams that tear you apart Blow away the dreams that break your heart Blow away the lies that leave you nothing but lost and brokenhearted The dogs on Main Street howl \\'Cause they understand If I could take one moment into my hands Mister I ain\\'t a boy, no I\\'m a man And I believe in a promised land And I believe in a promised land And I believe in a promised land I was born right here on randolph street in freehold Here right behind that big red maple in freehold Well, I went to school right here Got laid and had my first beer In freehold Well, my folks always lived and worked right here in freehold I remember running up the street, past the condo to the church here in Freehold Chase my daddy down in these bars First fell in love with this guitar Here in frehold Well, I had my first kiss at the ymca canteen on a friday night Maria espenoza tell me where are you tonight? You were 13 but way ahead of your time I walked home with a limb but I felt fine That night in freehold Well, the girls at freehold regional they looked pretty fine And my heart broke at least half a dozen times I wonder if they miss me, they still get the itch Would they have dumped me if they knew I\\'d strike a bridge? Straight out of freehold Well, tex, rest in peace, and marion gave us kids a hand in freehold George and me started up a little rock and roll band in freehold Well, we learned pretty quick how to rock I\\'ll never forget the feeling of that first 5 bucks in my pocket That I earned in freehold Well, I got outta here really hard and fast in freehold Everybody wanted to kick my ass back there in freehold Well, if you were different, black or brown It was a bit of a redneck town Back then in freehold Well, something broke my daddy\\'s back in freehold In \\'69 he left and he never come back to freehold \\'cept once he drove from california, 3000 miles in three days Called my relatives some dirty names And pulled straight out of freehold My sister had her first little baby at 17 in freehold Well people they can be pretty mean Honey, you had a rough road to go, but you ain\\'t made of nothin\\' but soul I love you more than you\\'ll ever know We both survived freehold Well, my buddy mike, well, he\\'s the mayor now in freehold I remember when we used to have a lot more hair in freehold Well, I left and swore I\\'d never walk these streets again, jack Tonight all I can say is \"holy shit, I\\'m back!\" Back in freehold Well, this summer everything was green in freehold Rode my kids on the fire engine through the streets of freehold I showed \\'em where their dad was born and raised And first felt the sun on his face There in freehold Well, I still got a lot of good friends right here in town I can usually find me a free beer somewhere With offers of free meals I am blessed Should I go crazy, blow all my money and ruin my life, well, at least i\\'ll Never go hungry I guess Here in freehold Well, I got a good catholic education here in freehold Led to an awful lot of masturbation here in freehold Father, it was just something I did for a smile Hell, I still get a good one off once in a while And dedicate it to freehold Don\\'t get me wrong, I ain\\'t puttin\\' anybody down Hell, in the end it all just goes and comes around It\\'s one hell of a town, freehold! Some need gold and some need diamond rings Or a drug to take away the pain that living brings Promise of a better world to come When whatever here is done I don\\'t need that sky of blue, babe All I know since I found you I\\'m happy when I\\'m in your arms Happy, darling, come the dark Happy when I taste your kiss I\\'m happy in a love like this There\\'s a house upon a distant hill Where you can hear the laughter of children ring Guardian angels, they watch from above Guarding over the love that they bring But at night I feel the darkness near And I awake and I find you near I\\'m happy with you in my arms Happy with you in my heart Happy when I taste your kiss I\\'m happy in a love like this In a world of doubt and fear I wake at night and reach to find you near Lost in a dream, you caught me as I fell I want more than just a dream to tell Born in this world, darling, with few days And trouble never far behind Man and woman circle each other in a cage A cage that\\'s been handed down the line Lost and running \\'neath a million dead stars Tonight let\\'s shed our skins and slip these bars Happy in each other\\'s arms Happy baby, come the dark Happy in each other\\'s kiss I m happy in a love like this We said we\\'d walk together baby come what may That come the twilight should we lose our way If as we\\'re walking a hand should slip free I\\'ll wait for you And should I fall behind Wait for me We swore we\\'d travel darlin\\' side by side We\\'d help each other stay in stride But each lover\\'s steps fall so differently But I\\'ll wait for you And if I should fall behind Wait for me Now everyone dreams of love lasting and true Oh, but you and I know what this world can do So let\\'s make our steps clear that the other may see I\\'ll wait for you And if I should fall behind Wait for me Now there\\'s a beautiful river in the valley ahead There \\'neath the oak\\'s bough soon we will be wed Should we lose each other in the shadow of the evening trees I\\'ll wait for you Should I fall behind Wait for me Darlin\\' I\\'ll wait for you Should I fall behind Wait for me Yeah, I\\'ll wait for you Should I fall behind Wait for me I\\'ll wait for you Should I fall behind Wait for me (J.& N. Cassidy) When I was a little kid I never liked to eat Mom would put things on my plate And I\\'d dump \\'em on her feet But then one day she made this soup I ate it all in bed I asked her what she put in it And this is what she said: \"Oh, chicken lips and lizard hips And alligator eyes Monkey legs and buzzard eggs And salamander thighs Rabbit ears and camel rears And tasty toenail pies Stir \\'em all together And it\\'s mama\\'s soup surprise\" I went into the bathroom And I stood beside the sink I said, \"I\\'m feeling slightly ill And I think I\\'d like a drink\" Mama said, \"I\\'ve just the thing I\\'ll get it in a wink It\\'s full of lots of protein And vitamins, I think\" \"Oh, chicken lips and lizard hips And alligator eyes Monkey legs and buzzard eggs And salamander thighs Rabbit ears and camel rears And tasty toenail pies Stir \\'em all together And it\\'s mama\\'s soup surprise\" Your Mamma\\'s yappin\\' in the back seat Tell her to push over and move them big feet Every Monday morning I gotta drive her down to the unemployment agency Well this morning I ain\\'t fighting tell her I give up Tell her she wins if she\\'ll just shut up But it\\'s the last time that she\\'s gonna be ridin\\' with me You can tell her there\\'s a hot sun beatin\\' on the black top She keeps talkin\\' she\\'ll be walkin\\' that last block She can take a subway back to the ghetto tonight Well I got some beer and the highway\\'s free And I got you, and baby you\\'ve got me Hey, hey, hey what you say Sherry Darlin\\' Now there\\'s girls melting on the beach And they\\'re so fine but so out of reach \\'Cause I\\'m stuck in traffic down here on fifty third street Now Sherry my love for you is real But I didn\\'t count on this package deal And baby this car just ain\\'t big enough for her and me So you can tell her there\\'s a hot sun beatin\\' on the black top She keeps talkin\\' she\\'ll be walkin\\' that last block She can take a subway back to the ghetto tonight Well I got some beer and the highway\\'s free And I got you, and baby you\\'ve got me Hey, hey, hey what you say Sherry Darlin\\' Well let there be sunlight, let there be rain Let the brokenhearted love again Sherry we can run with our arms open wide before the tide To all the girls down at Sacred Heart And all you operators back in the park Say hey, hey, hey what you say Sherry Darlin\\' Ho, ho, ho, say, hey, hey, what you say Sherry Darlin\\', oh come on Say hey, hey, hey, what you say Sherry Darlin\\' Well my soul checked out missing as I sat listening To the hours and minutes tickin\\' away Yeah just sittin\\' around waitin\\' for my life to begin While it was all just slippin\\' away I\\'m tired of waitin\\' for tomorrow to come Or that train to come roarin\\' round the bend I got a new suit of clothes a pretty red rose And a woman I can call my friend These are better days baby Yeah there\\'s better days shining through These are better days baby Better days with a girl like you Well I took a piss at fortune\\'s sweet kiss It\\'s like eatin\\' caviar and dirt It\\'s a sad funny ending to find yourself pretending A rich man in a poor man\\'s shirt Now my ass was draggin\\' when from a passin\\' gypsy wagon Your heart like a diamond shone Tonight I\\'m layin\\' in your arms carvin\\' lucky charms Out of these hard luck bones These are better days baby These are better days it true These are better days There\\'s better days shining through Now a life of leisure and pirate\\'s treasure Don\\'t make much for tragedy But it\\'s a sad man my friend who\\'s livin\\' in his own skin And can\\'t stand the company Every fool\\'s got a reason for feelin\\' sorry for himself And turning his heart to stone Tonight this fool\\'s halfway to heaven and just a mile outta hell And I feel like I\\'m comin\\' home These are better days baby There\\'s better days shining through These are better days Better days with a girl like you These are better days baby These are better days it\\'s true These are better days Better days are shining through Put on my blue suede shoes and I boarded the plane Touched down in the land of the Delta Blues In the middle of the pouring rain W.C. Handy, won\\'t you look down over me? Yeah, I got a first class ticket but I\\'m as blue as a boy can be Then I\\'m walking in Memphis I was walking with my feet ten feet off of Beale Walking in Memphis But do I really feel the way I feel? Saw the ghost of Elvis on Union Avenue Followed him up to the gates of Graceland Then I watched him walk right through Now security they did not see him They just hovered \\'round his tomb But there\\'s a pretty little thing Waiting for the King Down in the Jungle Room Then I was walking in Memphis I was walking with my feet ten feet off of Beale Walking in Memphis But do I really feel the way I feel? They\\'ve got catfish on the table, they\\'ve got gospel in the air And Reverend Green, be glad to see you When you haven\\'t got a prayer? But boy you\\'ve got a prayer in Memphis Now, Muriel plays piano every Friday at the Hollywood And they brought me down to see her And they asked me if I would do a little number And I sang with all my might And she said, Tell me, are you a Christian child?\" And I said \"Ma\\'am, I am tonight\" Walking in Memphis I was walking with my feet ten feet off of Beale Walking in Memphis But do I really feel the way I feel? Walking in Memphis I was walking with my feet ten feet off of Beale Walking in Memphis But do I really feel the way I feel? Put on my blue suede shoes and I boarded the plane Touched down in the land of the Delta blues In the middle of the pouring rain Touched down in the land of the Delta blues In the middle of the pouring rain Well if I could I surely would Stand on the rock where Moses stood Pharaoh\\'s army got drowned O Mary don\\'t you weep O Mary don\\'t you weep, don\\'t mourn O Mary don\\'t you weep, don\\'t mourn Pharaoh\\'s army got drowned O Mary don\\'t you weep Well Mary wore 3 links of chain On every link was Jesus\\' name Pharaoh\\'s army got drowned O Mary don\\'t you weep O Mary don\\'t you weep, don\\'t mourn O Mary don\\'t weep, don\\'t mourn Pharaoh\\'s army got drowned O Mary don\\'t weep Well one of theses nights bout 12 o\\'clock This old world is gonna rock Pharaoh\\'s army got drowned O Mary don\\'t weep Well Moses stood on the Red Sea shore And smote\\' the water with a two by four Pharaoh\\'s army got drowned O Mary don\\'t weep O Mary don\\'t weep, don\\'t mourn O Mary don\\'t weep, don\\'t mourn Pharaoh\\'s army got drowned O Mary don\\'t weep Well old Mr. Satan he got mad Missed that soul that he thought he had Pharaoh\\'s army got drownded O Mary don\\'t you weep Brothers and sisters don\\'t you cry They\\'ll be good times by and by Pharaoh\\'s army got drowned O Mary don\\'t weep O Mary don\\'t weep, don\\'t mourn O Mary don\\'t weep, don\\'t mourn Pharaoh\\'s army got drowned O Mary don\\'t weep O Mary don\\'t you weep, don\\'t mourn O Mary don\\'t you weep, don\\'t mourn Pharaoh\\'s army got drowned O Mary don\\'t you weep God gave Noah the rainbow sign Said, \"No more water but fire next time\" Pharaoh\\'s army got drowned O Mary don\\'t weep O Mary don\\'t you weep, don\\'t mourn O Mary don\\'t weep, don\\'t mourn Pharaoh\\'s army got drowned O Mary don\\'t weep O Mary don\\'t weep, don\\'t mourn O Mary don\\'t weep, don\\'t mourn Pharaoh\\'s army got drowned O Mary don\\'t weep O Mary don\\'t weep, don\\'t mourn O Mary don\\'t weep, don\\'t mourn Pharaoh\\'s army got drowned O Mary don\\'t weep O Mary don\\'t you weep, don\\'t mourn O Mary don\\'t you weep, don\\'t mourn Pharaoh\\'s army got drowned O Mary don\\'t Woke up this morning my house was cold Checked out the furnace she wasn\\'t burnin\\' Went out and hoped in my old Ford Hit the engine but she ain\\'t turnin\\' We\\'ve given each other some hard lessons lately But we ain\\'t learnin\\' We\\'re the same sad story that\\'s a fact One step up and two steps back Bird on a wire outside my motel room But he ain\\'t singin\\' Girl in white outside a church in June But the church bells they ain\\'t ringing I\\'m sittin\\' here in this bar tonight But all I\\'m thinkin\\' is I\\'m the same old story same old act One step up and two steps back It\\'s the same thing night on night Who\\'s wrong baby who\\'s right Another fight and I slam the door on Another battle in our dirty little war When I look at myself I don\\'t see The man I wanted to be Somewhere along the line I slipped off track I\\'m caught movin\\' one step up and two steps back There\\'s a girl across the bar I get the message she\\'s sendin\\' Mmm she ain\\'t lookin\\' to married And me well honey I\\'m pretending Last night I dreamed I held you in my arms The music was never-ending We danced as the evening sky faded to black One step up and two steps back Last night I dreamed that I was a child Out where the pines grow wild and tall I was trying to make it home through the forest Before the darkness falls I heard the wind rustling through the trees And ghostly voices rose from the fields I ran with my heart pounding down that broken path With the devil snapping at my heels I broke through the trees and there in the night My father\\'s house stood shining hard and bright The branches and brambles tore my clothes and scratched my arms But I ran till I fell shaking in his arms I awoke and I imagined, the hard things that pulled us apart Will never again, sir, tear us from each other\\'s hearts I got dressed and to that house I did ride From out on the road I could see its windows shining in light I walked up the steps and stood on the porch A woman I didn\\'t recognize came and spoke to me through a chained door I told her my story and who I\\'d come for She said \"I\\'m sorry son but no one by that name lives here anymore\" My father\\'s house shines hard and bright It stands like a beacon calling me in the night Calling and calling, so cold and alone Shining \\'cross this dark highway where our sins lie unatoned Well you don\\'t like, don\\'t like the way I walk And you don\\'t like, don\\'t like the way I talk You criticize about me endlessly Logic defies how you get stuck with me And you complain about the clothes I wear And you explain there\\'s other boys out there You complain my car makes too much noise And you cry I\\'m always out with the boys Whoa whoa (whoa whoa whoa whoa) I give up little darling (whoa whoa little darling) Yeah no matter what I do, girl you know it\\'s true Ain\\'t good enough for you You complain the way I love you at night You explain I\\'m really not your type If we go out, you say I\\'m such a bore If we stay in, you say what are we living for I don\\'t understand, there\\'s nothing I can do There ain\\'t no way I can satisfy you End of the night I lean in for a kiss Here comes the pitch, a swing and a miss Whoa whoa whoa whoa (whoa whoa whoa whoa) I quit little darling (whoa whoa little darling) Yeah no matter what I do, well you know it\\'s true Ain\\'t good enough for you, hey! Hey! (Come on boys!) Whoa whoa whoa whoa (whoa whoa whoa whoa) Hey hey little darling (whoa whoa little darling) No matter what I do, girl you know it\\'s true Ain\\'t good enough for you I tried to change, I got a job in sales I bought a shirt uptown in Bloomindales And babe I tried to make the latest scene Hitting cool just like Jimmy Iovine I bought a record with all the latest grooves A book of love with all the latest moves I bought some flowers and I waited at your door And you came out, didn\\'t want to see me no more Whoa whoa whoa (whoa whoa whoa whoa) I quit little darling (whoa whoa little darling) Yeah no matter what I do, girl you know it\\'s true Ain\\'t good enough for you Hey! Hey! Hey! No matter what I do, girl you know it\\'s true Ain\\'t good enough for you Aww no matter what I do, girl you know it\\'s true Ain\\'t good enough for you Whoaaa! We played king of the mountain out on the end The world come chargin\\' up the hill, and we were women and men Now there\\'s so much that time, time and memory fade away We got our own roads to ride and chances we gotta take We stood side by side each one fightin\\' for the other We said until we died we\\'d always be blood brothers Now the hardness of this world slowly grinds your dreams away Makin\\' a fool\\'s joke out of the promises we make And what once seemed black and white turns to so many shades of gray We lose ourselves in work to do and bills to pay And it\\'s a ride, ride, ride, and there ain\\'t much cover With no one runnin\\' by your side my blood brother On through the houses of the dead past those fallen in their tracks Always movin\\' ahead and never lookin\\' back Now I don\\'t know how I feel, I don\\'t know how I feel tonight If I\\'ve fallen \\'neath the wheel, if I\\'ve lost or I\\'ve gained sight I don\\'t even know why, I don\\'t know why I made this call Or if any of this matters anymore after all But the stars are burnin\\' bright like some mistery uncovered I\\'ll keep movin\\' through the dark with you in my heart My blood brother Do you still say your prayers little darlin\\' Do you go to bed at night Prayin\\' that tomorrow, everything will be alright But tomorrow\\'s fall in number In number one by one You wake up and you\\'re dying You don\\'t even know what from Well they shot you point blank You been shot in the back Baby point blank you been fooled this time Little girl that\\'s a fact Right between the eyes, baby, point blank Right between the pretty lies that they tell Little girl you fell You grew up where young girls they grow up fast You took what you were handed and left behind what was asked But what they asked baby wasn\\'t right You didn\\'t have to live that life I was gonna be your Romeo you were gonna be my Juliet These days you don\\'t wait on Romeos You wait on that welfare check And on all the pretty things that you can\\'t ever have And on all the promises That always end up point blank Shot between the eyes Oh, point blank Like little white lies you tell to ease the pain You\\'re walkin\\' in the sights, girl of point blank And it\\'s one false move and baby the lights go out Once I dreamed we were together again Baby you and me Back home in those old clubs the way we used to be We were standin\\' at the bar It was hard to hear The band was playin\\' loud and you were shoutin\\' somethin\\' in my ear You pulled my jacket off and as the drummer counted four You grabbed my hand and pulled me out on the floor You just stood there and held me, then you started dancin\\' slow And as I pulled you tighter I swore I\\'d never let you go Well I saw you last night down on the avenue Your face was in the shadows but I knew that it was you You were standin\\' in the doorway out of the rain You didn\\'t answer when I called out your name You just turned, and then you looked away Like just another stranger waitin\\' to get blown away Point blank Right between the eyes Oh, point blank Right between the pretty lies you fell Point blank Shot straight through the heart Yeah point blank You\\'ve been twisted up \\'til you\\'ve become just another part of it Point blank, you\\'re walkin\\' in the sights Point blank Livin\\' one false move just one false move away Point blank They caught you in their sights Point blank Did you forget how to love Girl, did you forget how to fight Point blank They must have shot you in the head \\'Cause point blank Bang bang baby you\\'re dead Woke up this morning, was a chill in the air Went into the kitchen, your cigarettes were lying there Your jacket hung on the chair where you left it last night Everything was in place, everything was all right But you were missing Missing... Last night I dreamed the sky went black You were drifting down and you couldn\\'t get back You were lost and in trouble so far from home I reached for you, my arms went to stone I woke and you were missing Missing... I searched for something to explain In the whispering rain, the trembling leaves Tell me baby where did you go You were here just a moment ago There\\'s nights I still hear your footsteps fall Your key in the door, your voice in the hall Your smell drifts through our bedroom I wake, but I don\\'t move With her killer graces and her secret places that no boy can fill With her hands on her hips, oh, and that smile on her lips because she knows that it kills me With her soft French cream, standing in that doorway like a dream, I wish she\\'d just leave me alone Because French cream won\\'t soften them boots and French kisses will not break that heart of stone With her long hair falling and her eyes that shine like a midnight sun Whoa-oh, she\\'s the one She\\'s the one That thunder in your heart at night when you\\'re kneeling in the dark, it say\\'s you\\'re never gonna leave her But there\\'s this angel in her eyes that tells such desperate lies and all you want to do is believe her And tonight you\\'ll try just one more time to leave it all behind and to break on through Oh, she can take you, but if she wants to break you, she\\'s gonna find out that ain\\'t so easy to do And no matter where you sleep tonight or how far you run Whoa-oh, she\\'s the one She\\'s the one Oh oh, and just one kiss, she\\'s fill them long summer nights with her tenderness That secret pact you made, back when her love could save you from the bitterness Oh, she\\'s the one Oh, she\\'s the one Oh, she\\'s the one Oh, she\\'s the one Oh, she\\'s the one Oh, she\\'s the one In my dreams our love was lost. I lived by luck and faith. I carried you inside of me, prayed it wouldn\\'t be too late. Now i\\'m standing on this empty road, where nothing moves but the wind. And honey I just wanna be Back in your arms, back in your arms again. Back in your arms, back in your arms again Oh once I was your treasure, and I saw your face in every star. But these promises we make at night, oh that\\'s all they are. Unless we fill them with faith and love they\\'re empty as a howlin\\' wind. And honey I just wanna be Back in your arms, back in your arms again.. Back in your arms, back in your arms again. Back in your arms, back in your arms again. You came to me with love and kindness, but all my life I\\'ve been a prisoner of my own blindness. I met you with indifference, and I don\\'t know why. Now I wake from my dream, I wake from my dream to this world. Where all the shadow and darkness and above me a dark sky unfurls. And all the love I\\'ve thrown away and lost, I\\'m longing for again. Now darling I just wanna be Back in your arms, back in your arms again. Back in your arms, back in your arms again. Back in your arms, back in your arms again. Back in your arms Every day here you come walking I hold my tongue, I don\\'t do much talking You say you\\'re happy and you\\'re doin\\' fine Well go ahead, baby, I got plenty of time Sad eyes never lie Sad eyes never lie Well for a while I\\'ve been watching you steady Ain\\'t gonna move \\'til you\\'re good and ready You show up and then you shy away But I know pretty soon you\\'ll be walkin\\' this way Sad eyes never lie Sad eyes never lie Baby don\\'t you know I don\\'t care Don\\'t you know that I\\'ve been there Well if something in the air feels a little unkind Don\\'t worry darling, it\\'ll slip your mind I know you think you\\'d never be mine Well that\\'s okay, baby, I don\\'t mind That shy smile\\'s sweet, that\\'s a fact Go ahead, I don\\'t mind the act Here you come all dressed up for a date Well one more step and it\\'ll be too late Blue blue ribbon in your hair Like you\\'re so sure I\\'ll be standing here I\\'ve got a mule and her name is Sal Fifteen miles on the Erie Canal She\\'s a good old worker and a good old pal Fifteen miles on the Erie Canal We haul\\'d some barges in our day Filled with lumber, coal and hay We know every inch of the way From Albany to Bufallo Low bridge, ev\\'rybody down Low bridge, we\\'re coming to a town You\\'ll always know your neighbour And you\\'ll always know your pal If ya ever navigated on the Erie Canal We\\'d better look around for a job, old gal Fifteen miles on the Erie Canal You can bet your life I\\'ll never part Sal Fifteen miles on the Erie Canal Get up mule, here comes a lock We\\'ll make Rome \\'bout six o\\'clock One more trip and we\\'ll go Right back home to Buffalo Low bridge, ev\\'rybody down Low bridge, we\\'re coming to a town You\\'ll always know your neighbour And you\\'ll always know your pal If ya ever navigated on the Erie Canal Where would I be if I lost my pal? Fifteen miles on the Erie Canal I\\'d like to see a mule as good as my Sal Fifteen miles on the Erie Canal A friend of mine once got her sore Now he\\'s got a broken jaw \\'Cause she let fly with an iron toe And kicked him back to Bufallo Low bridge, ev\\'rybody down Low bridge, we\\'re coming to a town You\\'ll always know your neighbour And you\\'ll always know your pal If ya ever navigated on the Erie Canal Low bridge, ev\\'rybody down Low bridge, we\\'re coming to a town You\\'ll always know your neighbour And you\\'ll always know your pal If ya made your livin\\' on the Erie Canal Low bridge, ev\\'rybody down Low bridge, we\\'re coming to a town You got your book baby with all your fears Let me honey and I\\'ll catch your tears I\\'ll take your sorrow if you want me to Come tomorrow That\\'s what I\\'ll do Listen to me Janey don\\'t you lose heart Janey don\\'t you lose heart Janey don\\'t you lose heart Janey don\\'t you lose heart Well you say you got no new dreams to touch You feel like a stranger babe who knows too much You come home late and get undressed You lie in bed and feel this emptiness Well listen to me Janey don\\'t you lose heart Janey don\\'t you lose heart Janey don\\'t you lose heart Janey don\\'t you lose heart Well every river, baby, it runs dry Until the sun\\'s torn from the sky Till every feel you\\'ve felt burst free Gone tumblin\\' down into the sea Listen to me Janey don\\'t you lose heart Janey don\\'t you lose heart Janey don\\'t you lose heart Janey don\\'t you lose heart Crazy Janey and her mission man Were back in the alley tradin\\' hands \\'Long came Wild Billy with his friend G-Man All duded up for Saturday night Well, Billy slammed on his coaster brakes And said, \"Anybody want to go on up to Greasy Lake? It\\'s about a mile down on the dark side of Route 88 I got a bottle of rosé so let\\'s try it We\\'ll pick up Hazy Davy and Killer Joe And I\\'ll take you all out to where the gypsy angels go They\\'re build like light And they dance like spirits in the night (all night), in the night (all night) Oh, you don\\'t know what they can do to you Spirits in the night (all night), in the night (all night) Stand up right now and let them shoot through you Well now, Wild Billy was a crazy cat And he shook some dust out of his coonskin cap He said, \"Trust some of this, it\\'ll show you where you\\'re at Or at least it\\'ll help you really feel it\" By the time we made it up to Greasy Lake I had my head out the window and Janey\\'s fingers were in the cake I think I really dug her \\'cause I was too loose to fake I said, I\\'m hurt, she said, honey, let me heal it And we danced all night to a soul fairy band And she kissed me just right, like only a lonely angel can She felt so nice Just as soft as a spirit in the night (all night), in the night (all night) Janey don\\'t know what she do to you Spirit in the night (all night), in the night (all night) Stand right up and let her shoot through me Now, the night was bright and the stars threw light On Billy and Davy dancin\\' in the moonlight They were down near the water in a stone mud fight Killer Joe gone passed out on the lawn Well now, Hazy Davy got really hurt He ran into the lake in just his socks and his shirt Me and Crazy Janey was makin\\' love in the dirt Singin\\' our birthday songs Janey said it was time to go So we closed our eyes and said goodbye to Gypsy Angel Row Felt so right Together we moved like spirits in the night (all night), in the night (all night) Oh you don\\'t know what they can do to you Spirit in the night (all night), all night (all night) Oh, stand right up and let her shoot through you Like a spirit in the night (all night), all night (all night) All night (all night), all night (all night), all night (all night), all night (all night) All night All night You and me we were the pretenders We let it all slip away In the end what you don\\'t surrender Well the world just strips away Girl, ain\\'t no kindness in the face of strangers Ain\\'t gonna find no miracles here Well you can wait on your blesses my darlin\\' I got a deal for you right here I ain\\'t lookin\\' for praise or pity I ain\\'t comin\\' \\'round searchin\\' for a crutch I just want someone to talk to And a little of that human touch Just a little of that human touch Ain\\'t no mercy on the streets of this town Ain\\'t no bread from heavenly skies Ain\\'t nobody drawin\\' wine from this blood It\\'s just you and me tonight Tell me, in a world without pity Do you think what I\\'m askin\\'s too much I just want something to hold on to And a little of that human touch Just a little of that human touch Oh girl that feeling of safety you prize Well it comes at a hard hard price You can\\'t shut off the risk and the pain Without losin\\' the love that remains We\\'re all riders on this train So you\\'ve been broken and you\\'ve been hurt Show me somebody who ain\\'t Yeah, I know I ain\\'t nobody\\'s bargain But, hell, a little touch up And a little paint You might need somethin\\' to hold on to When all the answers, they don\\'t amount to much Somebody that you could just to talk to And a little of that human touch Baby, in a world without pity Do you think what I\\'m askin\\'s too much I just want to feel you in my arms Share a little of that human touch Share a little of that human touch Feel a little of that human touch Feel a little of that human touch Share a little of that human touch Feel a little of that human touch Give you a little of that human touch Give me a little of that human touch Tonight down on union street I\\'m thinkin\\' back, baby, to you and me To the way you used to be And your words come back to me From passing cars Their voices sing out In empty bars where guitars ring out We\\'d be the lucky one to get out You said, none baby but the brave No one baby but the brave Oh strong enough to save something From what they gave None baby but the brave No one baby but the brave Now in dreams these nights I see you my friend The way you were back then Ah, on a night like this I know that girl no longer exists Except for a moment in some stranger\\'s eyes Or in a nameless girl In cars rushin\\' by That\\'s where I find you tonight And in my heart it still survives To none, baby, but the brave No one baby but the brave Oh strong enough to save Something from the love they gave Yeah, none baby but the brave No one baby but the brave Now tonight once more I search Every face on that crowded floor Looking for I don\\'t know what for Something that ain\\'t there no more There\\'s a girl standin\\' by the band She reminds me of you And I asked her to danceas the drummer counts his play I take her hand and we move away And tonight, now I\\'ll see old friends Caught in things they got no chance to win Just gettin\\' beaten, and then playin\\' again \\'till their strength gives out Or their hearts give in Who\\'s that man who thinks He can decide whose dreams will live And who(se) shall be pushed aside Did he ever walk down this streets at night And looked into the eyes Baby, of none, baby, but the brave No one baby but the brave No, none baby but the brave No one baby but the brave No one baby,no one but the brave Cynthia, when you come walkin\\' by You\\'re an inspirin\\' sight Cynthia, you don\\'t smile or say \"hi\" But baby that\\'s alright \\'cause I don\\'t need to hold you Or taste your kiss I just like knowin\\' cynthia, you exist at all In a world like this Cynthia, when you pass it seems Like this whole town drops Cynthia, maybe it\\'s just me babe Some fool stuck here watchin\\' the clock Well, you give us a reason to start whisper \"why\" To stop singin\\', baby, and salute your style Yeah cynthia Well now you ain\\'t the finest thing I\\'ll never have And when you go the hurt you leave Well, baby, it ain\\'t so bad No it ain\\'t cynthia Yeah there ain\\'t a man in this whole town Who\\'ll say you ain\\'t fine D\\'you hear them guys talkin\\' Tell me, baby, do you mind Well you make us happy, honey, when we feel sad To see sump\\'n\\'so good, in a world gone bad There\\'s still cynthia, oh yeah Cynthia, no one knows your number No one knows where you live Cynthia, I wonder do you understand This strange thing you give Yeah, well baby, is it your style The mystery in your smile Or just how cool you walk In a world gone wild Ah tell me if you will, cynthia Well I gotta be pretty naive to believe in you I know you ain\\'t ever gonna be my dream come true That\\'s alright, I gotta dream That\\'s as good as you, cynthia Oh now baby, this ain\\'t no come-on It\\'s a walk on, walk on Oh that\\'s right, oh yeah Mmmm, you make me holier Yeah, yeah, alright I said yeah, yeah, alright Well she\\'s a yeah, yeah, alright I said yeah, yeah, alright Well it\\'s a yeah, yeah, alright Well she\\'s a yeah, yeah, alright I said yeah, yeah, alright I\\'m driving in my car I turn on the radio I\\'m pulling you close You just say no You say you don\\'t like it But girl I know you\\'re a liar \\'Cause when we kiss Ooh, fire But late at night I\\'m takin\\' you home I say I wanna stay You say you wanna be alone You say you don\\'t love me But you can\\'t hide your desire When we kiss Ooh, fire You had a hold on me Right from the start A grip so tight I couldn\\'t tear it apart My nerves all jumpin\\' Actin\\' like a fool Well your kisses they burn But your heart stays cool Romeo and Juliet Samson and Delilah You can bet Their love they didn\\'t deny Your words say split But your words they lie When we kiss Mmh, fire Fire You had a hold on me Right from the start A grip so tight I couldn\\'t tear it apart My nerves all jumpin\\' Actin\\' like a fool Well your kisses they burn But your heart stays cool Romeo and Juliet Samson and Delilah You can bet Their love they didn\\'t deny Your words say split But your words they lie When we kiss Mmh, fire Fire Fire Fire Fire Fire Well, we bursted out of class Had to get away from those fools We learned more from a three-minute record, baby Than we ever learned in school Tonight I hear the neighborhood drummer sound I can feel my heart begin to pound You say you\\'re tired and you just want to close your eyes And follow your dreams down Well, we made a promise we swore we\\'d always remember No retreat, baby, no surrender Like soldiers in the winter\\'s night With a vow to defend No retreat, baby, no surrender Well, now young faces grow sad and old And hearts of fire grow cold We swore blood brothers against the wind Now I\\'m ready to grow young again And hear your sister\\'s voice calling us home Across the open yards Well maybe we\\'ll cut someplace of our own With these drums and these guitars \\'Cause we made a promise we swore we\\'d always remember No retreat, baby, no surrender Blood brothers in the stormy night With a vow to defend No retreat, baby, no surrender Now on the street tonight the lights grow dim The walls of my room are closing in There\\'s a war outside still raging You say it ain\\'t ours anymore to win I want to sleep beneath Peaceful skies in my lover\\'s bed With a wide open country in my eyes And these romantic dreams in my head Once we made a promise we swore we\\'d always remember No retreat, baby, no surrender Blood brothers in a stormy night With a vow to defend No retreat, baby, no surrender No retreat, baby, no surrender Ohh ohh ohh Ohh ohh ohh Ohh ohh ohh Ohh ohh ohh Here in north east Ohio Back in eighteen-o-three James and Danny Heaton Found the ore that was linin\\' yellow creek They built a blast furnace Here along the shore And they made the cannon balls That helped the union win the war Here in Youngstown Here in Youngstown My sweet Jenny, I\\'m sinkin\\' down Here darlin\\' in Youngstown Well my daddy worked the furnaces Kept \\'em hotter than hell I come home from \\'Nam worked my way to scarfer A job that\\'d suit the devil as well Taconite, coke and limestone Fed my children and made my pay Then smokestacks reachin\\' like the arms of god Into a beautiful sky of soot and clay Here in Youngstown Here in Youngstown My sweet Jenny, I\\'m sinkin\\' down Here darlin\\' in Youngstown Well my daddy come on the 0hio works When he come home from world war two Now the yards just scrap and rubble He said, \"Them big boys did what Hitler couldn\\'t do\" These mills they built the tanks and bombs That won this country\\'s wars We sent our sons to Korea and Vietnam Now we\\'re wondering what they were dyin\\' for Here in Youngstown Here in Youngstown My sweet Jenny, I\\'m sinkin\\' down Here darlin\\' in Youngstown From the Monongaleh valley To the Mesabi iron range To the coal mines of Appalacchia The story\\'s always the same Seven-hundred tons of metal a day Now sir you tell me the world\\'s changed Once I made you rich enough Rich enough to forget my name In Youngstown In Youngstown My sweet Jenny, I\\'m sinkin\\' down Here darlin\\' in Youngstown When I die I don\\'t want no part of heaven I would not do heavens work well I pray the devil comes and takes me To stand in the fiery furnaces of hell The Rangers had a homecoming In Harlem late last night And the Magic Rat drove his sleek machine Over the Jersey state line Barefoot girl sitting on the hood of a Dodge Drinking warm beer in the soft summer rain The Rat pulls into town, rolls up his pants Together they take a stab at romance And disappear down Flamingo Lane Well, the Maximum Lawmen run down Flamingo Chasing the Rat and the barefoot girl And the kids \\'round there live just like shadows Always quiet, holding hands From the churches to the jails Tonight all is silence in the world As we take our stand Down in Jungleland The midnight gang\\'s assembled And picked a rendezvous for the night They\\'ll meet \\'neath that giant Exxon sign That brings this fair city light Man, there\\'s an opera out on the Turnpike There\\'s a ballet being fought out in the alley Until the local cops, Cherry-Tops, rips this holy night The street\\'s alive as secret debts are paid Contacts made, they flash unseen Kids flash guitars just like switchblades Hustling for the record machine The hungry and the hunted Explode into rock \\'n\\' roll bands That face off against each other out in the street Down in Jungleland In the parking lot the visionaries dress in the latest rage Inside the backstreet girls are dancing To the records that the DJ plays Lonely-hearted lovers struggle in dark corners Desperate as the night moves on Just one look and a whisper, and they\\'re gone Beneath the city, two hearts beat Soul engines running through a night so tender In a bedroom locked in whispers Of soft refusal and then surrender In the tunnels uptown, the Rat\\'s own dream guns him down As shots echo down them hallways in the night No one watches when the ambulance pulls away Or as the girl shuts out the bedroom light Outside the street\\'s on fire in a real death waltz Between what\\'s flesh and what\\'s fantasy And the poets down here don\\'t write nothing at all They just stand back and let it all be And in the quick of a knife, they reach for their moment And try to make an honest stand But they wind up wounded, not even dead Tonight in Jungleland I\\'ve been working real hard, trying to get my hands clean We\\'ll drive that dusty road from Monroe to Angeline To buy you a gold ring and pretty dress of blue Baby just one kiss will get these things for you A kiss to seal our fate tonight A kiss to prove it all night Prove it all night Girl there\\'s nothing else that we can do So prove it all night Prove it all night And girl I\\'ll prove it all night for you Everybody\\'s got a hunger, a hunger they can\\'t resist There\\'s so much that you want, you deserve much more than this But if dreams came true, oh, wouldn\\'t that be nice But this ain\\'t no dream we\\'re living through tonight Girl, you want it, you take it, you pay the price Prove it all night Prove it all night Prove it all night girl and call the bluff We\\'ll prove it all night Prove it all night Girl I\\'ll prove it all night for your love Baby, tie your hair back in a long white bow Meet me in the fields out behind the dynamo You hear their voices telling you not to go They\\'ve made their choices and they\\'ll never know What it means to steal, to cheat, to lie What it\\'s like to live and die Prove it all night Prove it all night Girl there\\'s nothing else that we can do So prove it all night Prove it all night And girl I\\'ll prove it all night for you I\\'ll prove it all night I\\'ll prove it all night I\\'ll prove it all night I\\'ll prove it all night I\\'ll prove it all night I\\'ll prove it all night I\\'ll prove it all night I\\'ll prove it all night Spread out now Rosie, doctor come cut loose her mama\\'s reins You know playin\\' blind man\\'s bluff is a little baby\\'s game You pick up little dynamite, I\\'ll pick up little gun And together we\\'re gonna go out tonight and make that highway run You don\\'t have to call me lieutenant, Rosie, and I don\\'t want to be your son The only lover I\\'m ever gonna need\\'s your soft, sweet, little girl\\'s tongue And Rosie, you\\'re the one Dynamite\\'s in the belfry, baby, playin\\' with the bats Little gun\\'s downtown in front of Woolworth\\'s tryin\\' out his attitude on all the cats Papa\\'s on the corner, waitin\\' for the bus Mama, she\\'s home in the window, waitin\\' up for us She\\'ll be there in that chair when they wrestle her upstairs, \\'cause you know we ain\\'t gonna come I ain\\'t here on business, baby, I\\'m only here for fun And Rosie, you\\'re the one Rosalita, jump a little higher Senorita, come sit by my fire I just want to be your lover, ain\\'t no liar Rosalita, you\\'re my stone desire Jack the Rabbit and Weak Knee Willie, don\\'t you know they\\'re gonna be there Ah Sloppy Sue and Big Bone Billy, they\\'ll be coming up for air We\\'re gonna play some pool, skip some school Act real cool, stay out all night, it\\'s gonna feel alright So Rosie, come out tonight, little baby, come out tonight Windows are for cheaters, chimneys for the poor Oh, closets are for hangers, winners use the door So use it, Rosie, that\\'s what it\\'s there for Rosalita, jump a little higher Senorita, come sit by my fire I just want to be your lover, ain\\'t no liar Rosalita, you\\'re my stone desire, alright Now, I know your mama, she don\\'t like me, \\'cause I play in a rock and roll band And I know your daddy, he don\\'t dig me, but he never did understand Your papa lowered the boom, he locked you in your room, I\\'m comin\\' to lend a hand I\\'m comin\\' to liberate you, confiscate you, I want to be your man Someday we\\'ll look back on this and it will all seem funny But now you\\'re sad, your mama\\'s mad And your papa says he knows that I don\\'t have any money Oh, your papa says he knows that I don\\'t have any money Oh, so your daddy says he knows that I don\\'t have any money Well, tell him this is his last chance to get his daughter in a fine romance Because a record company, Rosie, just gave me a big advance And my tires were slashed and I almost crashed, but the Lord had mercy And my machine, she\\'s a dud, out stuck in the mud somewhere in the swamps of Jersey Well, hold on tight, stay up all night, \\'cause Rosie, I\\'m comin\\' on strong By the time we meet the morning light, I will hold you in my arms I know a pretty little place in Southern California, down San Diego way There\\'s a little cafe, where they play guitars all night and all day You can hear them in the back room strummin\\' So hold tight, baby, \\'cause don\\'t you know daddy\\'s comin\\' Everybody sing Rosalita, jump a little higher Senorita, come sit by my fire I just want to be your lover, ain\\'t no liar Rosalita, you\\'re my stone desire Hey hey hey hey Hey hey hey hey Hey hey hey hey Hey hey hey hey The runway rushed up at him as he felt the wheels touch down He stood out on the blacktop and took a taxi into town He got out down on Main Street and went into a local bar He bought a drink and found a seat in a corner off the dark Well she called up her mama to make sure the kids were out of the house She checked herself out in the dining room mirror And undid an extra button on her blouse He felt her lying next to him, the clock said 4:00 am He was staring at the ceiling He couldn\\'t move his hands [Chorus] Oh mama mama mama come quick I\\'ve got the shakes and I\\'m gonna be sick Throw your arms around me in the cold dark night Hey now mama don\\'t shut out the light Don\\'t you shut out the light Don\\'t you shut out the light Don\\'t you shut out the light Don\\'t you shut out the light Well on his porch they stretched a banner that said \"Johnny Welcome Home\" Bobby pulled his Ford out of the garage and they polished up the chrome His mama said \"Johnny oh Johnny, I\\'m so glad to have you back with me\" His pa said he was sure they\\'d give him his job back down at the factory [Chorus] Well deep in a dark forest, a forest filled with rain Beyond a stretch of Maryland pines there\\'s a river without a name In the cold black water Johnson Lineir stands He stares across the lights of the city and dreams of where he\\'s been [Chorus] I was raised out of steel here in the swamps of Jersey, some misty years ago Through the mud and the beer, and the blood and the cheers, I\\'ve seen champions come and go So if you got the guts mister, yeah if you\\'ve got the balls If you think it\\'s your time, then step to the line, and bring on your wrecking ball Bring on your wrecking ball Bring on your wrecking ball Come on and take your best shot, let me see what you\\'ve got Bring on your wrecking ball Bring on your wrecking ball Bring on your wrecking ball Come on and take your best shot, let me see what you\\'ve got Bring on your wrecking ball Now my home was here in the Meadowlands, where mosquitoes grow big as airplanes Here where the blood is spilled, the arena\\'s filled, and Giants play the game So raise up your glasses and let me hear your voices call Come on! Because tonight all the dead are here, so bring on your wrecking ball Bring on your wrecking ball Bring on your wrecking ball Take your best shot, let me see what you\\'ve got Bring on your wrecking ball One, two, one two three four! Yeah we know that come tomorrow, none of this will be here So hold tight on your anger Hold tight on your anger Hold tight to your anger, and don\\'t fall to your fear Now when all this steel and these stories, they drift away to rust And all our youth and beauty, it\\'s been given to the dust And your game has been decided, and you\\'re burning the clock down And all our little victories and glories, have turned into parking lots When your best hopes and desires, are scattered through the wind And hard times come, hard times go Hard times come, hard times go And hard times come, hard times go Hard times come, hard times go Hard times come, hard times go Yeah just to come again Bring on your wrecking ball Bring on your wrecking ball Come on and take your best shot, let me see what you\\'ve got Bring on your wrecking ball Bring on your wrecking ball (bring on your wrecking ball) Bring on your wrecking ball (bring on your wrecking ball) Take your best shot, let me see what you\\'ve got, bring on your wrecking ball One, two, one two three four! We met out on open streets When we had no place to go I remember how my heart beat When you said \"i love you so\" Then little by little We choked out all the life that out love could hold No, no It was like we held a noose And baby without check We pulled it a little tighter around our necks Each one waiting for the other Darling to say when Now baby you can leave me tonight on the loose end We didn\\'t count tomorrows We took what we had and baby we ran There was no place for sorrow Every place we went I held your hand And when the night closed in I was sure your kisses told me all I had to know But oh no It was like we held a noose And baby without check We pulled \\'til it grew tighter around our necks Each one waiting for the other Darling to say when Oh baby you can leave me tonight on the loose end Our love has fallen around us Like we said it never would We saw it happen to all the others But to us it never would Well how could something so bad, darling Come from something that was so good I don\\'t know But it was like we held a noose And baby without check We pulled \\'til it grew tighter around our necks Each one waiting for the other Darling to say when Oh baby you can leave me tonight on the loose end On a loose end There\\'s a pale horse comin\\' I\\'m gonna ride it I\\'ll rise in the morning My fate decided I\\'m a dead man walkin\\' I\\'m a dead man walkin\\' In St. James Parish I was born and christened Now I\\'ve got my story Mister no need for you to listen It\\'s just a dead man talkin\\' Once I had a job I had a girl But between our dreams and actions Lies this world In the deep forest Their blood and tears rushed over me All I could feel was the drugs and the shotgun And my fear up inside of me Like a dead man talkin\\' \\'Neath a summer sky my eyes went black Sister I won\\'t ask for forgiveness My sins are all I have Now the clouds above my prison Move slowly across the sky There\\'s a new day comin\\' And my dreams are full tonight I was eight years old and running with a dime in my hand Into the bus stop to pick up a paper for my old man I\\'d sit on his lap in that big old Buick and steer as we drove through town He\\'d tousle my hair and say son take a good look around This is your hometown This is your hometown This is your hometown This is your hometown In \\'65 tension was running high at my high school There was a lot of fights between the black and white There was nothing you could do Two cars at a light on a Saturday night in the back seat there was a gun Words were passed in a shotgun blast Troubled times had come To my hometown My hometown My hometown My hometown Now Main Street\\'s whitewashed windows and vacant stores Seems like there ain\\'t nobody wants to come down here no more They\\'re closing down the textile mill across the railroad tracks Foreman says these jobs are going boys and they ain\\'t coming back To your hometown Your hometown Your hometown Your hometown Last night me and Kate we laid in bed Talking about getting out Packing up our bags maybe heading south I\\'m thirty five we got a boy of our own now Last night I sat him up behind the wheel and said son take a good look around This is your hometown Tear drops on the city, Bad Scooter searching for his groove Seem like the whole world walking pretty and you can\\'t find the room to move Well, everybody better move over, that\\'s all \\'Cause I\\'m running on the bad side and I got my back to the wall Tenth Avenue freeze-out Tenth Avenue freeze-out Well, I was stranded in the jungle trying to take in all the heat they was giving The night is dark but the sidewalk\\'s bright and lined with the light of the living From a tenement window a transistor blasts Turn around the corner, things got real quiet real fast I walked into a Tenth Avenue freeze-out Tenth Avenue freeze-out And I\\'m all alone, I\\'m all alone (And kid, you better get the picture) And I\\'m on my own, I\\'m on my own And I can\\'t go home When the change was made uptown and the Big Man joined the band From the coastline to the city, all the little pretties raise their hands I\\'m gonna sit back right easy and laugh When Scooter and the Big Man bust this city in half With the Tenth Avenue freeze-out Tenth Avenue freeze-out Tenth Avenue freeze-out Tenth Avenue freeze I\\'m talking \\'bout a Tenth Oh, nothing but a Tenth I\\'m talking \\'bout a Tenth I\\'m talking bout a Tenth, Tenth, Tenth, Tenth, Tenth, Tenth, Tenth, Tenth Tenth, Tenth, Tenth, Tenth, Tenth, I\\'m talking \\'bout a Tenth Avenue freeze-out... The times are tough now, just getting tougher This whole world is rough, it\\'s just getting rougher Cover me, come on baby, cover me Well I\\'m looking for a lover who will come on in and cover me Now promise me baby you won\\'t let them find us Hold me in your arms, let\\'s let our love blind us Cover me, shut the door and cover me I\\'m looking for a lover who will come on in and cover me Outside\\'s the rain, the driving snow I can hear the wild wind blowing Turn out the light, bolt the door I ain\\'t going out there no more This whole world is out there just trying to score I\\'ve seen enough I don\\'t wanna see any more, Cover me, come on in and cover me I\\'m looking for a lover who will come on in and cover me Outside\\'s the rain, the driving snow I can hear the wild wind blowing Turn out the light, bolt the door I ain\\'t going out there no more This whole world is out there just trying to score I\\'ve seen enough I ain\\'t gonna see any more, Cover me, wrap you arms around and cover me Well I\\'m looking for a lover who will come on in and cover me Ah looking for a lover who will come on in and cover me Yeah I\\'m looking for a lover who will come on in and cover me In Candy\\'s room there are pictures of her heroes on the wall But to get to Candy\\'s room you gotta walk the darkness of Candy\\'s hall Strangers from the city, call my baby\\'s number and they bring her toys When I come knocking, she smiles pretty, she knows I want to be Candy\\'s boy There\\'s a sadness hidden in that pretty face A sadness all her own From which no man can keep Candy safe We kiss, my heart\\'s pumpin\\' to my brain And the blood rushes in my veins, the fire rushes towards the skies I go driving, driving deep into the night I go driving deep into the light, in Candy\\'s eyes She says, baby if you want to be wild You got a lot to learn, close your eyes Let them melt, let them fire Let them burn \\'Cause in the darkness, there\\'ll be hidden worlds that shine When I hold Candy close she makes the hidden worlds mine She has fancy clothes and diamond rings She has men who give her anything she wants, but they don\\'t see That what she wants is me Oh, and I want her so I\\'ll never let her go, no, no, no She knows that I\\'d give All that I got to give All that I want, all that I live To make Candy mine Tonight She\\'ll let you in her house If you come knockin\\' late at night She\\'ll let you in her mouth If the words you say are right If you pay the price She\\'ll let you deep inside But there\\'s a secret garden she hides She\\'ll let you in her car To go drivin\\' round She\\'ll let you into the parts of herself That\\'ll bring you down She\\'ll let you in herheart If you got a hammer and a vise But into her secret garden, don\\'t think twice You\\'ve gone a million miles How far\\'d you get To that place where You can\\'t remember And you can\\'t forget She\\'ll lead you down a path There\\'ll be tenderness in the air She\\'ll let you come just far enough So you know she\\'s really there She\\'ll look at you and smile And her eyes will say She\\'s got a secret garden Where everything you want Where everything you need Will always stay A million miles away You stare in the mirror at the lines in your face And you try so hard to see The way things were when we were at your place Everyday was just you and me And you cry because things ain\\'t like before Well, don\\'t you know it can\\'t be that way anymore But don\\'t worry baby \\'cause I can\\'t talk now, I\\'m not alone So put your ear close to the phone \\'cause this is the last dance, the last chance For hearts of stone If there was something, baby, That I could do, Something that would last, honey, I would But you should know better than to think that you Can return to the past So close your eyes and I\\'ll be there Hold you once more and not go anywhere I wish I could babe But I can\\'t talk now, I\\'m not alone So put your ear close to the phone \\'cause this is the last dance, the last chance For hearts of stone And you cry because things get so strange so fast And you cry because nothing good ever lasts Well, I know babe But I can\\'t talk now, I\\'m not alone So put your ear close to the phone \\'cause this is the last dance, the last chance For hearts of stone I can\\'t talk now, I\\'m not alone So put your ear close to the phone \\'cause this is the last dance, the last chance For hearts of stone I went out walking the other day Seen a little girl crying along the way She\\'d been hurt so bad said she\\'d never love again Some day your crying girl will end And you\\'ll find once again Two hearts are better than one Two hearts girl get the job done Two hearts are better than one Once I spent my time playing tough guy scenes But I was living in a world of childish dreams Someday these childish dreams must end To become a man and grow up to dream again I believe in the end Two hearts are better than one Two hearts girl get the job done Two hearts are better than one Sometimes it might seem like it was planned For you to roam empty-hearted through this land Though the world turns you hard and cold There\\'s one thing mister, that I know That\\'s if you think your heart is stone And that you\\'re rough enough to whip this world alone Alone buddy there ain\\'t no peace of mind That\\'s why I\\'ll keep searching \\'til I find my special one Two hearts are better than one Two hearts girl get the job done Two hearts are better than one Oh, two hearts are better than one Two hearts girl get the job done Two hearts are better than one Woah [Verse 1] They come from everywhere A longing to be free They come to join us here From sea to shining sea And they all have a dream As people always will To be safe and warm In that shining city on the hill Some wanna slam the door Instead of opening the gate Aw, let\\'s turn this thing around Before it gets too late [Chorus] It\\'s up to me and you Love can conquer hate I know this to be true That\\'s what makes us great [Verse 2] Don\\'t tell me a lie And sell it as a fact I\\'ve been down that road before And I ain\\'t goin\\' back And don\\'t you brag to me That you never read a book I never put my faith In a con man and his crooks I won\\'t follow down that path And tempt the hands of fate Aw, let\\'s turn this thing around Before it gets too late [Chorus] It\\'s up to me and you Love can conquer hate I know this to be true That\\'s what makes us great In the quiet of the night I lie here wide awake And I ask myself Is there a difference I can make? [Chorus] It\\'s up to me and you Love can conquer hate I know this to be true That\\'s what makes us great'"
            ],
            "application/vnd.google.colaboratory.intrinsic+json": {
              "type": "string"
            }
          },
          "metadata": {},
          "execution_count": 5
        }
      ]
    },
    {
      "cell_type": "code",
      "source": [
        "train_len=4"
      ],
      "metadata": {
        "id": "PSCeDxXNtUns"
      },
      "execution_count": 6,
      "outputs": []
    },
    {
      "cell_type": "code",
      "source": [
        "tokens=text_to_word_sequence(corpus)"
      ],
      "metadata": {
        "id": "_7RQziV0syGy"
      },
      "execution_count": 7,
      "outputs": []
    },
    {
      "cell_type": "code",
      "source": [
        "print(\"Cantidad de tokens en el corpus:\", len(tokens))"
      ],
      "metadata": {
        "colab": {
          "base_uri": "https://localhost:8080/"
        },
        "id": "qh_p-7-Qs43Y",
        "outputId": "c68da6bf-6806-4d13-a91b-ccf6356c223b"
      },
      "execution_count": 8,
      "outputs": [
        {
          "output_type": "stream",
          "name": "stdout",
          "text": [
            "Cantidad de tokens en el corpus: 21566\n"
          ]
        }
      ]
    },
    {
      "cell_type": "code",
      "source": [
        "text_sequences = []\n",
        "for i in range(train_len, len(tokens)):\n",
        "  seq = tokens[i-train_len:i]\n",
        "  text_sequences.append(seq)"
      ],
      "metadata": {
        "id": "ZqAyzU47tR3i"
      },
      "execution_count": 9,
      "outputs": []
    },
    {
      "cell_type": "code",
      "source": [
        "#Tokenizamos\n",
        "# Proceso de tokenizacion\n",
        "tok = Tokenizer() \n",
        "tok.fit_on_texts(text_sequences) \n",
        "\n",
        "# Convertimos las palabras a números\n",
        "# entran palabras -> salen números\n",
        "sequences = tok.texts_to_sequences(text_sequences)"
      ],
      "metadata": {
        "id": "giZ24W1EtXdm"
      },
      "execution_count": 10,
      "outputs": []
    },
    {
      "cell_type": "markdown",
      "source": [
        "# Input y target"
      ],
      "metadata": {
        "id": "sKsKFkHjs_Bi"
      }
    },
    {
      "cell_type": "code",
      "source": [
        "arr_sequences = np.array(sequences)\n",
        "x_data = arr_sequences[:,:-1]\n",
        "y_data_int = arr_sequences[:,-1] # aún falta el oneHotEncoder\n",
        "\n",
        "print(x_data.shape)\n",
        "print(y_data_int.shape)"
      ],
      "metadata": {
        "colab": {
          "base_uri": "https://localhost:8080/"
        },
        "id": "5hR3tEDZtOBn",
        "outputId": "8f01988d-f554-4af4-fc0d-7bc06a39e2f8"
      },
      "execution_count": 11,
      "outputs": [
        {
          "output_type": "stream",
          "name": "stdout",
          "text": [
            "(21562, 3)\n",
            "(21562,)\n"
          ]
        }
      ]
    },
    {
      "cell_type": "code",
      "source": [
        "vocab_size = len(tok.word_counts)\n",
        "vocab_size"
      ],
      "metadata": {
        "colab": {
          "base_uri": "https://localhost:8080/"
        },
        "id": "r81-dvt1tkLY",
        "outputId": "8864e114-749c-4d2c-ea3a-222032499011"
      },
      "execution_count": 12,
      "outputs": [
        {
          "output_type": "execute_result",
          "data": {
            "text/plain": [
              "2538"
            ]
          },
          "metadata": {},
          "execution_count": 12
        }
      ]
    },
    {
      "cell_type": "code",
      "source": [
        "np.bincount(y_data_int-1)"
      ],
      "metadata": {
        "colab": {
          "base_uri": "https://localhost:8080/"
        },
        "id": "PDE4SSO1u2hX",
        "outputId": "4252359a-28e4-4f2f-b93b-7e3f7ec74557"
      },
      "execution_count": 13,
      "outputs": [
        {
          "output_type": "execute_result",
          "data": {
            "text/plain": [
              "array([897, 634, 561, ...,   1,   1,   1])"
            ]
          },
          "metadata": {},
          "execution_count": 13
        }
      ]
    },
    {
      "cell_type": "code",
      "source": [
        "y_data_int_offset = y_data_int - 1\n",
        "y_data = to_categorical(y_data_int_offset, num_classes=vocab_size) \n",
        "y_data.shape"
      ],
      "metadata": {
        "colab": {
          "base_uri": "https://localhost:8080/"
        },
        "id": "IojWmY0kt42I",
        "outputId": "03164151-26dd-4bb2-c9f8-01a4c0789530"
      },
      "execution_count": 14,
      "outputs": [
        {
          "output_type": "execute_result",
          "data": {
            "text/plain": [
              "(21562, 2538)"
            ]
          },
          "metadata": {},
          "execution_count": 14
        }
      ]
    },
    {
      "cell_type": "markdown",
      "source": [
        "# Train"
      ],
      "metadata": {
        "id": "PnIa1--Lt9ML"
      }
    },
    {
      "cell_type": "code",
      "source": [
        "input_seq_len = x_data.shape[1] \n",
        "input_seq_len"
      ],
      "metadata": {
        "colab": {
          "base_uri": "https://localhost:8080/"
        },
        "id": "puqZtC3Zt-9M",
        "outputId": "aff049ec-02da-4be4-8149-4c64bfd146ed"
      },
      "execution_count": 15,
      "outputs": [
        {
          "output_type": "execute_result",
          "data": {
            "text/plain": [
              "3"
            ]
          },
          "metadata": {},
          "execution_count": 15
        }
      ]
    },
    {
      "cell_type": "code",
      "source": [
        "output_size = vocab_size\n",
        "output_size"
      ],
      "metadata": {
        "colab": {
          "base_uri": "https://localhost:8080/"
        },
        "id": "v-zl6_ePuAuk",
        "outputId": "9b45602d-2519-41a1-98b6-3483743ffe22"
      },
      "execution_count": 16,
      "outputs": [
        {
          "output_type": "execute_result",
          "data": {
            "text/plain": [
              "2538"
            ]
          },
          "metadata": {},
          "execution_count": 16
        }
      ]
    },
    {
      "cell_type": "code",
      "source": [
        "model = Sequential()\n",
        "\n",
        "# Embedding:\n",
        "# input_seq_len = 3 --> ingreso 3 palabras\n",
        "# input_dim = vocab_size --> 1628 palabras distintas\n",
        "# output_dim = 5 --> crear embeddings de tamaño 3 (tamaño variable y ajustable)\n",
        "model.add(Embedding(input_dim=vocab_size+1, output_dim=5, input_length=input_seq_len))\n",
        "\n",
        "model.add(LSTM(64, return_sequences=True))\n",
        "model.add(Dropout(0.2))\n",
        "model.add(LSTM(64)) # La última capa LSTM no lleva return_sequences\n",
        "model.add(Dense(32, activation='relu'))\n",
        "\n",
        "# Predicción de clasificación con softmax\n",
        "model.add(Dense(vocab_size, activation='softmax'))\n",
        "\n",
        "# Clasificación multiple categórica --> loss = categorical_crossentropy\n",
        "model.compile(loss='categorical_crossentropy', optimizer='adam', metrics=['accuracy'])\n",
        "\n",
        "model.summary()"
      ],
      "metadata": {
        "colab": {
          "base_uri": "https://localhost:8080/"
        },
        "id": "d-0Spva0uC4F",
        "outputId": "3c742e7d-20af-44d1-fd39-8ba6cab815c8"
      },
      "execution_count": 17,
      "outputs": [
        {
          "output_type": "stream",
          "name": "stdout",
          "text": [
            "Model: \"sequential\"\n",
            "_________________________________________________________________\n",
            " Layer (type)                Output Shape              Param #   \n",
            "=================================================================\n",
            " embedding (Embedding)       (None, 3, 5)              12695     \n",
            "                                                                 \n",
            " lstm (LSTM)                 (None, 3, 64)             17920     \n",
            "                                                                 \n",
            " dropout (Dropout)           (None, 3, 64)             0         \n",
            "                                                                 \n",
            " lstm_1 (LSTM)               (None, 64)                33024     \n",
            "                                                                 \n",
            " dense (Dense)               (None, 32)                2080      \n",
            "                                                                 \n",
            " dense_1 (Dense)             (None, 2538)              83754     \n",
            "                                                                 \n",
            "=================================================================\n",
            "Total params: 149,473\n",
            "Trainable params: 149,473\n",
            "Non-trainable params: 0\n",
            "_________________________________________________________________\n"
          ]
        }
      ]
    },
    {
      "cell_type": "code",
      "source": [
        "hist = model.fit(x_data, y_data, epochs=100, validation_split=0.2)"
      ],
      "metadata": {
        "colab": {
          "base_uri": "https://localhost:8080/"
        },
        "id": "RZ7wU6YPuEGF",
        "outputId": "eb5c6530-fdc3-448f-b308-e92f8697875c"
      },
      "execution_count": 18,
      "outputs": [
        {
          "output_type": "stream",
          "name": "stdout",
          "text": [
            "Epoch 1/100\n",
            "540/540 [==============================] - 9s 10ms/step - loss: 6.4897 - accuracy: 0.0388 - val_loss: 6.6282 - val_accuracy: 0.0485\n",
            "Epoch 2/100\n",
            "540/540 [==============================] - 6s 12ms/step - loss: 6.1562 - accuracy: 0.0391 - val_loss: 6.6709 - val_accuracy: 0.0485\n",
            "Epoch 3/100\n",
            "540/540 [==============================] - 7s 12ms/step - loss: 6.1057 - accuracy: 0.0399 - val_loss: 6.6885 - val_accuracy: 0.0485\n",
            "Epoch 4/100\n",
            "540/540 [==============================] - 7s 13ms/step - loss: 6.0066 - accuracy: 0.0390 - val_loss: 6.7141 - val_accuracy: 0.0485\n",
            "Epoch 5/100\n",
            "540/540 [==============================] - 4s 8ms/step - loss: 5.8890 - accuracy: 0.0399 - val_loss: 6.7487 - val_accuracy: 0.0480\n",
            "Epoch 6/100\n",
            "540/540 [==============================] - 4s 8ms/step - loss: 5.7236 - accuracy: 0.0450 - val_loss: 6.8107 - val_accuracy: 0.0531\n",
            "Epoch 7/100\n",
            "540/540 [==============================] - 4s 8ms/step - loss: 5.5633 - accuracy: 0.0557 - val_loss: 6.8812 - val_accuracy: 0.0478\n",
            "Epoch 8/100\n",
            "540/540 [==============================] - 4s 8ms/step - loss: 5.4126 - accuracy: 0.0640 - val_loss: 7.0190 - val_accuracy: 0.0482\n",
            "Epoch 9/100\n",
            "540/540 [==============================] - 4s 8ms/step - loss: 5.2894 - accuracy: 0.0730 - val_loss: 7.0779 - val_accuracy: 0.0492\n",
            "Epoch 10/100\n",
            "540/540 [==============================] - 4s 8ms/step - loss: 5.1798 - accuracy: 0.0779 - val_loss: 7.1576 - val_accuracy: 0.0494\n",
            "Epoch 11/100\n",
            "540/540 [==============================] - 5s 10ms/step - loss: 5.0662 - accuracy: 0.0827 - val_loss: 7.3677 - val_accuracy: 0.0519\n",
            "Epoch 12/100\n",
            "540/540 [==============================] - 5s 9ms/step - loss: 4.9655 - accuracy: 0.0915 - val_loss: 7.4351 - val_accuracy: 0.0503\n",
            "Epoch 13/100\n",
            "540/540 [==============================] - 6s 11ms/step - loss: 4.8711 - accuracy: 0.1010 - val_loss: 7.5350 - val_accuracy: 0.0482\n",
            "Epoch 14/100\n",
            "540/540 [==============================] - 5s 9ms/step - loss: 4.7851 - accuracy: 0.1102 - val_loss: 7.7559 - val_accuracy: 0.0373\n",
            "Epoch 15/100\n",
            "540/540 [==============================] - 4s 8ms/step - loss: 4.7045 - accuracy: 0.1136 - val_loss: 7.7310 - val_accuracy: 0.0380\n",
            "Epoch 16/100\n",
            "540/540 [==============================] - 4s 8ms/step - loss: 4.6313 - accuracy: 0.1208 - val_loss: 7.9356 - val_accuracy: 0.0457\n",
            "Epoch 17/100\n",
            "540/540 [==============================] - 4s 8ms/step - loss: 4.5615 - accuracy: 0.1263 - val_loss: 8.0865 - val_accuracy: 0.0436\n",
            "Epoch 18/100\n",
            "540/540 [==============================] - 4s 8ms/step - loss: 4.4878 - accuracy: 0.1354 - val_loss: 8.3139 - val_accuracy: 0.0429\n",
            "Epoch 19/100\n",
            "540/540 [==============================] - 4s 8ms/step - loss: 4.4142 - accuracy: 0.1393 - val_loss: 8.5707 - val_accuracy: 0.0441\n",
            "Epoch 20/100\n",
            "540/540 [==============================] - 4s 8ms/step - loss: 4.3496 - accuracy: 0.1457 - val_loss: 8.6831 - val_accuracy: 0.0434\n",
            "Epoch 21/100\n",
            "540/540 [==============================] - 6s 11ms/step - loss: 4.2802 - accuracy: 0.1546 - val_loss: 8.9331 - val_accuracy: 0.0475\n",
            "Epoch 22/100\n",
            "540/540 [==============================] - 5s 9ms/step - loss: 4.2128 - accuracy: 0.1595 - val_loss: 9.1607 - val_accuracy: 0.0496\n",
            "Epoch 23/100\n",
            "540/540 [==============================] - 6s 10ms/step - loss: 4.1741 - accuracy: 0.1635 - val_loss: 9.3498 - val_accuracy: 0.0429\n",
            "Epoch 24/100\n",
            "540/540 [==============================] - 6s 10ms/step - loss: 4.0981 - accuracy: 0.1714 - val_loss: 9.4706 - val_accuracy: 0.0415\n",
            "Epoch 25/100\n",
            "540/540 [==============================] - 5s 9ms/step - loss: 4.0381 - accuracy: 0.1754 - val_loss: 9.7412 - val_accuracy: 0.0434\n",
            "Epoch 26/100\n",
            "540/540 [==============================] - 4s 8ms/step - loss: 3.9855 - accuracy: 0.1841 - val_loss: 9.8101 - val_accuracy: 0.0443\n",
            "Epoch 27/100\n",
            "540/540 [==============================] - 5s 9ms/step - loss: 3.9272 - accuracy: 0.1892 - val_loss: 10.2048 - val_accuracy: 0.0438\n",
            "Epoch 28/100\n",
            "540/540 [==============================] - 4s 8ms/step - loss: 3.8767 - accuracy: 0.1935 - val_loss: 10.5231 - val_accuracy: 0.0459\n",
            "Epoch 29/100\n",
            "540/540 [==============================] - 4s 8ms/step - loss: 3.8304 - accuracy: 0.1982 - val_loss: 10.7136 - val_accuracy: 0.0447\n",
            "Epoch 30/100\n",
            "540/540 [==============================] - 7s 13ms/step - loss: 3.7844 - accuracy: 0.2024 - val_loss: 10.7389 - val_accuracy: 0.0471\n",
            "Epoch 31/100\n",
            "540/540 [==============================] - 7s 14ms/step - loss: 3.7418 - accuracy: 0.2083 - val_loss: 11.0378 - val_accuracy: 0.0487\n",
            "Epoch 32/100\n",
            "540/540 [==============================] - 5s 9ms/step - loss: 3.7020 - accuracy: 0.2120 - val_loss: 11.1914 - val_accuracy: 0.0492\n",
            "Epoch 33/100\n",
            "540/540 [==============================] - 4s 8ms/step - loss: 3.6625 - accuracy: 0.2196 - val_loss: 11.3692 - val_accuracy: 0.0457\n",
            "Epoch 34/100\n",
            "540/540 [==============================] - 4s 8ms/step - loss: 3.6224 - accuracy: 0.2247 - val_loss: 11.7329 - val_accuracy: 0.0459\n",
            "Epoch 35/100\n",
            "540/540 [==============================] - 4s 8ms/step - loss: 3.5883 - accuracy: 0.2293 - val_loss: 11.8324 - val_accuracy: 0.0466\n",
            "Epoch 36/100\n",
            "540/540 [==============================] - 4s 8ms/step - loss: 3.5502 - accuracy: 0.2334 - val_loss: 12.1712 - val_accuracy: 0.0438\n",
            "Epoch 37/100\n",
            "540/540 [==============================] - 6s 12ms/step - loss: 3.5240 - accuracy: 0.2363 - val_loss: 12.3515 - val_accuracy: 0.0508\n",
            "Epoch 38/100\n",
            "540/540 [==============================] - 5s 8ms/step - loss: 3.4870 - accuracy: 0.2441 - val_loss: 12.6125 - val_accuracy: 0.0517\n",
            "Epoch 39/100\n",
            "540/540 [==============================] - 5s 8ms/step - loss: 3.4514 - accuracy: 0.2507 - val_loss: 12.8614 - val_accuracy: 0.0515\n",
            "Epoch 40/100\n",
            "540/540 [==============================] - 4s 8ms/step - loss: 3.4299 - accuracy: 0.2528 - val_loss: 13.0200 - val_accuracy: 0.0436\n",
            "Epoch 41/100\n",
            "540/540 [==============================] - 4s 8ms/step - loss: 3.4036 - accuracy: 0.2562 - val_loss: 13.4104 - val_accuracy: 0.0531\n",
            "Epoch 42/100\n",
            "540/540 [==============================] - 4s 8ms/step - loss: 3.3741 - accuracy: 0.2626 - val_loss: 13.4690 - val_accuracy: 0.0508\n",
            "Epoch 43/100\n",
            "540/540 [==============================] - 4s 8ms/step - loss: 3.3507 - accuracy: 0.2652 - val_loss: 13.5435 - val_accuracy: 0.0540\n",
            "Epoch 44/100\n",
            "540/540 [==============================] - 5s 9ms/step - loss: 3.3146 - accuracy: 0.2708 - val_loss: 13.7093 - val_accuracy: 0.0515\n",
            "Epoch 45/100\n",
            "540/540 [==============================] - 4s 8ms/step - loss: 3.2958 - accuracy: 0.2709 - val_loss: 13.8727 - val_accuracy: 0.0489\n",
            "Epoch 46/100\n",
            "540/540 [==============================] - 4s 8ms/step - loss: 3.2785 - accuracy: 0.2771 - val_loss: 14.1426 - val_accuracy: 0.0533\n",
            "Epoch 47/100\n",
            "540/540 [==============================] - 4s 8ms/step - loss: 3.2502 - accuracy: 0.2813 - val_loss: 14.1260 - val_accuracy: 0.0526\n",
            "Epoch 48/100\n",
            "540/540 [==============================] - 5s 9ms/step - loss: 3.2255 - accuracy: 0.2817 - val_loss: 14.2954 - val_accuracy: 0.0561\n",
            "Epoch 49/100\n",
            "540/540 [==============================] - 4s 8ms/step - loss: 3.2136 - accuracy: 0.2895 - val_loss: 14.1661 - val_accuracy: 0.0482\n",
            "Epoch 50/100\n",
            "540/540 [==============================] - 4s 8ms/step - loss: 3.1860 - accuracy: 0.2894 - val_loss: 14.6730 - val_accuracy: 0.0559\n",
            "Epoch 51/100\n",
            "540/540 [==============================] - 4s 8ms/step - loss: 3.1666 - accuracy: 0.2964 - val_loss: 14.8836 - val_accuracy: 0.0582\n",
            "Epoch 52/100\n",
            "540/540 [==============================] - 4s 8ms/step - loss: 3.1531 - accuracy: 0.2956 - val_loss: 14.8512 - val_accuracy: 0.0510\n",
            "Epoch 53/100\n",
            "540/540 [==============================] - 5s 9ms/step - loss: 3.1312 - accuracy: 0.2993 - val_loss: 15.1046 - val_accuracy: 0.0496\n",
            "Epoch 54/100\n",
            "540/540 [==============================] - 4s 8ms/step - loss: 3.1054 - accuracy: 0.3027 - val_loss: 15.2545 - val_accuracy: 0.0547\n",
            "Epoch 55/100\n",
            "540/540 [==============================] - 4s 8ms/step - loss: 3.0952 - accuracy: 0.3061 - val_loss: 15.4129 - val_accuracy: 0.0596\n",
            "Epoch 56/100\n",
            "540/540 [==============================] - 4s 8ms/step - loss: 3.0667 - accuracy: 0.3063 - val_loss: 15.5451 - val_accuracy: 0.0524\n",
            "Epoch 57/100\n",
            "540/540 [==============================] - 4s 8ms/step - loss: 3.0656 - accuracy: 0.3103 - val_loss: 15.5571 - val_accuracy: 0.0580\n",
            "Epoch 58/100\n",
            "540/540 [==============================] - 5s 8ms/step - loss: 3.0403 - accuracy: 0.3135 - val_loss: 15.6338 - val_accuracy: 0.0591\n",
            "Epoch 59/100\n",
            "540/540 [==============================] - 4s 8ms/step - loss: 3.0247 - accuracy: 0.3158 - val_loss: 15.7002 - val_accuracy: 0.0559\n",
            "Epoch 60/100\n",
            "540/540 [==============================] - 4s 8ms/step - loss: 3.0061 - accuracy: 0.3197 - val_loss: 16.0876 - val_accuracy: 0.0566\n",
            "Epoch 61/100\n",
            "540/540 [==============================] - 5s 8ms/step - loss: 2.9882 - accuracy: 0.3235 - val_loss: 15.8326 - val_accuracy: 0.0545\n",
            "Epoch 62/100\n",
            "540/540 [==============================] - 5s 8ms/step - loss: 2.9748 - accuracy: 0.3291 - val_loss: 16.3020 - val_accuracy: 0.0559\n",
            "Epoch 63/100\n",
            "540/540 [==============================] - 4s 8ms/step - loss: 2.9560 - accuracy: 0.3256 - val_loss: 16.4153 - val_accuracy: 0.0575\n",
            "Epoch 64/100\n",
            "540/540 [==============================] - 4s 8ms/step - loss: 2.9476 - accuracy: 0.3311 - val_loss: 16.4558 - val_accuracy: 0.0568\n",
            "Epoch 65/100\n",
            "540/540 [==============================] - 6s 11ms/step - loss: 2.9185 - accuracy: 0.3386 - val_loss: 16.7676 - val_accuracy: 0.0610\n",
            "Epoch 66/100\n",
            "540/540 [==============================] - 5s 9ms/step - loss: 2.9125 - accuracy: 0.3366 - val_loss: 16.6338 - val_accuracy: 0.0563\n",
            "Epoch 67/100\n",
            "540/540 [==============================] - 4s 8ms/step - loss: 2.9019 - accuracy: 0.3372 - val_loss: 16.7834 - val_accuracy: 0.0563\n",
            "Epoch 68/100\n",
            "540/540 [==============================] - 4s 8ms/step - loss: 2.8862 - accuracy: 0.3415 - val_loss: 16.9718 - val_accuracy: 0.0570\n",
            "Epoch 69/100\n",
            "540/540 [==============================] - 4s 8ms/step - loss: 2.8750 - accuracy: 0.3457 - val_loss: 16.8888 - val_accuracy: 0.0628\n",
            "Epoch 70/100\n",
            "540/540 [==============================] - 4s 8ms/step - loss: 2.8529 - accuracy: 0.3465 - val_loss: 16.9970 - val_accuracy: 0.0505\n",
            "Epoch 71/100\n",
            "540/540 [==============================] - 4s 8ms/step - loss: 2.8544 - accuracy: 0.3486 - val_loss: 17.2099 - val_accuracy: 0.0577\n",
            "Epoch 72/100\n",
            "540/540 [==============================] - 4s 8ms/step - loss: 2.8299 - accuracy: 0.3535 - val_loss: 17.1724 - val_accuracy: 0.0591\n",
            "Epoch 73/100\n",
            "540/540 [==============================] - 4s 8ms/step - loss: 2.8180 - accuracy: 0.3561 - val_loss: 17.4505 - val_accuracy: 0.0540\n",
            "Epoch 74/100\n",
            "540/540 [==============================] - 4s 8ms/step - loss: 2.8197 - accuracy: 0.3588 - val_loss: 17.6114 - val_accuracy: 0.0554\n",
            "Epoch 75/100\n",
            "540/540 [==============================] - 4s 8ms/step - loss: 2.7860 - accuracy: 0.3605 - val_loss: 17.5376 - val_accuracy: 0.0487\n",
            "Epoch 76/100\n",
            "540/540 [==============================] - 4s 8ms/step - loss: 2.7861 - accuracy: 0.3615 - val_loss: 17.5448 - val_accuracy: 0.0619\n",
            "Epoch 77/100\n",
            "540/540 [==============================] - 4s 8ms/step - loss: 2.7694 - accuracy: 0.3654 - val_loss: 17.7801 - val_accuracy: 0.0577\n",
            "Epoch 78/100\n",
            "540/540 [==============================] - 4s 8ms/step - loss: 2.7559 - accuracy: 0.3663 - val_loss: 17.8587 - val_accuracy: 0.0589\n",
            "Epoch 79/100\n",
            "540/540 [==============================] - 4s 8ms/step - loss: 2.7481 - accuracy: 0.3674 - val_loss: 18.0258 - val_accuracy: 0.0584\n",
            "Epoch 80/100\n",
            "540/540 [==============================] - 4s 8ms/step - loss: 2.7308 - accuracy: 0.3725 - val_loss: 18.1049 - val_accuracy: 0.0601\n",
            "Epoch 81/100\n",
            "540/540 [==============================] - 4s 8ms/step - loss: 2.7205 - accuracy: 0.3705 - val_loss: 18.1999 - val_accuracy: 0.0577\n",
            "Epoch 82/100\n",
            "540/540 [==============================] - 4s 8ms/step - loss: 2.7149 - accuracy: 0.3753 - val_loss: 18.0177 - val_accuracy: 0.0573\n",
            "Epoch 83/100\n",
            "540/540 [==============================] - 4s 8ms/step - loss: 2.6984 - accuracy: 0.3732 - val_loss: 18.3575 - val_accuracy: 0.0628\n",
            "Epoch 84/100\n",
            "540/540 [==============================] - 4s 8ms/step - loss: 2.6885 - accuracy: 0.3805 - val_loss: 18.5457 - val_accuracy: 0.0645\n",
            "Epoch 85/100\n",
            "540/540 [==============================] - 4s 8ms/step - loss: 2.6850 - accuracy: 0.3798 - val_loss: 18.4284 - val_accuracy: 0.0610\n",
            "Epoch 86/100\n",
            "540/540 [==============================] - 4s 8ms/step - loss: 2.6838 - accuracy: 0.3804 - val_loss: 18.5724 - val_accuracy: 0.0621\n",
            "Epoch 87/100\n",
            "540/540 [==============================] - 4s 8ms/step - loss: 2.6545 - accuracy: 0.3825 - val_loss: 18.5232 - val_accuracy: 0.0610\n",
            "Epoch 88/100\n",
            "540/540 [==============================] - 4s 8ms/step - loss: 2.6395 - accuracy: 0.3872 - val_loss: 18.9151 - val_accuracy: 0.0691\n",
            "Epoch 89/100\n",
            "540/540 [==============================] - 4s 8ms/step - loss: 2.6360 - accuracy: 0.3888 - val_loss: 18.8642 - val_accuracy: 0.0626\n",
            "Epoch 90/100\n",
            "540/540 [==============================] - 4s 8ms/step - loss: 2.6367 - accuracy: 0.3887 - val_loss: 19.0688 - val_accuracy: 0.0621\n",
            "Epoch 91/100\n",
            "540/540 [==============================] - 4s 8ms/step - loss: 2.6472 - accuracy: 0.3839 - val_loss: 18.9011 - val_accuracy: 0.0633\n",
            "Epoch 92/100\n",
            "540/540 [==============================] - 4s 8ms/step - loss: 2.6157 - accuracy: 0.3918 - val_loss: 19.1449 - val_accuracy: 0.0635\n",
            "Epoch 93/100\n",
            "540/540 [==============================] - 4s 8ms/step - loss: 2.6035 - accuracy: 0.3960 - val_loss: 19.2237 - val_accuracy: 0.0665\n",
            "Epoch 94/100\n",
            "540/540 [==============================] - 4s 8ms/step - loss: 2.5921 - accuracy: 0.3984 - val_loss: 19.3589 - val_accuracy: 0.0601\n",
            "Epoch 95/100\n",
            "540/540 [==============================] - 4s 8ms/step - loss: 2.5730 - accuracy: 0.4012 - val_loss: 19.4142 - val_accuracy: 0.0693\n",
            "Epoch 96/100\n",
            "540/540 [==============================] - 4s 8ms/step - loss: 2.5802 - accuracy: 0.3996 - val_loss: 19.2575 - val_accuracy: 0.0591\n",
            "Epoch 97/100\n",
            "540/540 [==============================] - 4s 8ms/step - loss: 2.5765 - accuracy: 0.3993 - val_loss: 19.5351 - val_accuracy: 0.0631\n",
            "Epoch 98/100\n",
            "540/540 [==============================] - 4s 8ms/step - loss: 2.5552 - accuracy: 0.4011 - val_loss: 19.5492 - val_accuracy: 0.0712\n",
            "Epoch 99/100\n",
            "540/540 [==============================] - 4s 8ms/step - loss: 2.5480 - accuracy: 0.4050 - val_loss: 19.6805 - val_accuracy: 0.0619\n",
            "Epoch 100/100\n",
            "540/540 [==============================] - 4s 8ms/step - loss: 2.5443 - accuracy: 0.4033 - val_loss: 19.4828 - val_accuracy: 0.0587\n"
          ]
        }
      ]
    },
    {
      "cell_type": "code",
      "source": [
        "import matplotlib.pyplot as plt\n",
        "import seaborn as sns\n",
        "\n",
        "# Entrenamiento\n",
        "epoch_count = range(1, len(hist.history['accuracy']) + 1)\n",
        "sns.lineplot(x=epoch_count,  y=hist.history['accuracy'], label='train')\n",
        "sns.lineplot(x=epoch_count,  y=hist.history['val_accuracy'], label='valid')\n",
        "plt.show()"
      ],
      "metadata": {
        "colab": {
          "base_uri": "https://localhost:8080/",
          "height": 265
        },
        "id": "TEjHFBYjuGTh",
        "outputId": "4cd1db48-f4b2-47e5-cd64-1abdf921468e"
      },
      "execution_count": 19,
      "outputs": [
        {
          "output_type": "display_data",
          "data": {
            "text/plain": [
              "<Figure size 432x288 with 1 Axes>"
            ],
            "image/png": "[encoded data removed]"
          },
          "metadata": {
            "needs_background": "light"
          }
        }
      ]
    },
    {
      "cell_type": "markdown",
      "source": [
        "# Prediccion"
      ],
      "metadata": {
        "id": "sEpqn5JDuI0M"
      }
    },
    {
      "cell_type": "code",
      "source": [
        "def model_response(human_text):\n",
        "\n",
        "    # Encodeamos\n",
        "    encoded = tok.texts_to_sequences([human_text])[0]\n",
        "    # Si tienen distinto largo\n",
        "    encoded = pad_sequences([encoded], maxlen=3, padding='pre')\n",
        "    \n",
        "    # Predicción softmax\n",
        "    y_hat = model.predict(encoded).argmax(axis=-1)\n",
        "\n",
        "    # Debemos buscar en el vocabulario la palabra\n",
        "    # que corresopnde al indice (y_hat) predicho por le modelo\n",
        "    out_word = ''\n",
        "    for word, index in tok.word_index.items():\n",
        "        if index == y_hat:\n",
        "            out_word = word\n",
        "            break\n",
        "\n",
        "    # Agrego la palabra a la frase predicha\n",
        "    return human_text + ' ' + out_word\n",
        "\n"
      ],
      "metadata": {
        "id": "g-I2L_MkuKCu"
      },
      "execution_count": 22,
      "outputs": []
    },
    {
      "cell_type": "code",
      "source": [
        "#En la cancion \"Night\" tenemos la frase \"Holding on for your life\" en el coro\n",
        "model_response(\"Holding on for your\")"
      ],
      "metadata": {
        "colab": {
          "base_uri": "https://localhost:8080/",
          "height": 53
        },
        "id": "tDwyDHr7yJxk",
        "outputId": "864c8a47-fba8-4db4-e7cd-ad5200b5e46f"
      },
      "execution_count": 23,
      "outputs": [
        {
          "output_type": "stream",
          "name": "stdout",
          "text": [
            "1/1 [==============================] - 1s 1s/step\n"
          ]
        },
        {
          "output_type": "execute_result",
          "data": {
            "text/plain": [
              "'Holding on for your california'"
            ],
            "application/vnd.google.colaboratory.intrinsic+json": {
              "type": "string"
            }
          },
          "metadata": {},
          "execution_count": 23
        }
      ]
    },
    {
      "cell_type": "code",
      "source": [
        "# I am on fire \"I can take you higher\"\n",
        "model_response(\"I can take you\")"
      ],
      "metadata": {
        "colab": {
          "base_uri": "https://localhost:8080/",
          "height": 53
        },
        "id": "e2pOHPRa0FF6",
        "outputId": "0c1dcccb-3f3f-478f-9bdd-34a8987ac48d"
      },
      "execution_count": 24,
      "outputs": [
        {
          "output_type": "stream",
          "name": "stdout",
          "text": [
            "1/1 [==============================] - 0s 26ms/step\n"
          ]
        },
        {
          "output_type": "execute_result",
          "data": {
            "text/plain": [
              "'I can take you sights'"
            ],
            "application/vnd.google.colaboratory.intrinsic+json": {
              "type": "string"
            }
          },
          "metadata": {},
          "execution_count": 24
        }
      ]
    },
    {
      "cell_type": "markdown",
      "source": [
        "# Generacion de secuencias"
      ],
      "metadata": {
        "id": "8MVqCxKQyYxR"
      }
    },
    {
      "cell_type": "code",
      "source": [
        "def generate_seq(model, tokenizer, seed_text, max_length, n_words):\n",
        "    \"\"\"\n",
        "        Exec model sequence prediction\n",
        "\n",
        "        Args:\n",
        "            model (keras): modelo entrenado\n",
        "            tokenizer (keras tokenizer): tonenizer utilizado en el preprocesamiento\n",
        "            seed_text (string): texto de entrada (input_seq)\n",
        "            max_length (int): máxima longitud de la sequencia de entrada\n",
        "            n_words (int): números de palabras a agregar a la sequencia de entrada\n",
        "        returns:\n",
        "            output_text (string): sentencia con las \"n_words\" agregadas\n",
        "    \"\"\"\n",
        "    output_text = seed_text\n",
        "\t# generate a fixed number of words\n",
        "    for _ in range(n_words):\n",
        "\t\t# Encodeamos\n",
        "        encoded = tokenizer.texts_to_sequences([output_text])[0]\n",
        "\t\t# Si tienen distinto largo\n",
        "        encoded = pad_sequences([encoded], maxlen=max_length, padding='pre')\n",
        "\t\t\n",
        "\t\t# Predicción softmax\n",
        "        y_hat = model.predict(encoded).argmax(axis=-1)\n",
        "\t\t# Vamos concatenando las predicciones\n",
        "        out_word = ''\n",
        "\n",
        "        # Debemos buscar en el vocabulario la palabra\n",
        "        # que corresopnde al indice (y_hat) predicho por le modelo\n",
        "        for word, index in tokenizer.word_index.items():\n",
        "            if index == y_hat:\n",
        "                out_word = word\n",
        "                break\n",
        "\n",
        "\t\t# Agrego las palabras a la frase predicha\n",
        "        output_text += ' ' + out_word\n",
        "    return output_text"
      ],
      "metadata": {
        "id": "EheUrII7ybcl"
      },
      "execution_count": 25,
      "outputs": []
    },
    {
      "cell_type": "code",
      "source": [
        "#Night  \"Holding on for your life\" \n",
        "input_text='Holding on for your'\n",
        "\n",
        "generate_seq(model, tok, input_text, max_length=3, n_words=4)"
      ],
      "metadata": {
        "colab": {
          "base_uri": "https://localhost:8080/",
          "height": 106
        },
        "id": "7s05WfSLycI9",
        "outputId": "252ced1d-37e8-4d1f-ff92-04d5ea1a9e6a"
      },
      "execution_count": 35,
      "outputs": [
        {
          "output_type": "stream",
          "name": "stdout",
          "text": [
            "1/1 [==============================] - 0s 17ms/step\n",
            "1/1 [==============================] - 0s 16ms/step\n",
            "1/1 [==============================] - 0s 62ms/step\n",
            "1/1 [==============================] - 0s 25ms/step\n"
          ]
        },
        {
          "output_type": "execute_result",
          "data": {
            "text/plain": [
              "'Holding on for your california she water the'"
            ],
            "application/vnd.google.colaboratory.intrinsic+json": {
              "type": "string"
            }
          },
          "metadata": {},
          "execution_count": 35
        }
      ]
    },
    {
      "cell_type": "code",
      "source": [
        "#Two faces \"Sometimes mister I feel sunny and wild\"\n",
        "input_text='Sometimes mister I feel'\n",
        "\n",
        "generate_seq(model, tok, input_text, max_length=3, n_words=3)"
      ],
      "metadata": {
        "colab": {
          "base_uri": "https://localhost:8080/",
          "height": 88
        },
        "id": "nmZlWdUUyki5",
        "outputId": "6c5121e0-1ee4-491f-ee4e-edc3ca32c805"
      },
      "execution_count": 34,
      "outputs": [
        {
          "output_type": "stream",
          "name": "stdout",
          "text": [
            "1/1 [==============================] - 0s 17ms/step\n",
            "1/1 [==============================] - 0s 16ms/step\n",
            "1/1 [==============================] - 0s 17ms/step\n"
          ]
        },
        {
          "output_type": "execute_result",
          "data": {
            "text/plain": [
              "'Sometimes mister I feel i with i'"
            ],
            "application/vnd.google.colaboratory.intrinsic+json": {
              "type": "string"
            }
          },
          "metadata": {},
          "execution_count": 34
        }
      ]
    },
    {
      "cell_type": "code",
      "source": [
        "#Born to run \"I wanna guard your dreams and visions\"\n",
        "input_text='I wanna guard your'\n",
        "\n",
        "generate_seq(model, tok, input_text, max_length=3, n_words=3)"
      ],
      "metadata": {
        "colab": {
          "base_uri": "https://localhost:8080/",
          "height": 88
        },
        "id": "n0IOhM29zJcn",
        "outputId": "bc06ed19-eb67-43c9-d62b-23b51c507ee2"
      },
      "execution_count": 33,
      "outputs": [
        {
          "output_type": "stream",
          "name": "stdout",
          "text": [
            "1/1 [==============================] - 0s 16ms/step\n",
            "1/1 [==============================] - 0s 14ms/step\n",
            "1/1 [==============================] - 0s 15ms/step\n"
          ]
        },
        {
          "output_type": "execute_result",
          "data": {
            "text/plain": [
              "'I wanna guard your what i little'"
            ],
            "application/vnd.google.colaboratory.intrinsic+json": {
              "type": "string"
            }
          },
          "metadata": {},
          "execution_count": 33
        }
      ]
    },
    {
      "cell_type": "code",
      "source": [
        "#Radio Nowhere \"I just want to hear some rhythm\"\n",
        "input_text='I just want to'\n",
        "\n",
        "generate_seq(model, tok, input_text, max_length=3, n_words=3)"
      ],
      "metadata": {
        "colab": {
          "base_uri": "https://localhost:8080/",
          "height": 88
        },
        "id": "Z_OftQF5zuPU",
        "outputId": "ef58b92e-b9db-43f8-9836-0e79c3288a6d"
      },
      "execution_count": 32,
      "outputs": [
        {
          "output_type": "stream",
          "name": "stdout",
          "text": [
            "1/1 [==============================] - 0s 31ms/step\n",
            "1/1 [==============================] - 0s 33ms/step\n",
            "1/1 [==============================] - 0s 56ms/step\n"
          ]
        },
        {
          "output_type": "execute_result",
          "data": {
            "text/plain": [
              "'I just want to whoa me brat'"
            ],
            "application/vnd.google.colaboratory.intrinsic+json": {
              "type": "string"
            }
          },
          "metadata": {},
          "execution_count": 32
        }
      ]
    },
    {
      "cell_type": "code",
      "source": [
        "#Pruebas\n",
        "input_text='babe'\n",
        "\n",
        "generate_seq(model, tok, input_text, max_length=3, n_words=10)"
      ],
      "metadata": {
        "colab": {
          "base_uri": "https://localhost:8080/",
          "height": 213
        },
        "id": "X97EUPl22hm0",
        "outputId": "d04d7baa-7418-482b-f078-d7feb6bd6679"
      },
      "execution_count": 36,
      "outputs": [
        {
          "output_type": "stream",
          "name": "stdout",
          "text": [
            "1/1 [==============================] - 0s 16ms/step\n",
            "1/1 [==============================] - 0s 21ms/step\n",
            "1/1 [==============================] - 0s 17ms/step\n",
            "1/1 [==============================] - 0s 16ms/step\n",
            "1/1 [==============================] - 0s 16ms/step\n",
            "1/1 [==============================] - 0s 23ms/step\n",
            "1/1 [==============================] - 0s 39ms/step\n",
            "1/1 [==============================] - 0s 27ms/step\n",
            "1/1 [==============================] - 0s 29ms/step\n",
            "1/1 [==============================] - 0s 25ms/step\n"
          ]
        },
        {
          "output_type": "execute_result",
          "data": {
            "text/plain": [
              "\"babe night and you're counts clip in come minutes walls love\""
            ],
            "application/vnd.google.colaboratory.intrinsic+json": {
              "type": "string"
            }
          },
          "metadata": {},
          "execution_count": 36
        }
      ]
    },
    {
      "cell_type": "code",
      "source": [
        "input_text='you are'\n",
        "\n",
        "generate_seq(model, tok, input_text, max_length=3, n_words=10)"
      ],
      "metadata": {
        "colab": {
          "base_uri": "https://localhost:8080/",
          "height": 213
        },
        "id": "OCj2Z08b2on5",
        "outputId": "d40b6ed1-af23-42bc-d148-feefdb4f3216"
      },
      "execution_count": 37,
      "outputs": [
        {
          "output_type": "stream",
          "name": "stdout",
          "text": [
            "1/1 [==============================] - 0s 18ms/step\n",
            "1/1 [==============================] - 0s 16ms/step\n",
            "1/1 [==============================] - 0s 17ms/step\n",
            "1/1 [==============================] - 0s 14ms/step\n",
            "1/1 [==============================] - 0s 14ms/step\n",
            "1/1 [==============================] - 0s 15ms/step\n",
            "1/1 [==============================] - 0s 17ms/step\n",
            "1/1 [==============================] - 0s 17ms/step\n",
            "1/1 [==============================] - 0s 17ms/step\n",
            "1/1 [==============================] - 0s 16ms/step\n"
          ]
        },
        {
          "output_type": "execute_result",
          "data": {
            "text/plain": [
              "'you are i valley love saw we mary they gotta come just'"
            ],
            "application/vnd.google.colaboratory.intrinsic+json": {
              "type": "string"
            }
          },
          "metadata": {},
          "execution_count": 37
        }
      ]
    },
    {
      "cell_type": "code",
      "source": [
        "input_text='feel like'\n",
        "\n",
        "generate_seq(model, tok, input_text, max_length=3, n_words=10)"
      ],
      "metadata": {
        "colab": {
          "base_uri": "https://localhost:8080/",
          "height": 213
        },
        "id": "otEtBUGQ2t_a",
        "outputId": "3c010fbf-37ec-44b9-dfba-9a6d8f51980f"
      },
      "execution_count": 38,
      "outputs": [
        {
          "output_type": "stream",
          "name": "stdout",
          "text": [
            "1/1 [==============================] - 0s 17ms/step\n",
            "1/1 [==============================] - 0s 15ms/step\n",
            "1/1 [==============================] - 0s 15ms/step\n",
            "1/1 [==============================] - 0s 15ms/step\n",
            "1/1 [==============================] - 0s 15ms/step\n",
            "1/1 [==============================] - 0s 39ms/step\n",
            "1/1 [==============================] - 0s 30ms/step\n",
            "1/1 [==============================] - 0s 36ms/step\n",
            "1/1 [==============================] - 0s 25ms/step\n",
            "1/1 [==============================] - 0s 22ms/step\n"
          ]
        },
        {
          "output_type": "execute_result",
          "data": {
            "text/plain": [
              "'feel like thousand up the it blast again the middle you come'"
            ],
            "application/vnd.google.colaboratory.intrinsic+json": {
              "type": "string"
            }
          },
          "metadata": {},
          "execution_count": 38
        }
      ]
    },
    {
      "cell_type": "markdown",
      "source": [
        "# Conclusion"
      ],
      "metadata": {
        "id": "N5GOdU3d2xxs"
      }
    },
    {
      "cell_type": "markdown",
      "source": [
        "En conclusion, el modelo performa bastante mal y por lo tanto con todas las pruebas que hicimos podemos notar de forma un poco mas practica que la verdad no puede llegar a hacer predicciones correctas.\n",
        "\n",
        "\n",
        "\n",
        "Pero no por eso resulta interesante, uno espera que con un corpus mas grande  funcione mejor, pero ahi uno capaz entraria a poner letras de otros artistas, entonces habria que buscar con otro tipo de red para que pueda aprender, o mismo, generar algun tipo de ruido en nuestro corupus actual para poder maximizar el tamaño de este."
      ],
      "metadata": {
        "id": "EhkVr8_B20Dm"
      }
    }
  ]
}
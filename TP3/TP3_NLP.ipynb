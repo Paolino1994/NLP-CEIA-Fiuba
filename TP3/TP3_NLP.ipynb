{
  "nbformat": 4,
  "nbformat_minor": 0,
  "metadata": {
    "colab": {
      "provenance": [],
      "authorship_tag": "ABX9TyOl/HnZZuBSXBgpqPHhUIJ4",
      "include_colab_link": true
    },
    "kernelspec": {
      "name": "python3",
      "display_name": "Python 3"
    },
    "language_info": {
      "name": "python"
    }
  },
  "cells": [
    {
      "cell_type": "markdown",
      "metadata": {
        "id": "view-in-github",
        "colab_type": "text"
      },
      "source": [
        "<a href=\"https://colab.research.google.com/github/Paolino1994/NLP-CEIA-Fiuba/blob/main/TP3/TP3_NLP.ipynb\" target=\"_parent\"><img src=\"https://colab.research.google.com/assets/colab-badge.svg\" alt=\"Open In Colab\"/></a>"
      ]
    },
    {
      "cell_type": "code",
      "execution_count": 1,
      "metadata": {
        "id": "5UasA9ywnAz9"
      },
      "outputs": [],
      "source": [
        "import pandas as pd\n",
        "import matplotlib.pyplot as plt\n",
        "import seaborn as sns\n",
        "\n",
        "import multiprocessing\n",
        "from gensim.models import Word2Vec"
      ]
    },
    {
      "cell_type": "markdown",
      "source": [
        "#Descargar Dataset"
      ],
      "metadata": {
        "id": "1swK4SZ8nUS2"
      }
    },
    {
      "cell_type": "code",
      "source": [
        "# Descargar la carpeta de dataset\n",
        "import os\n",
        "import platform\n",
        "if os.access('./songs_dataset', os.F_OK) is False:\n",
        "    if os.access('songs_dataset.zip', os.F_OK) is False:\n",
        "        if platform.system() == 'Windows':\n",
        "            !curl https://raw.githubusercontent.com/FIUBA-Posgrado-Inteligencia-Artificial/procesamiento_lenguaje_natural/main/datasets/songs_dataset.zip -o songs_dataset.zip\n",
        "        else:\n",
        "            !wget songs_dataset.zip https://github.com/FIUBA-Posgrado-Inteligencia-Artificial/procesamiento_lenguaje_natural/raw/main/datasets/songs_dataset.zip\n",
        "    !unzip -q songs_dataset.zip   \n",
        "else:\n",
        "    print(\"El dataset ya se encuentra descargado\")"
      ],
      "metadata": {
        "colab": {
          "base_uri": "https://localhost:8080/"
        },
        "id": "KGAlfk0enLlS",
        "outputId": "ff918591-3f40-4cf6-c1a6-8632b5a3028b"
      },
      "execution_count": 3,
      "outputs": [
        {
          "output_type": "stream",
          "name": "stdout",
          "text": [
            "El dataset ya se encuentra descargado\n"
          ]
        }
      ]
    },
    {
      "cell_type": "code",
      "source": [
        "# Posibles bandas\n",
        "os.listdir(\"./songs_dataset/\")"
      ],
      "metadata": {
        "colab": {
          "base_uri": "https://localhost:8080/"
        },
        "id": "pI1XIDzVndoy",
        "outputId": "a8d8e24c-ce41-4c66-fdf4-b7654b56d138"
      },
      "execution_count": 4,
      "outputs": [
        {
          "output_type": "execute_result",
          "data": {
            "text/plain": [
              "['bieber.txt',\n",
              " 'nirvana.txt',\n",
              " 'alicia-keys.txt',\n",
              " 'dickinson.txt',\n",
              " 'dolly-parton.txt',\n",
              " 'Kanye_West.txt',\n",
              " 'nursery_rhymes.txt',\n",
              " 'disney.txt',\n",
              " 'drake.txt',\n",
              " 'nickelback.txt',\n",
              " 'bob-dylan.txt',\n",
              " 'ludacris.txt',\n",
              " 'al-green.txt',\n",
              " 'radiohead.txt',\n",
              " 'paul-simon.txt',\n",
              " 'dr-seuss.txt',\n",
              " 'beatles.txt',\n",
              " 'notorious_big.txt',\n",
              " 'amy-winehouse.txt',\n",
              " 'nicki-minaj.txt',\n",
              " 'adele.txt',\n",
              " 'kanye-west.txt',\n",
              " 'jimi-hendrix.txt',\n",
              " 'cake.txt',\n",
              " 'joni-mitchell.txt',\n",
              " 'lady-gaga.txt',\n",
              " 'bob-marley.txt',\n",
              " 'missy-elliott.txt',\n",
              " 'lorde.txt',\n",
              " 'r-kelly.txt',\n",
              " 'bruno-mars.txt',\n",
              " 'Lil_Wayne.txt',\n",
              " 'lin-manuel-miranda.txt',\n",
              " 'eminem.txt',\n",
              " 'patti-smith.txt',\n",
              " 'dj-khaled.txt',\n",
              " 'prince.txt',\n",
              " 'blink-182.txt',\n",
              " 'bjork.txt',\n",
              " 'leonard-cohen.txt',\n",
              " 'johnny-cash.txt',\n",
              " 'janisjoplin.txt',\n",
              " 'notorious-big.txt',\n",
              " 'britney-spears.txt',\n",
              " 'lil-wayne.txt',\n",
              " 'michael-jackson.txt',\n",
              " 'kanye.txt',\n",
              " 'bruce-springsteen.txt',\n",
              " 'rihanna.txt']"
            ]
          },
          "metadata": {},
          "execution_count": 4
        }
      ]
    },
    {
      "cell_type": "code",
      "source": [
        "df = pd.read_csv('songs_dataset/bruce-springsteen.txt', sep='/n', header=None)\n",
        "df.head()"
      ],
      "metadata": {
        "colab": {
          "base_uri": "https://localhost:8080/",
          "height": 261
        },
        "id": "vG7ZCffbnZtv",
        "outputId": "89b24b17-10df-4968-f949-d00421d8c46a"
      },
      "execution_count": 5,
      "outputs": [
        {
          "output_type": "stream",
          "name": "stderr",
          "text": [
            "/usr/local/lib/python3.7/dist-packages/pandas/util/_decorators.py:311: ParserWarning: Falling back to the 'python' engine because the 'c' engine does not support regex separators (separators > 1 char and different from '\\s+' are interpreted as regex); you can avoid this warning by specifying engine='python'.\n",
            "  return func(*args, **kwargs)\n"
          ]
        },
        {
          "output_type": "execute_result",
          "data": {
            "text/plain": [
              "                                                   0\n",
              "0                                          [Verse 1]\n",
              "1                          They come from everywhere\n",
              "2                               A longing to be free\n",
              "3                          They come to join us here\n",
              "4  From sea to shining sea And they all have a dream"
            ],
            "text/html": [
              "\n",
              "  <div id=\"df-3b188830-bba6-470d-986d-6b395bd24b62\">\n",
              "    <div class=\"colab-df-container\">\n",
              "      <div>\n",
              "<style scoped>\n",
              "    .dataframe tbody tr th:only-of-type {\n",
              "        vertical-align: middle;\n",
              "    }\n",
              "\n",
              "    .dataframe tbody tr th {\n",
              "        vertical-align: top;\n",
              "    }\n",
              "\n",
              "    .dataframe thead th {\n",
              "        text-align: right;\n",
              "    }\n",
              "</style>\n",
              "<table border=\"1\" class=\"dataframe\">\n",
              "  <thead>\n",
              "    <tr style=\"text-align: right;\">\n",
              "      <th></th>\n",
              "      <th>0</th>\n",
              "    </tr>\n",
              "  </thead>\n",
              "  <tbody>\n",
              "    <tr>\n",
              "      <th>0</th>\n",
              "      <td>[Verse 1]</td>\n",
              "    </tr>\n",
              "    <tr>\n",
              "      <th>1</th>\n",
              "      <td>They come from everywhere</td>\n",
              "    </tr>\n",
              "    <tr>\n",
              "      <th>2</th>\n",
              "      <td>A longing to be free</td>\n",
              "    </tr>\n",
              "    <tr>\n",
              "      <th>3</th>\n",
              "      <td>They come to join us here</td>\n",
              "    </tr>\n",
              "    <tr>\n",
              "      <th>4</th>\n",
              "      <td>From sea to shining sea And they all have a dream</td>\n",
              "    </tr>\n",
              "  </tbody>\n",
              "</table>\n",
              "</div>\n",
              "      <button class=\"colab-df-convert\" onclick=\"convertToInteractive('df-3b188830-bba6-470d-986d-6b395bd24b62')\"\n",
              "              title=\"Convert this dataframe to an interactive table.\"\n",
              "              style=\"display:none;\">\n",
              "        \n",
              "  <svg xmlns=\"http://www.w3.org/2000/svg\" height=\"24px\"viewBox=\"0 0 24 24\"\n",
              "       width=\"24px\">\n",
              "    <path d=\"M0 0h24v24H0V0z\" fill=\"none\"/>\n",
              "    <path d=\"M18.56 5.44l.94 2.06.94-2.06 2.06-.94-2.06-.94-.94-2.06-.94 2.06-2.06.94zm-11 1L8.5 8.5l.94-2.06 2.06-.94-2.06-.94L8.5 2.5l-.94 2.06-2.06.94zm10 10l.94 2.06.94-2.06 2.06-.94-2.06-.94-.94-2.06-.94 2.06-2.06.94z\"/><path d=\"M17.41 7.96l-1.37-1.37c-.4-.4-.92-.59-1.43-.59-.52 0-1.04.2-1.43.59L10.3 9.45l-7.72 7.72c-.78.78-.78 2.05 0 2.83L4 21.41c.39.39.9.59 1.41.59.51 0 1.02-.2 1.41-.59l7.78-7.78 2.81-2.81c.8-.78.8-2.07 0-2.86zM5.41 20L4 18.59l7.72-7.72 1.47 1.35L5.41 20z\"/>\n",
              "  </svg>\n",
              "      </button>\n",
              "      \n",
              "  <style>\n",
              "    .colab-df-container {\n",
              "      display:flex;\n",
              "      flex-wrap:wrap;\n",
              "      gap: 12px;\n",
              "    }\n",
              "\n",
              "    .colab-df-convert {\n",
              "      background-color: #E8F0FE;\n",
              "      border: none;\n",
              "      border-radius: 50%;\n",
              "      cursor: pointer;\n",
              "      display: none;\n",
              "      fill: #1967D2;\n",
              "      height: 32px;\n",
              "      padding: 0 0 0 0;\n",
              "      width: 32px;\n",
              "    }\n",
              "\n",
              "    .colab-df-convert:hover {\n",
              "      background-color: #E2EBFA;\n",
              "      box-shadow: 0px 1px 2px rgba(60, 64, 67, 0.3), 0px 1px 3px 1px rgba(60, 64, 67, 0.15);\n",
              "      fill: #174EA6;\n",
              "    }\n",
              "\n",
              "    [theme=dark] .colab-df-convert {\n",
              "      background-color: #3B4455;\n",
              "      fill: #D2E3FC;\n",
              "    }\n",
              "\n",
              "    [theme=dark] .colab-df-convert:hover {\n",
              "      background-color: #434B5C;\n",
              "      box-shadow: 0px 1px 3px 1px rgba(0, 0, 0, 0.15);\n",
              "      filter: drop-shadow(0px 1px 2px rgba(0, 0, 0, 0.3));\n",
              "      fill: #FFFFFF;\n",
              "    }\n",
              "  </style>\n",
              "\n",
              "      <script>\n",
              "        const buttonEl =\n",
              "          document.querySelector('#df-3b188830-bba6-470d-986d-6b395bd24b62 button.colab-df-convert');\n",
              "        buttonEl.style.display =\n",
              "          google.colab.kernel.accessAllowed ? 'block' : 'none';\n",
              "\n",
              "        async function convertToInteractive(key) {\n",
              "          const element = document.querySelector('#df-3b188830-bba6-470d-986d-6b395bd24b62');\n",
              "          const dataTable =\n",
              "            await google.colab.kernel.invokeFunction('convertToInteractive',\n",
              "                                                     [key], {});\n",
              "          if (!dataTable) return;\n",
              "\n",
              "          const docLinkHtml = 'Like what you see? Visit the ' +\n",
              "            '<a target=\"_blank\" href=https://colab.research.google.com/notebooks/data_table.ipynb>data table notebook</a>'\n",
              "            + ' to learn more about interactive tables.';\n",
              "          element.innerHTML = '';\n",
              "          dataTable['output_type'] = 'display_data';\n",
              "          await google.colab.output.renderOutput(dataTable, element);\n",
              "          const docLink = document.createElement('div');\n",
              "          docLink.innerHTML = docLinkHtml;\n",
              "          element.appendChild(docLink);\n",
              "        }\n",
              "      </script>\n",
              "    </div>\n",
              "  </div>\n",
              "  "
            ]
          },
          "metadata": {},
          "execution_count": 5
        }
      ]
    },
    {
      "cell_type": "code",
      "source": [
        "print(\"Cantidad de documentos:\", df.shape[0])"
      ],
      "metadata": {
        "colab": {
          "base_uri": "https://localhost:8080/"
        },
        "id": "M8Xy8laEnqeM",
        "outputId": "683ee27c-67c2-408d-dbad-5a33fd7946e6"
      },
      "execution_count": 6,
      "outputs": [
        {
          "output_type": "stream",
          "name": "stdout",
          "text": [
            "Cantidad de documentos: 2413\n"
          ]
        }
      ]
    },
    {
      "cell_type": "markdown",
      "source": [
        "# Preprocesamiento"
      ],
      "metadata": {
        "id": "LcOjap1Pnt30"
      }
    },
    {
      "cell_type": "code",
      "source": [
        "from keras.preprocessing.text import text_to_word_sequence\n",
        "\n",
        "sentence_tokens = []\n",
        "# Recorrer todas las filas y transformar las oraciones\n",
        "# en una secuencia de palabras (esto podría realizarse con NLTK o spaCy también)\n",
        "for _, row in df[:None].iterrows():\n",
        "    sentence_tokens.append(text_to_word_sequence(row[0]))"
      ],
      "metadata": {
        "id": "KiRoqlGvnvv9"
      },
      "execution_count": 7,
      "outputs": []
    },
    {
      "cell_type": "markdown",
      "source": [
        "# Word2Vec"
      ],
      "metadata": {
        "id": "AX-cikDhnzN3"
      }
    },
    {
      "cell_type": "code",
      "source": [
        "from gensim.models.callbacks import CallbackAny2Vec\n",
        "# Durante el entrenamiento gensim por defecto no informa el \"loss\" en cada época\n",
        "# Sobracargamos el callback para poder tener esta información\n",
        "class callback(CallbackAny2Vec):\n",
        "    \"\"\"\n",
        "    Callback to print loss after each epoch\n",
        "    \"\"\"\n",
        "    def __init__(self):\n",
        "        self.epoch = 0\n",
        "\n",
        "    def on_epoch_end(self, model):\n",
        "        loss = model.get_latest_training_loss()\n",
        "        if self.epoch == 0:\n",
        "            print('Loss after epoch {}: {}'.format(self.epoch, loss))\n",
        "        else:\n",
        "            print('Loss after epoch {}: {}'.format(self.epoch, loss- self.loss_previous_step))\n",
        "        self.epoch += 1\n",
        "        self.loss_previous_step = loss"
      ],
      "metadata": {
        "id": "5NZLAAtxnwc4"
      },
      "execution_count": 8,
      "outputs": []
    },
    {
      "cell_type": "code",
      "source": [
        "w2v_model = Word2Vec(min_count=5,    # frecuencia mínima de palabra para incluirla en el vocabulario\n",
        "                     window=2,       # cant de palabras antes y desp de la predicha\n",
        "                     size=300,       # dimensionalidad de los vectores \n",
        "                     negative=20,    # cantidad de negative samples... 0 es no se usa\n",
        "                     workers=1,      # si tienen más cores pueden cambiar este valor\n",
        "                     sg=1)           # modelo 0:CBOW  1:skipgram"
      ],
      "metadata": {
        "id": "FifWgxvxn3Df"
      },
      "execution_count": 9,
      "outputs": []
    },
    {
      "cell_type": "code",
      "source": [
        "w2v_model.build_vocab(sentence_tokens)"
      ],
      "metadata": {
        "id": "VxZwL19kn7gr"
      },
      "execution_count": 10,
      "outputs": []
    },
    {
      "cell_type": "code",
      "source": [
        "print(\"Cantidad de docs en el corpus:\", w2v_model.corpus_count)\n",
        "print(\"Cantidad de words distintas en el corpus:\", len(w2v_model.wv.vocab))"
      ],
      "metadata": {
        "colab": {
          "base_uri": "https://localhost:8080/"
        },
        "id": "rU1hAuPPn-_A",
        "outputId": "aa6e8b30-c7b3-46c7-9c33-f8633edd03fa"
      },
      "execution_count": 11,
      "outputs": [
        {
          "output_type": "stream",
          "name": "stdout",
          "text": [
            "Cantidad de docs en el corpus: 2413\n",
            "Cantidad de words distintas en el corpus: 609\n"
          ]
        }
      ]
    },
    {
      "cell_type": "markdown",
      "source": [
        "# Entrenamiento"
      ],
      "metadata": {
        "id": "dy-IsbnroDYp"
      }
    },
    {
      "cell_type": "code",
      "source": [
        "w2v_model.train(sentence_tokens,\n",
        "                 total_examples=w2v_model.corpus_count,\n",
        "                 epochs=100,\n",
        "                 compute_loss = True,\n",
        "                 callbacks=[callback()]\n",
        "                 )"
      ],
      "metadata": {
        "colab": {
          "base_uri": "https://localhost:8080/"
        },
        "id": "obVzdkJyoFRv",
        "outputId": "0f3c079c-836a-4541-d5ca-4d4351e44e2b"
      },
      "execution_count": 15,
      "outputs": [
        {
          "output_type": "stream",
          "name": "stderr",
          "text": [
            "WARNING:gensim.models.base_any2vec:Effective 'alpha' higher than previous training cycles\n"
          ]
        },
        {
          "output_type": "stream",
          "name": "stdout",
          "text": [
            "Loss after epoch 0: 64151.66015625\n",
            "Loss after epoch 1: 65212.01171875\n",
            "Loss after epoch 2: 64538.640625\n",
            "Loss after epoch 3: 65855.5625\n",
            "Loss after epoch 4: 64760.75\n",
            "Loss after epoch 5: 64911.9375\n",
            "Loss after epoch 6: 64063.5625\n",
            "Loss after epoch 7: 63967.6875\n",
            "Loss after epoch 8: 63695.375\n",
            "Loss after epoch 9: 62394.75\n",
            "Loss after epoch 10: 63107.75\n",
            "Loss after epoch 11: 62402.0\n",
            "Loss after epoch 12: 62945.4375\n",
            "Loss after epoch 13: 63050.0\n",
            "Loss after epoch 14: 62248.5625\n",
            "Loss after epoch 15: 63350.5\n",
            "Loss after epoch 16: 60997.6875\n",
            "Loss after epoch 17: 60483.125\n",
            "Loss after epoch 18: 61541.375\n",
            "Loss after epoch 19: 61643.0\n",
            "Loss after epoch 20: 59793.0\n",
            "Loss after epoch 21: 61276.0\n",
            "Loss after epoch 22: 60776.125\n",
            "Loss after epoch 23: 60377.125\n",
            "Loss after epoch 24: 59887.875\n",
            "Loss after epoch 25: 60400.25\n",
            "Loss after epoch 26: 60680.875\n",
            "Loss after epoch 27: 59848.25\n",
            "Loss after epoch 28: 60004.25\n",
            "Loss after epoch 29: 61147.5\n",
            "Loss after epoch 30: 60673.75\n",
            "Loss after epoch 31: 60099.25\n",
            "Loss after epoch 32: 60199.5\n",
            "Loss after epoch 33: 58682.625\n",
            "Loss after epoch 34: 58234.0\n",
            "Loss after epoch 35: 57532.0\n",
            "Loss after epoch 36: 57551.25\n",
            "Loss after epoch 37: 56909.75\n",
            "Loss after epoch 38: 57813.0\n",
            "Loss after epoch 39: 57738.5\n",
            "Loss after epoch 40: 58127.75\n",
            "Loss after epoch 41: 57566.75\n",
            "Loss after epoch 42: 57077.25\n",
            "Loss after epoch 43: 57664.25\n",
            "Loss after epoch 44: 57984.5\n",
            "Loss after epoch 45: 57615.25\n",
            "Loss after epoch 46: 57960.75\n",
            "Loss after epoch 47: 57737.5\n",
            "Loss after epoch 48: 56976.25\n",
            "Loss after epoch 49: 57333.75\n",
            "Loss after epoch 50: 56414.0\n",
            "Loss after epoch 51: 57225.5\n",
            "Loss after epoch 52: 56220.0\n",
            "Loss after epoch 53: 56642.5\n",
            "Loss after epoch 54: 57039.75\n",
            "Loss after epoch 55: 56730.0\n",
            "Loss after epoch 56: 56695.5\n",
            "Loss after epoch 57: 57828.75\n",
            "Loss after epoch 58: 56684.0\n",
            "Loss after epoch 59: 56612.75\n",
            "Loss after epoch 60: 57013.75\n",
            "Loss after epoch 61: 57478.0\n",
            "Loss after epoch 62: 56771.0\n",
            "Loss after epoch 63: 57289.75\n",
            "Loss after epoch 64: 56710.75\n",
            "Loss after epoch 65: 56452.5\n",
            "Loss after epoch 66: 55687.25\n",
            "Loss after epoch 67: 56398.75\n",
            "Loss after epoch 68: 55468.25\n",
            "Loss after epoch 69: 56161.25\n",
            "Loss after epoch 70: 54501.75\n",
            "Loss after epoch 71: 52071.5\n",
            "Loss after epoch 72: 52115.0\n",
            "Loss after epoch 73: 51976.5\n",
            "Loss after epoch 74: 52306.5\n",
            "Loss after epoch 75: 51719.5\n",
            "Loss after epoch 76: 52279.5\n",
            "Loss after epoch 77: 51504.5\n",
            "Loss after epoch 78: 52277.0\n",
            "Loss after epoch 79: 52283.5\n",
            "Loss after epoch 80: 52335.5\n",
            "Loss after epoch 81: 51567.5\n",
            "Loss after epoch 82: 51599.0\n",
            "Loss after epoch 83: 52895.5\n",
            "Loss after epoch 84: 51467.5\n",
            "Loss after epoch 85: 51229.5\n",
            "Loss after epoch 86: 51072.5\n",
            "Loss after epoch 87: 51275.5\n",
            "Loss after epoch 88: 51618.0\n",
            "Loss after epoch 89: 51655.5\n",
            "Loss after epoch 90: 51068.0\n",
            "Loss after epoch 91: 50822.5\n",
            "Loss after epoch 92: 51324.0\n",
            "Loss after epoch 93: 50831.0\n",
            "Loss after epoch 94: 50691.5\n",
            "Loss after epoch 95: 50083.0\n",
            "Loss after epoch 96: 50562.5\n",
            "Loss after epoch 97: 50783.5\n",
            "Loss after epoch 98: 51233.5\n",
            "Loss after epoch 99: 50786.0\n"
          ]
        },
        {
          "output_type": "execute_result",
          "data": {
            "text/plain": [
              "(1227949, 2156600)"
            ]
          },
          "metadata": {},
          "execution_count": 15
        }
      ]
    },
    {
      "cell_type": "code",
      "source": [
        "w2v_model.wv.most_similar(positive=[\"cry\"], topn=10)"
      ],
      "metadata": {
        "colab": {
          "base_uri": "https://localhost:8080/"
        },
        "id": "sKwZvcQXoFUw",
        "outputId": "aded9a6e-a91f-4cc0-be58-0b6193590826"
      },
      "execution_count": 18,
      "outputs": [
        {
          "output_type": "execute_result",
          "data": {
            "text/plain": [
              "[('mourn', 0.5651511549949646),\n",
              " ('weep', 0.5596333742141724),\n",
              " ('brothers', 0.5214001536369324),\n",
              " ('because', 0.5062947273254395),\n",
              " ('o', 0.5029638409614563),\n",
              " ('mary', 0.48766839504241943),\n",
              " ('tired', 0.42927539348602295),\n",
              " ('sha', 0.42677968740463257),\n",
              " ('trapped', 0.4249432682991028),\n",
              " ('tenth', 0.42290160059928894)]"
            ]
          },
          "metadata": {},
          "execution_count": 18
        }
      ]
    },
    {
      "cell_type": "markdown",
      "source": [
        "Podemos ver que asocia el llorar con el duelo, con weep, que tambien viene de llorar, pero lo extraño es que despues se va para el lado de brothers, lo que resulta un poco extraño, ya que bruce springsteen no tiene hermanos."
      ],
      "metadata": {
        "id": "BREqwpAyq5Pk"
      }
    },
    {
      "cell_type": "code",
      "source": [
        "w2v_model.wv.most_similar(positive=[\"love\"], topn=10)"
      ],
      "metadata": {
        "colab": {
          "base_uri": "https://localhost:8080/"
        },
        "id": "VHYwKIFhpJeb",
        "outputId": "6218cac5-b74a-4a63-c771-1d5d1c618ce0"
      },
      "execution_count": 33,
      "outputs": [
        {
          "output_type": "execute_result",
          "data": {
            "text/plain": [
              "[('hate', 0.622441291809082),\n",
              " ('conquer', 0.5479432344436646),\n",
              " ('save', 0.4436076879501343),\n",
              " ('sha', 0.43522584438323975),\n",
              " ('lift', 0.4169168472290039),\n",
              " ('bet', 0.40212035179138184),\n",
              " ('la', 0.3938601016998291),\n",
              " ('anything', 0.384234756231308),\n",
              " ('ready', 0.37896519899368286),\n",
              " ('sherry', 0.3755594491958618)]"
            ]
          },
          "metadata": {},
          "execution_count": 33
        }
      ]
    },
    {
      "cell_type": "code",
      "source": [
        "w2v_model.wv.most_similar(negative=[\"love\"])"
      ],
      "metadata": {
        "colab": {
          "base_uri": "https://localhost:8080/"
        },
        "id": "cfozJGa6pay4",
        "outputId": "037517a8-9ccd-4dc2-951a-bab2ceb80d9e"
      },
      "execution_count": 28,
      "outputs": [
        {
          "output_type": "execute_result",
          "data": {
            "text/plain": [
              "[('stood', 0.024111412465572357),\n",
              " ('miles', 0.018508948385715485),\n",
              " ('walked', -0.00810830295085907),\n",
              " ('left', -0.009866224601864815),\n",
              " ('fifteen', -0.012942483648657799),\n",
              " ('erie', -0.02010757103562355),\n",
              " ('are', -0.02032061666250229),\n",
              " ('takes', -0.020703434944152832),\n",
              " ('franky', -0.020762380212545395),\n",
              " ('canal', -0.030424151569604874)]"
            ]
          },
          "metadata": {},
          "execution_count": 28
        }
      ]
    },
    {
      "cell_type": "markdown",
      "source": [
        "Curioso que la palabra mas relacionada a amor sea odio, pero bueno, son los 2 sentimientos mas fuertes del ser humano y comunmente se pasa de uno a otro de forma muy rapida. Depsues tambien habla de conquistar y de salvar el amor. Tambien podemos destacar la particula \"la\" que se suele usar para cantar. ASi que para bruce, esa particula esta mas asociada a la positividad que a lo negativo.\n",
        "EN el caso de lo negativo, la verdad no noto relaciones notables."
      ],
      "metadata": {
        "id": "da6SFllsrSWO"
      }
    },
    {
      "cell_type": "code",
      "source": [
        "w2v_model.wv.most_similar(positive=[\"night\"], topn=10)"
      ],
      "metadata": {
        "colab": {
          "base_uri": "https://localhost:8080/"
        },
        "id": "hA1RQUDcpTRh",
        "outputId": "46717912-7dbc-443f-92ed-e56f3133aaf3"
      },
      "execution_count": 34,
      "outputs": [
        {
          "output_type": "execute_result",
          "data": {
            "text/plain": [
              "[('prove', 0.4583151936531067),\n",
              " ('missing', 0.4291517734527588),\n",
              " ('dance', 0.4126948118209839),\n",
              " ('saturday', 0.40749508142471313),\n",
              " ('last', 0.38029491901397705),\n",
              " ('dreamed', 0.3797728419303894),\n",
              " ('middle', 0.3795884847640991),\n",
              " ('played', 0.36400777101516724),\n",
              " ('saw', 0.355297714471817),\n",
              " ('fact', 0.34745365381240845)]"
            ]
          },
          "metadata": {},
          "execution_count": 34
        }
      ]
    },
    {
      "cell_type": "code",
      "source": [
        "w2v_model.wv.most_similar(negative=[\"night\"], topn=10)"
      ],
      "metadata": {
        "colab": {
          "base_uri": "https://localhost:8080/"
        },
        "id": "d_RmnI8ysGAS",
        "outputId": "11f36914-513f-466e-c774-ae7ca085d7c0"
      },
      "execution_count": 35,
      "outputs": [
        {
          "output_type": "execute_result",
          "data": {
            "text/plain": [
              "[('more', 0.01975090801715851),\n",
              " ('friend', 0.002518860623240471),\n",
              " ('far', 0.002028927206993103),\n",
              " ('wants', -0.0026906831189990044),\n",
              " ('better', -0.009141745045781136),\n",
              " ('dreams', -0.015119064599275589),\n",
              " (\"can't\", -0.016778932884335518),\n",
              " ('franky', -0.01779075153172016),\n",
              " ('tell', -0.026394188404083252),\n",
              " ('front', -0.02657454088330269)]"
            ]
          },
          "metadata": {},
          "execution_count": 35
        }
      ]
    },
    {
      "cell_type": "markdown",
      "source": [
        "Con respecto a noche, notamos palabras como dance(bailar), saturday, last y night. Creo que para particularmente esta palabra funciona muy bien. Por lo menos un poco particular lo vemos del otro lado, donde relaciona de manera negativa la noche con amigos, lo cual para algunos es asi, para otros no tanto."
      ],
      "metadata": {
        "id": "E1vose0yrvV_"
      }
    },
    {
      "cell_type": "code",
      "source": [
        "w2v_model.wv.most_similar(negative=[\"hate\"])"
      ],
      "metadata": {
        "colab": {
          "base_uri": "https://localhost:8080/"
        },
        "id": "h5jrJKTtqU8j",
        "outputId": "4ac4b153-af6a-409d-ef80-e1c962f18a11"
      },
      "execution_count": 32,
      "outputs": [
        {
          "output_type": "execute_result",
          "data": {
            "text/plain": [
              "[('stood', 0.03978778421878815),\n",
              " ('girls', -0.05945466086268425),\n",
              " ('walked', -0.06240247189998627),\n",
              " ('took', -0.06699390709400177),\n",
              " ('miles', -0.0818716511130333),\n",
              " ('last', -0.08213238418102264),\n",
              " ('sea', -0.08377984166145325),\n",
              " ('steps', -0.08867721259593964),\n",
              " ('comes', -0.09906250983476639),\n",
              " ('town', -0.10737701505422592)]"
            ]
          },
          "metadata": {},
          "execution_count": 32
        }
      ]
    },
    {
      "cell_type": "markdown",
      "source": [
        "# Visualizacion"
      ],
      "metadata": {
        "id": "Xgi5JCsTpn9x"
      }
    },
    {
      "cell_type": "code",
      "source": [
        "from sklearn.decomposition import IncrementalPCA    \n",
        "from sklearn.manifold import TSNE                   \n",
        "import numpy as np                                  \n",
        "\n",
        "def reduce_dimensions(model):\n",
        "    num_dimensions = 2  \n",
        "\n",
        "    vectors = np.asarray(model.wv.vectors)\n",
        "    labels = np.asarray(model.wv.index2word)  \n",
        "\n",
        "    tsne = TSNE(n_components=num_dimensions, random_state=0)\n",
        "    vectors = tsne.fit_transform(vectors)\n",
        "\n",
        "    x_vals = [v[0] for v in vectors]\n",
        "    y_vals = [v[1] for v in vectors]\n",
        "    return x_vals, y_vals, labels"
      ],
      "metadata": {
        "id": "SBq5ZI7Zpqdx"
      },
      "execution_count": 29,
      "outputs": []
    },
    {
      "cell_type": "code",
      "source": [
        "import plotly.graph_objects as go\n",
        "import plotly.express as px\n",
        "\n",
        "x_vals, y_vals, labels = reduce_dimensions(w2v_model)\n",
        "\n",
        "MAX_WORDS=200\n",
        "fig = px.scatter(x=x_vals[:MAX_WORDS], y=y_vals[:MAX_WORDS], text=labels[:MAX_WORDS])\n",
        "fig.show(renderer=\"colab\") # esto para plotly en colab"
      ],
      "metadata": {
        "colab": {
          "base_uri": "https://localhost:8080/",
          "height": 611
        },
        "id": "D7c5s-NIptNo",
        "outputId": "a7361c1f-7a7d-474d-9a98-a736e13cb224"
      },
      "execution_count": 30,
      "outputs": [
        {
          "output_type": "stream",
          "name": "stderr",
          "text": [
            "/usr/local/lib/python3.7/dist-packages/sklearn/manifold/_t_sne.py:783: FutureWarning: The default initialization in TSNE will change from 'random' to 'pca' in 1.2.\n",
            "  FutureWarning,\n",
            "/usr/local/lib/python3.7/dist-packages/sklearn/manifold/_t_sne.py:793: FutureWarning: The default learning rate in TSNE will change from 200.0 to 'auto' in 1.2.\n",
            "  FutureWarning,\n"
          ]
        },
        {
          "output_type": "display_data",
          "data": {
            "text/html": [
              "<html>\n",
              "<head><meta charset=\"utf-8\" /></head>\n",
              "<body>\n",
              "    <div>            <script src=\"https://cdnjs.cloudflare.com/ajax/libs/mathjax/2.7.5/MathJax.js?config=TeX-AMS-MML_SVG\"></script><script type=\"text/javascript\">if (window.MathJax) {MathJax.Hub.Config({SVG: {font: \"STIX-Web\"}});}</script>                <script type=\"text/javascript\">window.PlotlyConfig = {MathJaxConfig: 'local'};</script>\n",
              "        <script src=\"https://cdn.plot.ly/plotly-2.8.3.min.js\"></script>                <div id=\"00919a89-e140-49fe-975a-84c21c952df1\" class=\"plotly-graph-div\" style=\"height:525px; width:100%;\"></div>            <script type=\"text/javascript\">                                    window.PLOTLYENV=window.PLOTLYENV || {};                                    if (document.getElementById(\"00919a89-e140-49fe-975a-84c21c952df1\")) {                    Plotly.newPlot(                        \"00919a89-e140-49fe-975a-84c21c952df1\",                        [{\"hovertemplate\":\"x=%{x}<br>y=%{y}<br>text=%{text}<extra></extra>\",\"legendgroup\":\"\",\"marker\":{\"color\":\"#636efa\",\"symbol\":\"circle\"},\"mode\":\"markers+text\",\"name\":\"\",\"orientation\":\"v\",\"showlegend\":false,\"text\":[\"the\",\"i\",\"a\",\"and\",\"you\",\"in\",\"to\",\"me\",\"my\",\"on\",\"your\",\"of\",\"that\",\"don't\",\"all\",\"love\",\"down\",\"but\",\"it\",\"night\",\"well\",\"for\",\"oh\",\"just\",\"out\",\"i'm\",\"this\",\"with\",\"got\",\"baby\",\"was\",\"we\",\"up\",\"come\",\"be\",\"no\",\"know\",\"they\",\"like\",\"la\",\"back\",\"now\",\"one\",\"ain't\",\"when\",\"there\",\"is\",\"if\",\"so\",\"what\",\"little\",\"want\",\"here\",\"her\",\"yeah\",\"tonight\",\"at\",\"can\",\"let\",\"it's\",\"girl\",\"i'll\",\"go\",\"from\",\"do\",\"he\",\"she\",\"man\",\"pay\",\"li\",\"there's\",\"as\",\"will\",\"some\",\"his\",\"hey\",\"heart\",\"by\",\"say\",\"are\",\"get\",\"you're\",\"right\",\"said\",\"you've\",\"gonna\",\"that's\",\"where\",\"mary\",\"money\",\"whoa\",\"feel\",\"take\",\"away\",\"arms\",\"these\",\"way\",\"see\",\"days\",\"never\",\"were\",\"or\",\"two\",\"world\",\"through\",\"light\",\"our\",\"o\",\"been\",\"into\",\"better\",\"'cause\",\"weep\",\"make\",\"can't\",\"eyes\",\"good\",\"last\",\"fire\",\"hard\",\"us\",\"i've\",\"freehold\",\"always\",\"tell\",\"then\",\"home\",\"alright\",\"had\",\"wanna\",\"their\",\"have\",\"again\",\"we're\",\"not\",\"seen\",\"bring\",\"day\",\"look\",\"than\",\"around\",\"too\",\"walk\",\"hold\",\"tenth\",\"true\",\"town\",\"blood\",\"she'll\",\"more\",\"prove\",\"street\",\"could\",\"find\",\"born\",\"time\",\"ever\",\"hearts\",\"darlin'\",\"she's\",\"dream\",\"job\",\"dark\",\"old\",\"girls\",\"life\",\"woah\",\"city\",\"something\",\"honey\",\"walking\",\"him\",\"ball\",\"everything\",\"every\",\"put\",\"went\",\"them\",\"darling\",\"how\",\"dreams\",\"sky\",\"pretty\",\"need\",\"glory\",\"kiss\",\"stand\",\"end\",\"wrecking\",\"thing\",\"alone\",\"hear\",\"off\",\"other\",\"s\",\"enough\",\"mourn\",\"hands\",\"river\",\"nothing\"],\"x\":[0.04698481783270836,-1.405392050743103,-0.4132775664329529,-0.6017365455627441,-1.8238439559936523,0.2405964434146881,-1.5910086631774902,-2.323021173477173,0.4105622470378876,0.22720810770988464,0.7618783712387085,0.6319085359573364,-0.9625478386878967,-2.6785361766815186,0.9150386452674866,-8.92951774597168,1.9142619371414185,-1.0231878757476807,-1.7751497030258179,2.839982271194458,-0.4265815019607544,10.723401069641113,-2.0858893394470215,-2.022812604904175,-0.26830434799194336,-4.651402950286865,-7.668942451477051,1.2377781867980957,6.5925469398498535,-3.493589162826538,4.136415481567383,-1.1157017946243286,6.29963493347168,-3.768514633178711,-8.567303657531738,-4.795278549194336,-1.7843680381774902,-1.1382815837860107,-0.5973665118217468,-3.5968360900878906,1.4694613218307495,-1.2576625347137451,-1.7109206914901733,-4.4525628089904785,0.21871478855609894,0.2556040585041046,-2.135782241821289,-6.817144393920898,-1.9555835723876953,-3.8349862098693848,1.8224868774414062,-3.6197619438171387,-6.30829381942749,-0.04697674885392189,-8.8594388961792,9.878350257873535,6.441652297973633,-9.947275161743164,-8.976290702819824,-7.098994255065918,-1.7896519899368286,-2.71272611618042,-6.277365684509277,7.899939060211182,-4.644556522369385,-0.1552227884531021,-0.36092233657836914,0.3021489977836609,-7.470882892608643,9.634588241577148,10.477375030517578,5.364813327789307,-10.880820274353027,-2.6993305683135986,2.435368061065674,-4.810470104217529,-6.170616149902344,-4.969521522521973,-6.149490833282471,-7.017122268676758,10.20464038848877,-3.90875506401062,-6.926156997680664,-10.257134437561035,9.18364143371582,-2.661834478378296,2.0752077102661133,-14.626409530639648,14.2393159866333,8.449801445007324,14.989090919494629,-2.5191681385040283,-13.078265190124512,0.277657687664032,7.625520706176758,2.452256679534912,7.308511257171631,13.462942123413086,-0.9544207453727722,-11.545672416687012,1.4025534391403198,-13.561213493347168,5.866108417510986,-8.517064094543457,4.733532905578613,11.24074935913086,-10.731889724731445,13.725723266601562,0.01873626559972763,8.468606948852539,-8.635202407836914,-0.24961988627910614,14.313650131225586,-8.4449462890625,-5.132885456085205,-9.075164794921875,-1.8536312580108643,5.086378574371338,-3.657589912414551,4.973668098449707,-18.988361358642578,9.823939323425293,-15.892781257629395,-9.914960861206055,-11.827617645263672,15.74989128112793,2.0526413917541504,-14.667520523071289,-17.578533172607422,4.4121623039245605,6.9301371574401855,12.618887901306152,-19.530534744262695,13.964814186096191,17.353378295898438,-8.058323860168457,-4.409789562225342,-12.278620719909668,-7.20128059387207,-7.617666244506836,12.951148986816406,1.3677332401275635,-13.802820205688477,-5.268566131591797,-3.9000561237335205,-1.511824131011963,-10.70207691192627,13.404773712158203,-6.727811813354492,6.051952362060547,2.6396780014038086,8.001537322998047,-17.29448699951172,0.8354362845420837,3.346640110015869,-4.930027961730957,9.115389823913574,2.8468539714813232,-4.750203609466553,-0.6957789063453674,-15.105779647827148,15.42924690246582,11.510846138000488,17.334453582763672,5.5721964836120605,-0.9538951516151428,-2.2937369346618652,11.00189208984375,-4.094552040100098,-2.891436815261841,2.0202455520629883,8.959819793701172,5.015843391418457,2.038695812225342,-13.1784086227417,0.9254716634750366,4.2257537841796875,-10.78409481048584,15.510969161987305,-14.588411331176758,5.8250532150268555,0.6237863898277283,6.030170440673828,7.432770729064941,-0.7817466855049133,-0.16842760145664215,13.518757820129395,-3.0869696140289307,4.927153587341309,10.607135772705078,-4.748341083526611,-3.2377586364746094,8.865218162536621,-1.736356258392334,2.307493209838867,-9.678101539611816,13.86925983428955,7.78152322769165,-6.18884801864624,-14.591935157775879],\"xaxis\":\"x\",\"y\":[-1.768591284751892,-2.0861337184906006,-1.6978594064712524,-2.031310796737671,-2.683844566345215,-1.6602078676223755,-1.561643123626709,-2.9918065071105957,-2.349074363708496,-1.3437931537628174,-2.8327770233154297,-0.17614932358264923,-2.243831157684326,-2.0566952228546143,-1.7430534362792969,-10.371393203735352,3.225966215133667,-2.9472951889038086,-2.7904622554779053,-2.54097843170166,-2.4314770698547363,4.040773391723633,-10.36081600189209,-3.5085620880126953,-0.13180509209632874,6.78071403503418,2.8244974613189697,-0.8305597305297852,11.202678680419922,-3.291179656982422,4.050741195678711,-3.5971508026123047,-1.0409923791885376,-3.989567518234253,-6.8259453773498535,-0.3012401759624481,-0.17155446112155914,-0.40798264741897583,-1.0638777017593384,7.802456378936768,-4.144656658172607,-1.3100762367248535,-5.685540676116943,-0.6621248722076416,-2.958324909210205,-0.8255677819252014,-0.6408872604370117,-2.768974781036377,-1.9183785915374756,-1.1791558265686035,-1.4400010108947754,0.796161949634552,1.2278709411621094,-3.9397363662719727,10.460552215576172,-10.520620346069336,5.034820556640625,-10.24246883392334,-15.46596908569336,-0.512114942073822,-4.359699726104736,-2.5119287967681885,-3.792999029159546,-6.741307735443115,-2.683109760284424,11.843387603759766,-3.8516273498535156,-4.848923206329346,-4.983201026916504,-8.431938171386719,7.9425177574157715,8.701129913330078,-9.49802303314209,3.0382373332977295,-0.3412267863750458,-11.78681755065918,-15.673504829406738,14.80332088470459,-11.1788330078125,14.220194816589355,-4.889185905456543,-15.05882740020752,16.351255416870117,-2.732008695602417,11.568549156188965,-1.1973397731781006,-13.601207733154297,11.197966575622559,-2.5329811573028564,-1.9461205005645752,-9.032938957214355,1.6535314321517944,-1.5905214548110962,-21.200716018676758,-9.261406898498535,-3.687401533126831,-10.415172576904297,7.583407878875732,6.676159858703613,-1.6784329414367676,-2.961637020111084,-6.178715229034424,-7.00065279006958,3.4222354888916016,6.456588268280029,-7.906506538391113,-17.3764705657959,-2.1377880573272705,-16.072952270507812,0.6561222076416016,13.090201377868652,-7.360262870788574,-2.573960781097412,-8.66098690032959,-17.03728485107422,-20.146177291870117,-9.356679916381836,-3.235037088394165,-9.361001014709473,-12.322097778320312,-1.9495540857315063,10.568598747253418,6.991786956787109,-7.0448689460754395,-11.244375228881836,9.650884628295898,-19.1866455078125,-4.390076160430908,-6.502011775970459,-16.940622329711914,0.923761785030365,-0.08632049709558487,4.263167381286621,1.0147024393081665,-5.918185234069824,-4.116304397583008,1.8588893413543701,-5.001563549041748,-6.260445594787598,11.958833694458008,2.829664707183838,15.959778785705566,8.912052154541016,-4.967249870300293,11.540294647216797,0.8087803721427917,10.606986999511719,-4.172735214233398,-16.905725479125977,-19.517784118652344,-2.839064598083496,-13.20628833770752,-13.259370803833008,-6.274053573608398,13.024361610412598,-4.310595512390137,-6.076428413391113,-6.779108047485352,-10.982337951660156,-10.709515571594238,4.781702518463135,6.357442378997803,9.240121841430664,4.124563217163086,4.144565105438232,16.504423141479492,-10.139403343200684,-11.6800537109375,-4.844343662261963,-4.026447296142578,10.912396430969238,6.549123764038086,-5.928012371063232,-14.747108459472656,-18.412540435791016,1.2099277973175049,3.0480544567108154,-14.981456756591797,-8.529668807983398,0.5990630388259888,-10.760141372680664,4.680994033813477,0.1491738259792328,1.993674397468567,6.734766960144043,-9.332293510437012,10.178486824035645,-5.614399433135986,-5.875603199005127,13.25367259979248,-21.210857391357422,1.9004353284835815,8.808619499206543,-12.568266868591309,12.663634300231934,-8.874761581420898,-2.20782208442688,-1.894920825958252,-7.294341087341309,-13.288199424743652],\"yaxis\":\"y\",\"type\":\"scatter\"}],                        {\"template\":{\"data\":{\"bar\":[{\"error_x\":{\"color\":\"#2a3f5f\"},\"error_y\":{\"color\":\"#2a3f5f\"},\"marker\":{\"line\":{\"color\":\"#E5ECF6\",\"width\":0.5},\"pattern\":{\"fillmode\":\"overlay\",\"size\":10,\"solidity\":0.2}},\"type\":\"bar\"}],\"barpolar\":[{\"marker\":{\"line\":{\"color\":\"#E5ECF6\",\"width\":0.5},\"pattern\":{\"fillmode\":\"overlay\",\"size\":10,\"solidity\":0.2}},\"type\":\"barpolar\"}],\"carpet\":[{\"aaxis\":{\"endlinecolor\":\"#2a3f5f\",\"gridcolor\":\"white\",\"linecolor\":\"white\",\"minorgridcolor\":\"white\",\"startlinecolor\":\"#2a3f5f\"},\"baxis\":{\"endlinecolor\":\"#2a3f5f\",\"gridcolor\":\"white\",\"linecolor\":\"white\",\"minorgridcolor\":\"white\",\"startlinecolor\":\"#2a3f5f\"},\"type\":\"carpet\"}],\"choropleth\":[{\"colorbar\":{\"outlinewidth\":0,\"ticks\":\"\"},\"type\":\"choropleth\"}],\"contour\":[{\"colorbar\":{\"outlinewidth\":0,\"ticks\":\"\"},\"colorscale\":[[0.0,\"#0d0887\"],[0.1111111111111111,\"#46039f\"],[0.2222222222222222,\"#7201a8\"],[0.3333333333333333,\"#9c179e\"],[0.4444444444444444,\"#bd3786\"],[0.5555555555555556,\"#d8576b\"],[0.6666666666666666,\"#ed7953\"],[0.7777777777777778,\"#fb9f3a\"],[0.8888888888888888,\"#fdca26\"],[1.0,\"#f0f921\"]],\"type\":\"contour\"}],\"contourcarpet\":[{\"colorbar\":{\"outlinewidth\":0,\"ticks\":\"\"},\"type\":\"contourcarpet\"}],\"heatmap\":[{\"colorbar\":{\"outlinewidth\":0,\"ticks\":\"\"},\"colorscale\":[[0.0,\"#0d0887\"],[0.1111111111111111,\"#46039f\"],[0.2222222222222222,\"#7201a8\"],[0.3333333333333333,\"#9c179e\"],[0.4444444444444444,\"#bd3786\"],[0.5555555555555556,\"#d8576b\"],[0.6666666666666666,\"#ed7953\"],[0.7777777777777778,\"#fb9f3a\"],[0.8888888888888888,\"#fdca26\"],[1.0,\"#f0f921\"]],\"type\":\"heatmap\"}],\"heatmapgl\":[{\"colorbar\":{\"outlinewidth\":0,\"ticks\":\"\"},\"colorscale\":[[0.0,\"#0d0887\"],[0.1111111111111111,\"#46039f\"],[0.2222222222222222,\"#7201a8\"],[0.3333333333333333,\"#9c179e\"],[0.4444444444444444,\"#bd3786\"],[0.5555555555555556,\"#d8576b\"],[0.6666666666666666,\"#ed7953\"],[0.7777777777777778,\"#fb9f3a\"],[0.8888888888888888,\"#fdca26\"],[1.0,\"#f0f921\"]],\"type\":\"heatmapgl\"}],\"histogram\":[{\"marker\":{\"pattern\":{\"fillmode\":\"overlay\",\"size\":10,\"solidity\":0.2}},\"type\":\"histogram\"}],\"histogram2d\":[{\"colorbar\":{\"outlinewidth\":0,\"ticks\":\"\"},\"colorscale\":[[0.0,\"#0d0887\"],[0.1111111111111111,\"#46039f\"],[0.2222222222222222,\"#7201a8\"],[0.3333333333333333,\"#9c179e\"],[0.4444444444444444,\"#bd3786\"],[0.5555555555555556,\"#d8576b\"],[0.6666666666666666,\"#ed7953\"],[0.7777777777777778,\"#fb9f3a\"],[0.8888888888888888,\"#fdca26\"],[1.0,\"#f0f921\"]],\"type\":\"histogram2d\"}],\"histogram2dcontour\":[{\"colorbar\":{\"outlinewidth\":0,\"ticks\":\"\"},\"colorscale\":[[0.0,\"#0d0887\"],[0.1111111111111111,\"#46039f\"],[0.2222222222222222,\"#7201a8\"],[0.3333333333333333,\"#9c179e\"],[0.4444444444444444,\"#bd3786\"],[0.5555555555555556,\"#d8576b\"],[0.6666666666666666,\"#ed7953\"],[0.7777777777777778,\"#fb9f3a\"],[0.8888888888888888,\"#fdca26\"],[1.0,\"#f0f921\"]],\"type\":\"histogram2dcontour\"}],\"mesh3d\":[{\"colorbar\":{\"outlinewidth\":0,\"ticks\":\"\"},\"type\":\"mesh3d\"}],\"parcoords\":[{\"line\":{\"colorbar\":{\"outlinewidth\":0,\"ticks\":\"\"}},\"type\":\"parcoords\"}],\"pie\":[{\"automargin\":true,\"type\":\"pie\"}],\"scatter\":[{\"marker\":{\"colorbar\":{\"outlinewidth\":0,\"ticks\":\"\"}},\"type\":\"scatter\"}],\"scatter3d\":[{\"line\":{\"colorbar\":{\"outlinewidth\":0,\"ticks\":\"\"}},\"marker\":{\"colorbar\":{\"outlinewidth\":0,\"ticks\":\"\"}},\"type\":\"scatter3d\"}],\"scattercarpet\":[{\"marker\":{\"colorbar\":{\"outlinewidth\":0,\"ticks\":\"\"}},\"type\":\"scattercarpet\"}],\"scattergeo\":[{\"marker\":{\"colorbar\":{\"outlinewidth\":0,\"ticks\":\"\"}},\"type\":\"scattergeo\"}],\"scattergl\":[{\"marker\":{\"colorbar\":{\"outlinewidth\":0,\"ticks\":\"\"}},\"type\":\"scattergl\"}],\"scattermapbox\":[{\"marker\":{\"colorbar\":{\"outlinewidth\":0,\"ticks\":\"\"}},\"type\":\"scattermapbox\"}],\"scatterpolar\":[{\"marker\":{\"colorbar\":{\"outlinewidth\":0,\"ticks\":\"\"}},\"type\":\"scatterpolar\"}],\"scatterpolargl\":[{\"marker\":{\"colorbar\":{\"outlinewidth\":0,\"ticks\":\"\"}},\"type\":\"scatterpolargl\"}],\"scatterternary\":[{\"marker\":{\"colorbar\":{\"outlinewidth\":0,\"ticks\":\"\"}},\"type\":\"scatterternary\"}],\"surface\":[{\"colorbar\":{\"outlinewidth\":0,\"ticks\":\"\"},\"colorscale\":[[0.0,\"#0d0887\"],[0.1111111111111111,\"#46039f\"],[0.2222222222222222,\"#7201a8\"],[0.3333333333333333,\"#9c179e\"],[0.4444444444444444,\"#bd3786\"],[0.5555555555555556,\"#d8576b\"],[0.6666666666666666,\"#ed7953\"],[0.7777777777777778,\"#fb9f3a\"],[0.8888888888888888,\"#fdca26\"],[1.0,\"#f0f921\"]],\"type\":\"surface\"}],\"table\":[{\"cells\":{\"fill\":{\"color\":\"#EBF0F8\"},\"line\":{\"color\":\"white\"}},\"header\":{\"fill\":{\"color\":\"#C8D4E3\"},\"line\":{\"color\":\"white\"}},\"type\":\"table\"}]},\"layout\":{\"annotationdefaults\":{\"arrowcolor\":\"#2a3f5f\",\"arrowhead\":0,\"arrowwidth\":1},\"autotypenumbers\":\"strict\",\"coloraxis\":{\"colorbar\":{\"outlinewidth\":0,\"ticks\":\"\"}},\"colorscale\":{\"diverging\":[[0,\"#8e0152\"],[0.1,\"#c51b7d\"],[0.2,\"#de77ae\"],[0.3,\"#f1b6da\"],[0.4,\"#fde0ef\"],[0.5,\"#f7f7f7\"],[0.6,\"#e6f5d0\"],[0.7,\"#b8e186\"],[0.8,\"#7fbc41\"],[0.9,\"#4d9221\"],[1,\"#276419\"]],\"sequential\":[[0.0,\"#0d0887\"],[0.1111111111111111,\"#46039f\"],[0.2222222222222222,\"#7201a8\"],[0.3333333333333333,\"#9c179e\"],[0.4444444444444444,\"#bd3786\"],[0.5555555555555556,\"#d8576b\"],[0.6666666666666666,\"#ed7953\"],[0.7777777777777778,\"#fb9f3a\"],[0.8888888888888888,\"#fdca26\"],[1.0,\"#f0f921\"]],\"sequentialminus\":[[0.0,\"#0d0887\"],[0.1111111111111111,\"#46039f\"],[0.2222222222222222,\"#7201a8\"],[0.3333333333333333,\"#9c179e\"],[0.4444444444444444,\"#bd3786\"],[0.5555555555555556,\"#d8576b\"],[0.6666666666666666,\"#ed7953\"],[0.7777777777777778,\"#fb9f3a\"],[0.8888888888888888,\"#fdca26\"],[1.0,\"#f0f921\"]]},\"colorway\":[\"#636efa\",\"#EF553B\",\"#00cc96\",\"#ab63fa\",\"#FFA15A\",\"#19d3f3\",\"#FF6692\",\"#B6E880\",\"#FF97FF\",\"#FECB52\"],\"font\":{\"color\":\"#2a3f5f\"},\"geo\":{\"bgcolor\":\"white\",\"lakecolor\":\"white\",\"landcolor\":\"#E5ECF6\",\"showlakes\":true,\"showland\":true,\"subunitcolor\":\"white\"},\"hoverlabel\":{\"align\":\"left\"},\"hovermode\":\"closest\",\"mapbox\":{\"style\":\"light\"},\"paper_bgcolor\":\"white\",\"plot_bgcolor\":\"#E5ECF6\",\"polar\":{\"angularaxis\":{\"gridcolor\":\"white\",\"linecolor\":\"white\",\"ticks\":\"\"},\"bgcolor\":\"#E5ECF6\",\"radialaxis\":{\"gridcolor\":\"white\",\"linecolor\":\"white\",\"ticks\":\"\"}},\"scene\":{\"xaxis\":{\"backgroundcolor\":\"#E5ECF6\",\"gridcolor\":\"white\",\"gridwidth\":2,\"linecolor\":\"white\",\"showbackground\":true,\"ticks\":\"\",\"zerolinecolor\":\"white\"},\"yaxis\":{\"backgroundcolor\":\"#E5ECF6\",\"gridcolor\":\"white\",\"gridwidth\":2,\"linecolor\":\"white\",\"showbackground\":true,\"ticks\":\"\",\"zerolinecolor\":\"white\"},\"zaxis\":{\"backgroundcolor\":\"#E5ECF6\",\"gridcolor\":\"white\",\"gridwidth\":2,\"linecolor\":\"white\",\"showbackground\":true,\"ticks\":\"\",\"zerolinecolor\":\"white\"}},\"shapedefaults\":{\"line\":{\"color\":\"#2a3f5f\"}},\"ternary\":{\"aaxis\":{\"gridcolor\":\"white\",\"linecolor\":\"white\",\"ticks\":\"\"},\"baxis\":{\"gridcolor\":\"white\",\"linecolor\":\"white\",\"ticks\":\"\"},\"bgcolor\":\"#E5ECF6\",\"caxis\":{\"gridcolor\":\"white\",\"linecolor\":\"white\",\"ticks\":\"\"}},\"title\":{\"x\":0.05},\"xaxis\":{\"automargin\":true,\"gridcolor\":\"white\",\"linecolor\":\"white\",\"ticks\":\"\",\"title\":{\"standoff\":15},\"zerolinecolor\":\"white\",\"zerolinewidth\":2},\"yaxis\":{\"automargin\":true,\"gridcolor\":\"white\",\"linecolor\":\"white\",\"ticks\":\"\",\"title\":{\"standoff\":15},\"zerolinecolor\":\"white\",\"zerolinewidth\":2}}},\"xaxis\":{\"anchor\":\"y\",\"domain\":[0.0,1.0],\"title\":{\"text\":\"x\"}},\"yaxis\":{\"anchor\":\"x\",\"domain\":[0.0,1.0],\"title\":{\"text\":\"y\"}},\"legend\":{\"tracegroupgap\":0},\"margin\":{\"t\":60}},                        {\"responsive\": true}                    ).then(function(){\n",
              "                            \n",
              "var gd = document.getElementById('00919a89-e140-49fe-975a-84c21c952df1');\n",
              "var x = new MutationObserver(function (mutations, observer) {{\n",
              "        var display = window.getComputedStyle(gd).display;\n",
              "        if (!display || display === 'none') {{\n",
              "            console.log([gd, 'removed!']);\n",
              "            Plotly.purge(gd);\n",
              "            observer.disconnect();\n",
              "        }}\n",
              "}});\n",
              "\n",
              "// Listen for the removal of the full notebook cells\n",
              "var notebookContainer = gd.closest('#notebook-container');\n",
              "if (notebookContainer) {{\n",
              "    x.observe(notebookContainer, {childList: true});\n",
              "}}\n",
              "\n",
              "// Listen for the clearing of the current output cell\n",
              "var outputEl = gd.closest('.output');\n",
              "if (outputEl) {{\n",
              "    x.observe(outputEl, {childList: true});\n",
              "}}\n",
              "\n",
              "                        })                };                            </script>        </div>\n",
              "</body>\n",
              "</html>"
            ]
          },
          "metadata": {}
        }
      ]
    },
    {
      "cell_type": "markdown",
      "source": [
        "En conclusion, el modelo performa segun lo esperado, es relativamente una base chica pero las canciones de bruce suelen tener algun tipo de sentido y no solo riman. Por lo tanto las relaciones entre las palabras son interesantes. Capaz seria interesante agregar informacion de canciones de artistas del mismo genero y de la misma epoca que cuando el empezo, como puede ser Bob Seger."
      ],
      "metadata": {
        "id": "Hxg1Xbltu0s3"
      }
    }
  ]
}
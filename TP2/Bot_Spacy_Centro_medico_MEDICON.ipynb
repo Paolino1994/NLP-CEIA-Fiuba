{
  "cells": [
    {
      "cell_type": "markdown",
      "metadata": {
        "id": "view-in-github",
        "colab_type": "text"
      },
      "source": [
        "<a href=\"https://colab.research.google.com/github/Paolino1994/NLP-CEIA-Fiuba/blob/main/TP2/Bot_Spacy_Centro_medico_MEDICON.ipynb\" target=\"_parent\"><img src=\"https://colab.research.google.com/assets/colab-badge.svg\" alt=\"Open In Colab\"/></a>"
      ]
    },
    {
      "cell_type": "markdown",
      "metadata": {
        "id": "NV8wZ0MTKjv_"
      },
      "source": [
        "<img src=\"https://github.com/hernancontigiani/ceia_memorias_especializacion/raw/master/Figures/logoFIUBA.jpg\" width=\"500\" align=\"center\">\n",
        "\n",
        "\n",
        "# Procesamiento de lenguaje natural\n",
        "## Bot basado en reglas con DNN + Spacy"
      ]
    },
    {
      "cell_type": "markdown",
      "metadata": {
        "id": "Z_9z3H-yKrcK"
      },
      "source": [
        "#### Datos\n",
        "Este ejemplo se inspiró en otro Bot en inglés creado con NLTK, lo tienen como referencia para hacer lo mismo en inglés:\\\n",
        "[LINK](https://towardsdatascience.com/a-simple-chatbot-in-python-with-deep-learning-3e8669997758)"
      ]
    },
    {
      "cell_type": "markdown",
      "metadata": {
        "id": "oCVZakCzAjGN"
      },
      "source": [
        "### 1 - Instalar dependencias\n",
        "Para poder utilizar Spacy en castellano es necesario agregar la librería \"spacy-stanza\" para lematizar palabras en español."
      ]
    },
    {
      "cell_type": "code",
      "execution_count": 1,
      "metadata": {
        "id": "Zd8NLa4gsSmT",
        "colab": {
          "base_uri": "https://localhost:8080/"
        },
        "outputId": "4e756ac6-da79-4396-f56e-64a1f53d584b"
      },
      "outputs": [
        {
          "output_type": "stream",
          "name": "stdout",
          "text": [
            "\u001b[K     |████████████████████████████████| 6.4 MB 13.4 MB/s \n",
            "\u001b[K     |████████████████████████████████| 660 kB 66.2 MB/s \n",
            "\u001b[K     |████████████████████████████████| 10.1 MB 44.9 MB/s \n",
            "\u001b[31mERROR: pip's dependency resolver does not currently take into account all the packages that are installed. This behaviour is the source of the following dependency conflicts.\n",
            "en-core-web-sm 3.4.1 requires spacy<3.5.0,>=3.4.0, but you have spacy 3.1.0 which is incompatible.\u001b[0m\n",
            "\u001b[K     |████████████████████████████████| 342 kB 12.6 MB/s \n",
            "\u001b[?25h"
          ]
        }
      ],
      "source": [
        "# La última versión de spacy-stanza (>1.0) es compatible solo con spacy >=3.0\n",
        "# Nota: spacy 3.0 incorpora al pepiline nlp transformers\n",
        "!pip install -U spacy==3.1 --quiet\n",
        "!pip install -U spacy-stanza==1.0.0 --quiet"
      ]
    },
    {
      "cell_type": "code",
      "execution_count": 2,
      "metadata": {
        "id": "kzao7XO9NJAq"
      },
      "outputs": [],
      "source": [
        "import json\n",
        "import string\n",
        "import random \n",
        "import numpy as np\n",
        "\n",
        "import tensorflow as tf \n",
        "from tensorflow.keras import Sequential \n",
        "from tensorflow.keras.layers import Dense, Dropout"
      ]
    },
    {
      "cell_type": "code",
      "execution_count": 3,
      "metadata": {
        "id": "Z_ExOb8uvjqK",
        "colab": {
          "base_uri": "https://localhost:8080/",
          "height": 463,
          "referenced_widgets": [
            "947644a8250e440d9e9696673f401d9b",
            "2f5c7fa2892247d991fdf2eadff1b8ca",
            "5d42495218b248178ed5079c4fd1fb13",
            "e3e73c0968a44ff58ce2f3245eb86d7d",
            "27267dedf02c43b188c03792ffad9a56",
            "9cb5703436934385af32b339e933e22b",
            "db38e5b8f31c4c458c9e7c481f33c94a",
            "98ecec9d64c045adb4e54030707f8224",
            "e82b60d2f656465186ae6c11f26d3cba",
            "c99e7cdcd0124a76abb529160c7a83ae",
            "9fda9e7450254652a2d5f88473fffa92",
            "81fd0ded73734107ae9640b336ca6b2a",
            "8249b78f996444fdb8b8e331195678e8",
            "ba4811d946384f438ad377ebefd7feee",
            "fc2dc00c37a24369883177fe7403ac28",
            "a0d036c3ab984ab6a6a74a99ae6b681e",
            "0aa41698d90346679f0107c2597f5af5",
            "e5468137ab3a41c38379c52e633644a2",
            "67ccaa9c8820463981426e4a56a54540",
            "ca87dc78bb724e42ba4fa931092e8528",
            "64649eac8e6b45e0bdd382cf971723a6",
            "bae413ce47bf477d9f1b1a2937a687ef"
          ]
        },
        "outputId": "b6611f99-5b51-494f-85b2-d3d589f22e4e"
      },
      "outputs": [
        {
          "output_type": "display_data",
          "data": {
            "text/plain": [
              "Downloading https://raw.githubusercontent.com/stanfordnlp/stanza-resources/main/resources_1.2.2.json:   0%|   …"
            ],
            "application/vnd.jupyter.widget-view+json": {
              "version_major": 2,
              "version_minor": 0,
              "model_id": "947644a8250e440d9e9696673f401d9b"
            }
          },
          "metadata": {}
        },
        {
          "output_type": "stream",
          "name": "stderr",
          "text": [
            "INFO:stanza:Downloading default packages for language: es (Spanish)...\n"
          ]
        },
        {
          "output_type": "display_data",
          "data": {
            "text/plain": [
              "Downloading http://nlp.stanford.edu/software/stanza/1.2.2/es/default.zip:   0%|          | 0.00/566M [00:00<?,…"
            ],
            "application/vnd.jupyter.widget-view+json": {
              "version_major": 2,
              "version_minor": 0,
              "model_id": "81fd0ded73734107ae9640b336ca6b2a"
            }
          },
          "metadata": {}
        },
        {
          "output_type": "stream",
          "name": "stderr",
          "text": [
            "INFO:stanza:Finished downloading models and saved to /root/stanza_resources.\n",
            "INFO:stanza:Loading these models for language: es (Spanish):\n",
            "=======================\n",
            "| Processor | Package |\n",
            "-----------------------\n",
            "| tokenize  | ancora  |\n",
            "| mwt       | ancora  |\n",
            "| pos       | ancora  |\n",
            "| lemma     | ancora  |\n",
            "| depparse  | ancora  |\n",
            "| ner       | conll02 |\n",
            "=======================\n",
            "\n",
            "INFO:stanza:Use device: cpu\n",
            "INFO:stanza:Loading: tokenize\n",
            "INFO:stanza:Loading: mwt\n",
            "INFO:stanza:Loading: pos\n",
            "INFO:stanza:Loading: lemma\n",
            "INFO:stanza:Loading: depparse\n",
            "INFO:stanza:Loading: ner\n",
            "INFO:stanza:Done loading processors!\n"
          ]
        }
      ],
      "source": [
        "import stanza\n",
        "import spacy_stanza\n",
        "\n",
        "# Vamos a usar SpaCy-Stanza. Stanza es una librería de NLP de Stanford\n",
        "# SpaCy armó un wrapper para los pipelines y modelos de Stanza\n",
        "# https://stanfordnlp.github.io/stanza/\n",
        "\n",
        "# Descargar el diccionario en español y armar el pipeline de NLP con spacy\n",
        "stanza.download(\"es\")\n",
        "nlp = spacy_stanza.load_pipeline(\"es\")"
      ]
    },
    {
      "cell_type": "markdown",
      "metadata": {
        "id": "_wF10RjVMBdV"
      },
      "source": [
        "### 2 - Herramientas de preprocesamiento de datos\n",
        "Entre las tareas de procesamiento de texto en español se implementa:\n",
        "- Quitar acentos y caracteres especiales\n",
        "- Quitar números\n",
        "- Quitar símbolos de puntuación"
      ]
    },
    {
      "cell_type": "code",
      "execution_count": 4,
      "metadata": {
        "id": "ZxoD2hEExmuX"
      },
      "outputs": [],
      "source": [
        "import re\n",
        "import unicodedata\n",
        "\n",
        "# El preprocesamento en castellano requiere más trabajo\n",
        "\n",
        "# Referencia de regex:\n",
        "# https://docs.python.org/3/library/re.html\n",
        "\n",
        "def preprocess_clean_text(text):    \n",
        "    # sacar tildes de las palabras:\n",
        "    text = unicodedata.normalize('NFKD', text).encode('ascii', 'ignore').decode('utf-8', 'ignore')\n",
        "    # quitar caracteres especiales\n",
        "    pattern = r'[^a-zA-z0-9.,!?/:;\\\"\\'\\s]' # [^ : ningún caracter de todos estos\n",
        "    # (termina eliminando cualquier caracter distinto de los del regex)\n",
        "    text = re.sub(pattern, '', text)\n",
        "    pattern = r'[^a-zA-z.,!?/:;\\\"\\'\\s]' # igual al anterior pero sin cifras numéricas\n",
        "    # quitar números\n",
        "    text = re.sub(pattern, '', text)\n",
        "    # quitar caracteres de puntuación\n",
        "    text = ''.join([c for c in text if c not in string.punctuation])\n",
        "    return text"
      ]
    },
    {
      "cell_type": "code",
      "execution_count": 5,
      "metadata": {
        "id": "q-MiMZjh5fu2",
        "colab": {
          "base_uri": "https://localhost:8080/",
          "height": 35
        },
        "outputId": "38c130ed-08e4-4e61-b41e-b536c1f5b5d8"
      },
      "outputs": [
        {
          "output_type": "execute_result",
          "data": {
            "text/plain": [
              "'personas ideas estas cosas y los peces y los murcielagos'"
            ],
            "application/vnd.google.colaboratory.intrinsic+json": {
              "type": "string"
            }
          },
          "metadata": {},
          "execution_count": 5
        }
      ],
      "source": [
        "text = \"personas Ideas! estás cosas y los peces y los murciélagos\"\n",
        "\n",
        "# Antes de preprocesar los datos se pasa a minúsculas todo el texto\n",
        "preprocess_clean_text(text.lower())"
      ]
    },
    {
      "cell_type": "code",
      "execution_count": 22,
      "metadata": {
        "id": "I9V-S8JbrtNn",
        "colab": {
          "base_uri": "https://localhost:8080/"
        },
        "outputId": "59a00d38-ea20-47ea-eb87-accad85a34f8"
      },
      "outputs": [
        {
          "output_type": "stream",
          "name": "stdout",
          "text": [
            "tokens: hola personas ideas estas cosas y los peces y los murcielagos\n",
            "Lematización de cada token:\n",
            "[hola, 'holar']\n",
            "[personas, 'persona']\n",
            "[ideas, 'idea']\n",
            "[estas, 'este']\n",
            "[cosas, 'cosa']\n",
            "[y, 'y']\n",
            "[los, 'el']\n",
            "[peces, 'pez']\n",
            "[y, 'y']\n",
            "[los, 'el']\n",
            "[murcielagos, 'murcielago']\n"
          ]
        }
      ],
      "source": [
        "# Ejemplo de como fuciona\n",
        "text = \"hola personas Ideas! estás cosas y los peces y los murciélagos\"\n",
        "\n",
        "# Antes de preprocesar los datos se pasa a minúsculas todo el texto\n",
        "tokes = nlp(preprocess_clean_text(text.lower()))\n",
        "print(\"tokens:\", tokes)\n",
        "print(\"Lematización de cada token:\")\n",
        "for token in tokes:\n",
        "    print([token, token.lemma_])"
      ]
    },
    {
      "cell_type": "markdown",
      "metadata": {
        "id": "ilRbn0KfMm2r"
      },
      "source": [
        "### 3 - Diccionario de entrada"
      ]
    },
    {
      "cell_type": "code",
      "execution_count": 103,
      "metadata": {
        "id": "NgIGpjymNEH7"
      },
      "outputs": [],
      "source": [
        "# Dataset en formato JSON que representa las posibles preguntas (patterns)\n",
        "# y las posibles respuestas por categoría (tag)\n",
        "# Los \"patterns\" van a formar el corpus para entrenar el clasificador que clasifica en tags\n",
        "# \"respones\" son las respuestas predeterminadas posibles para cada tag\n",
        "dataset = {\"intents\": [\n",
        "             {\"tag\": \"bienvenida\",\n",
        "              \"patterns\": [\"Hola\", \"¿Cómo estás?\", \"¿Qué tal?\"],\n",
        "              \"responses\": [\"Hola! Bienvenido a Medicon\", \"Hola, ¿Cómo estás? Bienvenido a Medicon\"],\n",
        "             },\n",
        "             {\"tag\": \"estado\",\n",
        "              \"patterns\": [\"Como estas?\", \"Todo bien?\",\"Todo tranquilo?\"],\n",
        "              \"responses\": [\"Soy un bot, por lo tanto, no estoy ni bien ni mal, simplemente existo\"]\n",
        "             },\n",
        "             {\"tag\": \"nombre\",\n",
        "              \"patterns\": [\"¿Cúal es tu nombre?\", \"¿Quién sos?\",\"Como te llamas?\"],\n",
        "              \"responses\": [\"Mi nombre es MediconBOT\", \"Yo soy MediconBOT\"]\n",
        "             },\n",
        "            {\"tag\": \"contacto\",\n",
        "              \"patterns\": [\"contacto\", \"número de contacto\", \"número de teléfono\", \"número de whatsapp\", \"whatsapp\"],\n",
        "              \"responses\": [\"Podes contactarnos al siguiente <numero>\", \"Contactos al whatsapp <numero>\"]\n",
        "             },\n",
        "            {\"tag\": \"turno\",\n",
        "              \"patterns\": [\"¿Como reservo un turno?\", \"¿Cómo me atiende un doctor?\",\"¿Cómo me atiende un medico?\"],\n",
        "              \"responses\": [\"En el siguiente link podrás reservar un turno <link>\"]\n",
        "             },\n",
        "            {\"tag\": \"precios\",\n",
        "              \"patterns\": [\"precio\", \"Me podrás pasar los precios\", \"¿Cuánto vale?\", \"¿Cuánto sale?\"],\n",
        "              \"responses\": [\"En el siguiente link podrás encontrar los precios de las consultas y estudios <link>\"]\n",
        "             },\n",
        "            {\"tag\": \"pagos\",\n",
        "              \"patterns\": [\"medios de pago\", \"tarjeta de crédito\", \"tarjetas\", \"cuotas\",\"¿Como puedo pagar?\"],\n",
        "              \"responses\": [\"En el siguiente link podrás encontrar los beneficios y formas de pago vigentes <link>\"]\n",
        "             },\n",
        "            {\"tag\": \"cobertura\",\n",
        "              \"patterns\": [\"Obra social\", \"prepaga\", \"cobertura\", \"cuotas\",\"osde\",\"omint\",\"medicus\",\"OS\"],\n",
        "              \"responses\": [\"En el siguiente link podrás encontrar las coberturas vigentes <link>\"]\n",
        "             },\n",
        "            {\"tag\": \"resultados\",\n",
        "              \"patterns\": [\"¿Donde puedo ver los resultados?\", \"¿Donde puedo ver los estudios?\", \"Como puedo ver los resultados?\", \"Como puedo ver los estudios?\"],\n",
        "              \"responses\": [\"En el siguiente link podrás encontrar los resultados de tus estudios <link>\"]\n",
        "             },\n",
        "            {\"tag\": \"centros\",\n",
        "              \"patterns\": [\"¿Donde estan ubicados?\", \"Que centros medicos tienen?\", \"Donde puedo realizar las consultas?\", \"Donde me puedo realziar los estudios?\"],\n",
        "              \"responses\": [\"Tenemos 3 centros medicos, uno en calle falsa 123, otro en avenida siempreviva 874, ambos en springfield y otro en shelbiville\"]\n",
        "             },\n",
        "            {\"tag\": \"agradecimientos\",\n",
        "              \"patterns\": [ \"Muchas gracias\", \"Gracias\"],\n",
        "              \"responses\": [\"Por nada!, cualquier otra consulta podes escribirme\"]\n",
        "             },\n",
        "             {\"tag\": \"despedida\",\n",
        "              \"patterns\": [ \"Chau\", \"Hasta luego!\"],\n",
        "              \"responses\": [\"Hasta luego!\", \"Hablamos luego!\"]\n",
        "             }\n",
        "]}"
      ]
    },
    {
      "cell_type": "markdown",
      "metadata": {
        "id": "19PEDmIDfLRu"
      },
      "source": [
        "### 4 - Preprocesamiento y armado del dataset"
      ]
    },
    {
      "cell_type": "code",
      "execution_count": 104,
      "metadata": {
        "id": "b3HP8abHNRk3"
      },
      "outputs": [],
      "source": [
        "# Datos que necesitaremos, las palabras o vocabulario\n",
        "words = []\n",
        "classes = []\n",
        "doc_X = []\n",
        "doc_y = []\n",
        "\n",
        "# Por cada intención (intents) debemos tomar los patrones que la caracterízan\n",
        "# a esa intención y transformarla a tokens para almacenar en doc_X\n",
        "\n",
        "# El tag de cada intención se almacena como doc_Y (la clase a predecir)\n",
        "# En `words` vamos a guardar el vocabulario\n",
        "# En `class` las posibles clases o tags\n",
        "\n",
        "for intent in dataset[\"intents\"]:\n",
        "    for pattern in intent[\"patterns\"]:\n",
        "        # trasformar el patron a tokens\n",
        "        tokens = nlp(preprocess_clean_text(pattern.lower()))\n",
        "        # lematizar los tokens\n",
        "        for token in tokens:            \n",
        "            words.append(token.lemma_)\n",
        "        \n",
        "        doc_X.append(pattern)\n",
        "        doc_y.append(intent[\"tag\"])\n",
        "    \n",
        "    # Agregar el tag a las clases\n",
        "    if intent[\"tag\"] not in classes:\n",
        "        classes.append(intent[\"tag\"])\n",
        "\n",
        "# Elminar duplicados con \"set\" y ordenar el vocubulario y las clases por orden alfabético\n",
        "words = sorted(set(words))\n",
        "classes = sorted(set(classes))"
      ]
    },
    {
      "cell_type": "code",
      "execution_count": 105,
      "metadata": {
        "id": "Acy-gcugNbMH",
        "colab": {
          "base_uri": "https://localhost:8080/"
        },
        "outputId": "b56d32ad-fabe-4dad-829c-9de6939991c2"
      },
      "outputs": [
        {
          "output_type": "stream",
          "name": "stdout",
          "text": [
            "words: ['atender', 'bien', 'centro', 'chau', 'cobertura', 'como', 'consulta', 'contacto', 'credito', 'cual', 'cuanto', 'cuota', 'de', 'doctor', 'donde', 'el', 'estar', 'este', 'estudio', 'gracias', 'hasta', 'holar', 'llama', 'luego', 'medico', 'medicus', 'medio', 'mucho', 'nombre', 'numero', 'obra', 'omint', 'osde', 'pagar', 'pago', 'pasar', 'poder', 'precio', 'prepaga', 'que', 'quien', 'realizar', 'realziar', 'reserir', 'resultado', 'salir', 'ser', 'social', 'tal', 'tarjeta', 'telefono', 'tener', 'todo', 'tranquilo', 'tu', 'turno', 'tú', 'ubicado', 'uno', 'valer', 'ver', 'whatsapp', 'yo']\n",
            "classes: ['agradecimientos', 'bienvenida', 'centros', 'cobertura', 'contacto', 'despedida', 'estado', 'nombre', 'pagos', 'precios', 'resultados', 'turno']\n",
            "doc_X: ['Hola', '¿Cómo estás?', '¿Qué tal?', 'Como estas?', 'Todo bien?', 'Todo tranquilo?', '¿Cúal es tu nombre?', '¿Quién sos?', 'Como te llamas?', 'contacto', 'número de contacto', 'número de teléfono', 'número de whatsapp', 'whatsapp', '¿Como reservo un turno?', '¿Cómo me atiende un doctor?', '¿Cómo me atiende un medico?', 'precio', 'Me podrás pasar los precios', '¿Cuánto vale?', '¿Cuánto sale?', 'medios de pago', 'tarjeta de crédito', 'tarjetas', 'cuotas', '¿Como puedo pagar?', 'Obra social', 'prepaga', 'cobertura', 'cuotas', 'osde', 'omint', 'medicus', 'OS', '¿Donde puedo ver los resultados?', '¿Donde puedo ver los estudios?', 'Como puedo ver los resultados?', 'Como puedo ver los estudios?', '¿Donde estan ubicados?', 'Que centros medicos tienen?', 'Donde puedo realizar las consultas?', 'Donde me puedo realziar los estudios?', 'Muchas gracias', 'Gracias', 'Chau', 'Hasta luego!']\n",
            "doc_y: ['bienvenida', 'bienvenida', 'bienvenida', 'estado', 'estado', 'estado', 'nombre', 'nombre', 'nombre', 'contacto', 'contacto', 'contacto', 'contacto', 'contacto', 'turno', 'turno', 'turno', 'precios', 'precios', 'precios', 'precios', 'pagos', 'pagos', 'pagos', 'pagos', 'pagos', 'cobertura', 'cobertura', 'cobertura', 'cobertura', 'cobertura', 'cobertura', 'cobertura', 'cobertura', 'resultados', 'resultados', 'resultados', 'resultados', 'centros', 'centros', 'centros', 'centros', 'agradecimientos', 'agradecimientos', 'despedida', 'despedida']\n"
          ]
        }
      ],
      "source": [
        "print(\"words:\", words)\n",
        "print(\"classes:\", classes)\n",
        "print(\"doc_X:\", doc_X)\n",
        "print(\"doc_y:\", doc_y)"
      ]
    },
    {
      "cell_type": "code",
      "execution_count": 106,
      "metadata": {
        "id": "YI0L2U7IQcvy",
        "colab": {
          "base_uri": "https://localhost:8080/"
        },
        "outputId": "2cadcbcd-8337-468e-9050-4c585fbaed42"
      },
      "outputs": [
        {
          "output_type": "stream",
          "name": "stdout",
          "text": [
            "Vocabulario: 63\n"
          ]
        }
      ],
      "source": [
        "# Tamaño del vocabulario\n",
        "print(\"Vocabulario:\", len(words))"
      ]
    },
    {
      "cell_type": "code",
      "execution_count": 107,
      "metadata": {
        "id": "hqBeGKRk_q4r",
        "colab": {
          "base_uri": "https://localhost:8080/"
        },
        "outputId": "54dfba2b-98c5-4618-cc38-9521ad73dbd8"
      },
      "outputs": [
        {
          "output_type": "stream",
          "name": "stdout",
          "text": [
            "Tags: 12\n"
          ]
        }
      ],
      "source": [
        "# Cantidad de tags\n",
        "print(\"Tags:\", len(classes))"
      ]
    },
    {
      "cell_type": "code",
      "execution_count": 108,
      "metadata": {
        "id": "vpbJ0guPN2Uq",
        "colab": {
          "base_uri": "https://localhost:8080/"
        },
        "outputId": "40ea94f5-68b6-4dc1-c2d0-6bcdcbdd02c3"
      },
      "outputs": [
        {
          "output_type": "stream",
          "name": "stdout",
          "text": [
            "X: [0, 0, 0, 0, 0, 0, 0, 0, 0, 0, 0, 0, 0, 0, 0, 0, 0, 0, 0, 0, 0, 1, 0, 0, 0, 0, 0, 0, 0, 0, 0, 0, 0, 0, 0, 0, 0, 0, 0, 0, 0, 0, 0, 0, 0, 0, 0, 0, 0, 0, 0, 0, 0, 0, 0, 0, 0, 0, 0, 0, 0, 0, 0] y: [0, 1, 0, 0, 0, 0, 0, 0, 0, 0, 0, 0]\n",
            "X: [0, 0, 0, 0, 0, 1, 0, 0, 0, 0, 0, 0, 0, 0, 0, 0, 0, 1, 0, 0, 0, 0, 0, 0, 0, 0, 0, 0, 0, 0, 0, 0, 0, 0, 0, 0, 0, 0, 0, 0, 0, 0, 0, 0, 0, 0, 0, 0, 0, 0, 0, 0, 0, 0, 0, 0, 0, 0, 0, 0, 0, 0, 0] y: [0, 1, 0, 0, 0, 0, 0, 0, 0, 0, 0, 0]\n",
            "X: [0, 0, 0, 0, 0, 0, 0, 0, 0, 0, 0, 0, 0, 0, 0, 0, 0, 0, 0, 0, 0, 0, 0, 0, 0, 0, 0, 0, 0, 0, 0, 0, 0, 0, 0, 0, 0, 0, 0, 1, 0, 0, 0, 0, 0, 0, 0, 0, 1, 0, 0, 0, 0, 0, 0, 0, 0, 0, 0, 0, 0, 0, 0] y: [0, 1, 0, 0, 0, 0, 0, 0, 0, 0, 0, 0]\n",
            "X: [0, 0, 0, 0, 0, 1, 0, 0, 0, 0, 0, 0, 0, 0, 0, 0, 0, 1, 0, 0, 0, 0, 0, 0, 0, 0, 0, 0, 0, 0, 0, 0, 0, 0, 0, 0, 0, 0, 0, 0, 0, 0, 0, 0, 0, 0, 0, 0, 0, 0, 0, 0, 0, 0, 0, 0, 0, 0, 0, 0, 0, 0, 0] y: [0, 0, 0, 0, 0, 0, 1, 0, 0, 0, 0, 0]\n",
            "X: [0, 1, 0, 0, 0, 0, 0, 0, 0, 0, 0, 0, 0, 0, 0, 0, 0, 0, 0, 0, 0, 0, 0, 0, 0, 0, 0, 0, 0, 0, 0, 0, 0, 0, 0, 0, 0, 0, 0, 0, 0, 0, 0, 0, 0, 0, 0, 0, 0, 0, 0, 0, 1, 0, 0, 0, 0, 0, 0, 0, 0, 0, 0] y: [0, 0, 0, 0, 0, 0, 1, 0, 0, 0, 0, 0]\n",
            "X: [0, 0, 0, 0, 0, 0, 0, 0, 0, 0, 0, 0, 0, 0, 0, 0, 0, 0, 0, 0, 0, 0, 0, 0, 0, 0, 0, 0, 0, 0, 0, 0, 0, 0, 0, 0, 0, 0, 0, 0, 0, 0, 0, 0, 0, 0, 0, 0, 0, 0, 0, 0, 1, 1, 0, 0, 0, 0, 0, 0, 0, 0, 0] y: [0, 0, 0, 0, 0, 0, 1, 0, 0, 0, 0, 0]\n",
            "X: [0, 0, 0, 0, 0, 0, 0, 0, 0, 1, 0, 0, 0, 0, 0, 0, 0, 0, 0, 0, 0, 0, 0, 0, 0, 0, 0, 0, 1, 0, 0, 0, 0, 0, 0, 0, 0, 0, 0, 0, 0, 0, 0, 0, 0, 0, 1, 0, 0, 0, 0, 0, 0, 0, 1, 0, 0, 0, 0, 0, 0, 0, 0] y: [0, 0, 0, 0, 0, 0, 0, 1, 0, 0, 0, 0]\n",
            "X: [0, 0, 0, 0, 0, 0, 0, 0, 0, 0, 0, 0, 0, 0, 0, 0, 0, 0, 0, 0, 0, 0, 0, 0, 0, 0, 0, 0, 0, 0, 0, 0, 0, 0, 0, 0, 0, 0, 0, 0, 1, 0, 0, 0, 0, 0, 1, 0, 0, 0, 0, 0, 0, 0, 0, 0, 0, 0, 0, 0, 0, 0, 0] y: [0, 0, 0, 0, 0, 0, 0, 1, 0, 0, 0, 0]\n",
            "X: [0, 0, 0, 0, 0, 1, 0, 0, 0, 0, 0, 0, 0, 0, 0, 0, 0, 0, 0, 0, 0, 0, 1, 0, 0, 0, 0, 0, 0, 0, 0, 0, 0, 0, 0, 0, 0, 0, 0, 0, 0, 0, 0, 0, 0, 0, 0, 0, 0, 0, 0, 0, 0, 0, 0, 0, 1, 0, 0, 0, 0, 0, 0] y: [0, 0, 0, 0, 0, 0, 0, 1, 0, 0, 0, 0]\n",
            "X: [0, 0, 0, 0, 0, 0, 0, 1, 0, 0, 0, 0, 0, 0, 0, 0, 0, 0, 0, 0, 0, 0, 0, 0, 0, 0, 0, 0, 0, 0, 0, 0, 0, 0, 0, 0, 0, 0, 0, 0, 0, 0, 0, 0, 0, 0, 0, 0, 0, 0, 0, 0, 0, 0, 0, 0, 0, 0, 0, 0, 0, 0, 0] y: [0, 0, 0, 0, 1, 0, 0, 0, 0, 0, 0, 0]\n",
            "X: [0, 0, 0, 0, 0, 0, 0, 1, 0, 0, 0, 0, 1, 0, 0, 0, 0, 0, 0, 0, 0, 0, 0, 0, 0, 0, 0, 0, 0, 1, 0, 0, 0, 0, 0, 0, 0, 0, 0, 0, 0, 0, 0, 0, 0, 0, 0, 0, 0, 0, 0, 0, 0, 0, 0, 0, 0, 0, 0, 0, 0, 0, 0] y: [0, 0, 0, 0, 1, 0, 0, 0, 0, 0, 0, 0]\n",
            "X: [0, 0, 0, 0, 0, 0, 0, 0, 0, 0, 0, 0, 1, 0, 0, 0, 0, 0, 0, 0, 0, 0, 0, 0, 0, 0, 0, 0, 0, 1, 0, 0, 0, 0, 0, 0, 0, 0, 0, 0, 0, 0, 0, 0, 0, 0, 0, 0, 0, 0, 1, 0, 0, 0, 0, 0, 0, 0, 0, 0, 0, 0, 0] y: [0, 0, 0, 0, 1, 0, 0, 0, 0, 0, 0, 0]\n",
            "X: [0, 0, 0, 0, 0, 0, 0, 0, 0, 0, 0, 0, 1, 0, 0, 0, 0, 0, 0, 0, 0, 0, 0, 0, 0, 0, 0, 0, 0, 1, 0, 0, 0, 0, 0, 0, 0, 0, 0, 0, 0, 0, 0, 0, 0, 0, 0, 0, 0, 0, 0, 0, 0, 0, 0, 0, 0, 0, 0, 0, 0, 1, 0] y: [0, 0, 0, 0, 1, 0, 0, 0, 0, 0, 0, 0]\n",
            "X: [0, 0, 0, 0, 0, 0, 0, 0, 0, 0, 0, 0, 0, 0, 0, 0, 0, 0, 0, 0, 0, 0, 0, 0, 0, 0, 0, 0, 0, 0, 0, 0, 0, 0, 0, 0, 0, 0, 0, 0, 0, 0, 0, 0, 0, 0, 0, 0, 0, 0, 0, 0, 0, 0, 0, 0, 0, 0, 0, 0, 0, 1, 0] y: [0, 0, 0, 0, 1, 0, 0, 0, 0, 0, 0, 0]\n",
            "X: [0, 0, 0, 0, 0, 1, 0, 0, 0, 0, 0, 0, 0, 0, 0, 0, 0, 0, 0, 0, 0, 0, 0, 0, 0, 0, 0, 0, 0, 0, 0, 0, 0, 0, 0, 0, 0, 0, 0, 0, 0, 0, 0, 1, 0, 0, 0, 0, 0, 0, 0, 0, 0, 0, 0, 1, 0, 0, 1, 0, 0, 0, 0] y: [0, 0, 0, 0, 0, 0, 0, 0, 0, 0, 0, 1]\n",
            "X: [1, 0, 0, 0, 0, 1, 0, 0, 0, 0, 0, 0, 0, 1, 0, 0, 0, 0, 0, 0, 0, 0, 0, 0, 0, 0, 0, 0, 0, 0, 0, 0, 0, 0, 0, 0, 0, 0, 0, 0, 0, 0, 0, 0, 0, 0, 0, 0, 0, 0, 0, 0, 0, 0, 0, 0, 0, 0, 1, 0, 0, 0, 1] y: [0, 0, 0, 0, 0, 0, 0, 0, 0, 0, 0, 1]\n",
            "X: [1, 0, 0, 0, 0, 1, 0, 0, 0, 0, 0, 0, 0, 0, 0, 0, 0, 0, 0, 0, 0, 0, 0, 0, 1, 0, 0, 0, 0, 0, 0, 0, 0, 0, 0, 0, 0, 0, 0, 0, 0, 0, 0, 0, 0, 0, 0, 0, 0, 0, 0, 0, 0, 0, 0, 0, 0, 0, 1, 0, 0, 0, 1] y: [0, 0, 0, 0, 0, 0, 0, 0, 0, 0, 0, 1]\n",
            "X: [0, 0, 0, 0, 0, 0, 0, 0, 0, 0, 0, 0, 0, 0, 0, 0, 0, 0, 0, 0, 0, 0, 0, 0, 0, 0, 0, 0, 0, 0, 0, 0, 0, 0, 0, 0, 0, 1, 0, 0, 0, 0, 0, 0, 0, 0, 0, 0, 0, 0, 0, 0, 0, 0, 0, 0, 0, 0, 0, 0, 0, 0, 0] y: [0, 0, 0, 0, 0, 0, 0, 0, 0, 1, 0, 0]\n",
            "X: [0, 0, 0, 0, 0, 0, 0, 0, 0, 0, 0, 0, 0, 0, 0, 1, 0, 0, 0, 0, 0, 0, 0, 0, 0, 0, 0, 0, 0, 0, 0, 0, 0, 0, 0, 1, 1, 1, 0, 0, 0, 0, 0, 0, 0, 0, 0, 0, 0, 0, 0, 0, 0, 0, 0, 0, 0, 0, 0, 0, 0, 0, 1] y: [0, 0, 0, 0, 0, 0, 0, 0, 0, 1, 0, 0]\n",
            "X: [0, 0, 0, 0, 0, 0, 0, 0, 0, 0, 1, 0, 0, 0, 0, 0, 0, 0, 0, 0, 0, 0, 0, 0, 0, 0, 0, 0, 0, 0, 0, 0, 0, 0, 0, 0, 0, 0, 0, 0, 0, 0, 0, 0, 0, 0, 0, 0, 0, 0, 0, 0, 0, 0, 0, 0, 0, 0, 0, 1, 0, 0, 0] y: [0, 0, 0, 0, 0, 0, 0, 0, 0, 1, 0, 0]\n",
            "X: [0, 0, 0, 0, 0, 0, 0, 0, 0, 0, 1, 0, 0, 0, 0, 0, 0, 0, 0, 0, 0, 0, 0, 0, 0, 0, 0, 0, 0, 0, 0, 0, 0, 0, 0, 0, 0, 0, 0, 0, 0, 0, 0, 0, 0, 1, 0, 0, 0, 0, 0, 0, 0, 0, 0, 0, 0, 0, 0, 0, 0, 0, 0] y: [0, 0, 0, 0, 0, 0, 0, 0, 0, 1, 0, 0]\n",
            "X: [0, 0, 0, 0, 0, 0, 0, 0, 0, 0, 0, 0, 1, 0, 0, 0, 0, 0, 0, 0, 0, 0, 0, 0, 0, 0, 1, 0, 0, 0, 0, 0, 0, 0, 1, 0, 0, 0, 0, 0, 0, 0, 0, 0, 0, 0, 0, 0, 0, 0, 0, 0, 0, 0, 0, 0, 0, 0, 0, 0, 0, 0, 0] y: [0, 0, 0, 0, 0, 0, 0, 0, 1, 0, 0, 0]\n",
            "X: [0, 0, 0, 0, 0, 0, 0, 0, 1, 0, 0, 0, 1, 0, 0, 0, 0, 0, 0, 0, 0, 0, 0, 0, 0, 0, 0, 0, 0, 0, 0, 0, 0, 0, 0, 0, 0, 0, 0, 0, 0, 0, 0, 0, 0, 0, 0, 0, 0, 1, 0, 0, 0, 0, 0, 0, 0, 0, 0, 0, 0, 0, 0] y: [0, 0, 0, 0, 0, 0, 0, 0, 1, 0, 0, 0]\n",
            "X: [0, 0, 0, 0, 0, 0, 0, 0, 0, 0, 0, 0, 0, 0, 0, 0, 0, 0, 0, 0, 0, 0, 0, 0, 0, 0, 0, 0, 0, 0, 0, 0, 0, 0, 0, 0, 0, 0, 0, 0, 0, 0, 0, 0, 0, 0, 0, 0, 0, 1, 0, 0, 0, 0, 0, 0, 0, 0, 0, 0, 0, 0, 0] y: [0, 0, 0, 0, 0, 0, 0, 0, 1, 0, 0, 0]\n",
            "X: [0, 0, 0, 0, 0, 0, 0, 0, 0, 0, 0, 1, 0, 0, 0, 0, 0, 0, 0, 0, 0, 0, 0, 0, 0, 0, 0, 0, 0, 0, 0, 0, 0, 0, 0, 0, 0, 0, 0, 0, 0, 0, 0, 0, 0, 0, 0, 0, 0, 0, 0, 0, 0, 0, 0, 0, 0, 0, 0, 0, 0, 0, 0] y: [0, 0, 0, 0, 0, 0, 0, 0, 1, 0, 0, 0]\n",
            "X: [0, 0, 0, 0, 0, 1, 0, 0, 0, 0, 0, 0, 0, 0, 0, 0, 0, 0, 0, 0, 0, 0, 0, 0, 0, 0, 0, 0, 0, 0, 0, 0, 0, 1, 0, 0, 1, 0, 0, 0, 0, 0, 0, 0, 0, 0, 0, 0, 0, 0, 0, 0, 0, 0, 0, 0, 0, 0, 0, 0, 0, 0, 0] y: [0, 0, 0, 0, 0, 0, 0, 0, 1, 0, 0, 0]\n",
            "X: [0, 0, 0, 0, 0, 0, 0, 0, 0, 0, 0, 0, 0, 0, 0, 0, 0, 0, 0, 0, 0, 0, 0, 0, 0, 0, 0, 0, 0, 0, 1, 0, 0, 0, 0, 0, 0, 0, 0, 0, 0, 0, 0, 0, 0, 0, 0, 1, 0, 0, 0, 0, 0, 0, 0, 0, 0, 0, 0, 0, 0, 0, 0] y: [0, 0, 0, 1, 0, 0, 0, 0, 0, 0, 0, 0]\n",
            "X: [0, 0, 0, 0, 0, 0, 0, 0, 0, 0, 0, 0, 0, 0, 0, 0, 0, 0, 0, 0, 0, 0, 0, 0, 0, 0, 0, 0, 0, 0, 0, 0, 0, 0, 0, 0, 0, 0, 1, 0, 0, 0, 0, 0, 0, 0, 0, 0, 0, 0, 0, 0, 0, 0, 0, 0, 0, 0, 0, 0, 0, 0, 0] y: [0, 0, 0, 1, 0, 0, 0, 0, 0, 0, 0, 0]\n",
            "X: [0, 0, 0, 0, 1, 0, 0, 0, 0, 0, 0, 0, 0, 0, 0, 0, 0, 0, 0, 0, 0, 0, 0, 0, 0, 0, 0, 0, 0, 0, 0, 0, 0, 0, 0, 0, 0, 0, 0, 0, 0, 0, 0, 0, 0, 0, 0, 0, 0, 0, 0, 0, 0, 0, 0, 0, 0, 0, 0, 0, 0, 0, 0] y: [0, 0, 0, 1, 0, 0, 0, 0, 0, 0, 0, 0]\n",
            "X: [0, 0, 0, 0, 0, 0, 0, 0, 0, 0, 0, 1, 0, 0, 0, 0, 0, 0, 0, 0, 0, 0, 0, 0, 0, 0, 0, 0, 0, 0, 0, 0, 0, 0, 0, 0, 0, 0, 0, 0, 0, 0, 0, 0, 0, 0, 0, 0, 0, 0, 0, 0, 0, 0, 0, 0, 0, 0, 0, 0, 0, 0, 0] y: [0, 0, 0, 1, 0, 0, 0, 0, 0, 0, 0, 0]\n",
            "X: [0, 0, 0, 0, 0, 0, 0, 0, 0, 0, 0, 0, 0, 0, 0, 0, 0, 0, 0, 0, 0, 0, 0, 0, 0, 0, 0, 0, 0, 0, 0, 0, 1, 0, 0, 0, 0, 0, 0, 0, 0, 0, 0, 0, 0, 0, 0, 0, 0, 0, 0, 0, 0, 0, 0, 0, 0, 0, 0, 0, 0, 0, 0] y: [0, 0, 0, 1, 0, 0, 0, 0, 0, 0, 0, 0]\n",
            "X: [0, 0, 0, 0, 0, 0, 0, 0, 0, 0, 0, 0, 0, 0, 0, 0, 0, 0, 0, 0, 0, 0, 0, 0, 0, 0, 0, 0, 0, 0, 0, 1, 0, 0, 0, 0, 0, 0, 0, 0, 0, 0, 0, 0, 0, 0, 0, 0, 0, 0, 0, 0, 0, 0, 0, 0, 0, 0, 0, 0, 0, 0, 0] y: [0, 0, 0, 1, 0, 0, 0, 0, 0, 0, 0, 0]\n",
            "X: [0, 0, 0, 0, 0, 0, 0, 0, 0, 0, 0, 0, 0, 0, 0, 0, 0, 0, 0, 0, 0, 0, 0, 0, 0, 1, 0, 0, 0, 0, 0, 0, 0, 0, 0, 0, 0, 0, 0, 0, 0, 0, 0, 0, 0, 0, 0, 0, 0, 0, 0, 0, 0, 0, 0, 0, 0, 0, 0, 0, 0, 0, 0] y: [0, 0, 0, 1, 0, 0, 0, 0, 0, 0, 0, 0]\n",
            "X: [0, 0, 0, 0, 0, 0, 0, 0, 0, 0, 0, 0, 0, 0, 0, 0, 0, 0, 0, 0, 0, 0, 0, 0, 0, 0, 0, 0, 0, 0, 0, 0, 0, 0, 0, 0, 0, 0, 0, 0, 0, 0, 0, 0, 0, 0, 0, 0, 0, 0, 0, 0, 0, 0, 0, 0, 1, 0, 0, 0, 0, 0, 0] y: [0, 0, 0, 1, 0, 0, 0, 0, 0, 0, 0, 0]\n",
            "X: [0, 0, 0, 0, 0, 0, 0, 0, 0, 0, 0, 0, 0, 0, 1, 1, 0, 0, 0, 0, 0, 0, 0, 0, 0, 0, 0, 0, 0, 0, 0, 0, 0, 0, 0, 0, 1, 0, 0, 0, 0, 0, 0, 0, 1, 0, 0, 0, 0, 0, 0, 0, 0, 0, 0, 0, 0, 0, 0, 0, 1, 0, 0] y: [0, 0, 0, 0, 0, 0, 0, 0, 0, 0, 1, 0]\n",
            "X: [0, 0, 0, 0, 0, 0, 0, 0, 0, 0, 0, 0, 0, 0, 1, 1, 0, 0, 1, 0, 0, 0, 0, 0, 0, 0, 0, 0, 0, 0, 0, 0, 0, 0, 0, 0, 1, 0, 0, 0, 0, 0, 0, 0, 0, 0, 0, 0, 0, 0, 0, 0, 0, 0, 0, 0, 0, 0, 0, 0, 1, 0, 0] y: [0, 0, 0, 0, 0, 0, 0, 0, 0, 0, 1, 0]\n",
            "X: [0, 0, 0, 0, 0, 1, 0, 0, 0, 0, 0, 0, 0, 0, 0, 1, 0, 0, 0, 0, 0, 0, 0, 0, 0, 0, 0, 0, 0, 0, 0, 0, 0, 0, 0, 0, 1, 0, 0, 0, 0, 0, 0, 0, 1, 0, 0, 0, 0, 0, 0, 0, 0, 0, 0, 0, 0, 0, 0, 0, 1, 0, 0] y: [0, 0, 0, 0, 0, 0, 0, 0, 0, 0, 1, 0]\n",
            "X: [0, 0, 0, 0, 0, 1, 0, 0, 0, 0, 0, 0, 0, 0, 0, 1, 0, 0, 1, 0, 0, 0, 0, 0, 0, 0, 0, 0, 0, 0, 0, 0, 0, 0, 0, 0, 1, 0, 0, 0, 0, 0, 0, 0, 0, 0, 0, 0, 0, 0, 0, 0, 0, 0, 0, 0, 0, 0, 0, 0, 1, 0, 0] y: [0, 0, 0, 0, 0, 0, 0, 0, 0, 0, 1, 0]\n",
            "X: [0, 0, 0, 0, 0, 0, 0, 0, 0, 0, 0, 0, 0, 0, 1, 0, 1, 0, 0, 0, 0, 0, 0, 0, 0, 0, 0, 0, 0, 0, 0, 0, 0, 0, 0, 0, 0, 0, 0, 0, 0, 0, 0, 0, 0, 0, 0, 0, 0, 0, 0, 0, 0, 0, 0, 0, 0, 1, 0, 0, 0, 0, 0] y: [0, 0, 1, 0, 0, 0, 0, 0, 0, 0, 0, 0]\n",
            "X: [0, 0, 1, 0, 0, 0, 0, 0, 0, 0, 0, 0, 0, 0, 0, 0, 0, 0, 0, 0, 0, 0, 0, 0, 1, 0, 0, 0, 0, 0, 0, 0, 0, 0, 0, 0, 0, 0, 0, 1, 0, 0, 0, 0, 0, 0, 0, 0, 0, 0, 0, 1, 0, 0, 0, 0, 0, 0, 0, 0, 0, 0, 0] y: [0, 0, 1, 0, 0, 0, 0, 0, 0, 0, 0, 0]\n",
            "X: [0, 0, 0, 0, 0, 0, 1, 0, 0, 0, 0, 0, 0, 0, 1, 1, 0, 0, 0, 0, 0, 0, 0, 0, 0, 0, 0, 0, 0, 0, 0, 0, 0, 0, 0, 0, 1, 0, 0, 0, 0, 1, 0, 0, 0, 0, 0, 0, 0, 0, 0, 0, 0, 0, 0, 0, 0, 0, 0, 0, 0, 0, 0] y: [0, 0, 1, 0, 0, 0, 0, 0, 0, 0, 0, 0]\n",
            "X: [0, 0, 0, 0, 0, 0, 0, 0, 0, 0, 0, 0, 0, 0, 1, 1, 0, 0, 1, 0, 0, 0, 0, 0, 0, 0, 0, 0, 0, 0, 0, 0, 0, 0, 0, 0, 1, 0, 0, 0, 0, 0, 1, 0, 0, 0, 0, 0, 0, 0, 0, 0, 0, 0, 0, 0, 0, 0, 0, 0, 0, 0, 1] y: [0, 0, 1, 0, 0, 0, 0, 0, 0, 0, 0, 0]\n",
            "X: [0, 0, 0, 0, 0, 0, 0, 0, 0, 0, 0, 0, 0, 0, 0, 0, 0, 0, 0, 1, 0, 0, 0, 0, 0, 0, 0, 1, 0, 0, 0, 0, 0, 0, 0, 0, 0, 0, 0, 0, 0, 0, 0, 0, 0, 0, 0, 0, 0, 0, 0, 0, 0, 0, 0, 0, 0, 0, 0, 0, 0, 0, 0] y: [1, 0, 0, 0, 0, 0, 0, 0, 0, 0, 0, 0]\n",
            "X: [0, 0, 0, 0, 0, 0, 0, 0, 0, 0, 0, 0, 0, 0, 0, 0, 0, 0, 0, 1, 0, 0, 0, 0, 0, 0, 0, 0, 0, 0, 0, 0, 0, 0, 0, 0, 0, 0, 0, 0, 0, 0, 0, 0, 0, 0, 0, 0, 0, 0, 0, 0, 0, 0, 0, 0, 0, 0, 0, 0, 0, 0, 0] y: [1, 0, 0, 0, 0, 0, 0, 0, 0, 0, 0, 0]\n",
            "X: [0, 0, 0, 1, 0, 0, 0, 0, 0, 0, 0, 0, 0, 0, 0, 0, 0, 0, 0, 0, 0, 0, 0, 0, 0, 0, 0, 0, 0, 0, 0, 0, 0, 0, 0, 0, 0, 0, 0, 0, 0, 0, 0, 0, 0, 0, 0, 0, 0, 0, 0, 0, 0, 0, 0, 0, 0, 0, 0, 0, 0, 0, 0] y: [0, 0, 0, 0, 0, 1, 0, 0, 0, 0, 0, 0]\n",
            "X: [0, 0, 0, 0, 0, 0, 0, 0, 0, 0, 0, 0, 0, 0, 0, 0, 0, 0, 0, 0, 1, 0, 0, 1, 0, 0, 0, 0, 0, 0, 0, 0, 0, 0, 0, 0, 0, 0, 0, 0, 0, 0, 0, 0, 0, 0, 0, 0, 0, 0, 0, 0, 0, 0, 0, 0, 0, 0, 0, 0, 0, 0, 0] y: [0, 0, 0, 0, 0, 1, 0, 0, 0, 0, 0, 0]\n"
          ]
        }
      ],
      "source": [
        "# Transformar doc_X en bag of words por oneHotEncoding\n",
        "# Transformar doc_Y en un vector de clases multicategórico con oneHotEncoding\n",
        "\n",
        "training = []\n",
        "out_empty = [0] * len(classes)\n",
        "\n",
        "for idx, doc in enumerate(doc_X):\n",
        "    # Transformar la pregunta (input) en tokens y lematizar\n",
        "    text = []\n",
        "    tokens = nlp(preprocess_clean_text(doc.lower()))\n",
        "    for token in tokens:\n",
        "        text.append(token.lemma_)\n",
        "\n",
        "    # Transformar los tokens en \"Bag of words\" (arrays de 1 y 0)\n",
        "    bow = []\n",
        "    for word in words:\n",
        "        bow.append(1) if word in text else bow.append(0)\n",
        "    \n",
        "    # Crear el array de salida (class output) correspondiente\n",
        "    output_row = list(out_empty)\n",
        "    output_row[classes.index(doc_y[idx])] = 1\n",
        "\n",
        "    print(\"X:\", bow, \"y:\", output_row)\n",
        "    training.append([bow, output_row])\n",
        "\n",
        "# Mezclar los datos\n",
        "random.shuffle(training)\n",
        "training = np.array(training, dtype=object)\n",
        "# Dividir en datos de entrada y salida\n",
        "train_X = np.array(list(training[:, 0]))\n",
        "train_y = np.array(list(training[:, 1]))"
      ]
    },
    {
      "cell_type": "markdown",
      "metadata": {
        "id": "a_Hr8QaDfRf3"
      },
      "source": [
        "### 5 - Entrenamiento del modelo"
      ]
    },
    {
      "cell_type": "code",
      "execution_count": 109,
      "metadata": {
        "id": "fopb3NqcAGTz",
        "colab": {
          "base_uri": "https://localhost:8080/"
        },
        "outputId": "edd57049-0e89-46e4-a1cb-8ec0450f15be"
      },
      "outputs": [
        {
          "output_type": "stream",
          "name": "stdout",
          "text": [
            "input: (63,) output: 12\n"
          ]
        }
      ],
      "source": [
        "# Shape de entrada y salida\n",
        "input_shape = (train_X.shape[1],)\n",
        "output_shape = train_y.shape[1]\n",
        "print(\"input:\", input_shape, \"output:\", output_shape)"
      ]
    },
    {
      "cell_type": "code",
      "execution_count": 110,
      "metadata": {
        "id": "xy7tzkwdOZx9",
        "colab": {
          "base_uri": "https://localhost:8080/"
        },
        "outputId": "f9e73b93-2349-438c-df9a-d8bcd8ff741a"
      },
      "outputs": [
        {
          "output_type": "stream",
          "name": "stdout",
          "text": [
            "Model: \"sequential_7\"\n",
            "_________________________________________________________________\n",
            " Layer (type)                Output Shape              Param #   \n",
            "=================================================================\n",
            " dense_21 (Dense)            (None, 128)               8192      \n",
            "                                                                 \n",
            " dropout_14 (Dropout)        (None, 128)               0         \n",
            "                                                                 \n",
            " dense_22 (Dense)            (None, 64)                8256      \n",
            "                                                                 \n",
            " dropout_15 (Dropout)        (None, 64)                0         \n",
            "                                                                 \n",
            " dense_23 (Dense)            (None, 12)                780       \n",
            "                                                                 \n",
            "=================================================================\n",
            "Total params: 17,228\n",
            "Trainable params: 17,228\n",
            "Non-trainable params: 0\n",
            "_________________________________________________________________\n",
            "None\n"
          ]
        }
      ],
      "source": [
        "# Entrenamiento del modelo DNN\n",
        "# - Modelo secuencial\n",
        "# - Con regularización\n",
        "# - softmax y optimizador Adam\n",
        "model = Sequential()\n",
        "model.add(Dense(128, input_shape=input_shape, activation=\"relu\"))\n",
        "model.add(Dropout(0.5))\n",
        "model.add(Dense(64, activation=\"relu\"))\n",
        "model.add(Dropout(0.5))\n",
        "model.add(Dense(output_shape, activation = \"softmax\"))\n",
        "\n",
        "model.compile(loss='categorical_crossentropy',\n",
        "              optimizer=\"Adam\",\n",
        "              metrics=[\"accuracy\"])\n",
        "print(model.summary())"
      ]
    },
    {
      "cell_type": "code",
      "execution_count": 111,
      "metadata": {
        "id": "r6hi4EcdOghm",
        "colab": {
          "base_uri": "https://localhost:8080/"
        },
        "outputId": "b3cd1b3d-0ac7-4278-d4ab-36a1ba8bb580"
      },
      "outputs": [
        {
          "output_type": "stream",
          "name": "stdout",
          "text": [
            "Epoch 1/200\n",
            "2/2 [==============================] - 0s 6ms/step - loss: 2.5450 - accuracy: 0.1304\n",
            "Epoch 2/200\n",
            "2/2 [==============================] - 0s 8ms/step - loss: 2.5106 - accuracy: 0.0652\n",
            "Epoch 3/200\n",
            "2/2 [==============================] - 0s 7ms/step - loss: 2.4832 - accuracy: 0.0435\n",
            "Epoch 4/200\n",
            "2/2 [==============================] - 0s 7ms/step - loss: 2.4776 - accuracy: 0.0870\n",
            "Epoch 5/200\n",
            "2/2 [==============================] - 0s 6ms/step - loss: 2.4194 - accuracy: 0.1739\n",
            "Epoch 6/200\n",
            "2/2 [==============================] - 0s 6ms/step - loss: 2.4375 - accuracy: 0.1739\n",
            "Epoch 7/200\n",
            "2/2 [==============================] - 0s 9ms/step - loss: 2.4291 - accuracy: 0.0652\n",
            "Epoch 8/200\n",
            "2/2 [==============================] - 0s 6ms/step - loss: 2.4390 - accuracy: 0.1087\n",
            "Epoch 9/200\n",
            "2/2 [==============================] - 0s 6ms/step - loss: 2.4294 - accuracy: 0.1739\n",
            "Epoch 10/200\n",
            "2/2 [==============================] - 0s 6ms/step - loss: 2.4078 - accuracy: 0.1304\n",
            "Epoch 11/200\n",
            "2/2 [==============================] - 0s 6ms/step - loss: 2.3235 - accuracy: 0.3696\n",
            "Epoch 12/200\n",
            "2/2 [==============================] - 0s 6ms/step - loss: 2.3575 - accuracy: 0.2391\n",
            "Epoch 13/200\n",
            "2/2 [==============================] - 0s 8ms/step - loss: 2.4064 - accuracy: 0.1304\n",
            "Epoch 14/200\n",
            "2/2 [==============================] - 0s 6ms/step - loss: 2.3208 - accuracy: 0.3261\n",
            "Epoch 15/200\n",
            "2/2 [==============================] - 0s 6ms/step - loss: 2.3370 - accuracy: 0.2609\n",
            "Epoch 16/200\n",
            "2/2 [==============================] - 0s 8ms/step - loss: 2.2757 - accuracy: 0.3478\n",
            "Epoch 17/200\n",
            "2/2 [==============================] - 0s 7ms/step - loss: 2.3311 - accuracy: 0.1739\n",
            "Epoch 18/200\n",
            "2/2 [==============================] - 0s 6ms/step - loss: 2.2919 - accuracy: 0.2391\n",
            "Epoch 19/200\n",
            "2/2 [==============================] - 0s 5ms/step - loss: 2.2665 - accuracy: 0.3043\n",
            "Epoch 20/200\n",
            "2/2 [==============================] - 0s 6ms/step - loss: 2.2622 - accuracy: 0.3261\n",
            "Epoch 21/200\n",
            "2/2 [==============================] - 0s 7ms/step - loss: 2.2716 - accuracy: 0.3261\n",
            "Epoch 22/200\n",
            "2/2 [==============================] - 0s 6ms/step - loss: 2.1748 - accuracy: 0.3913\n",
            "Epoch 23/200\n",
            "2/2 [==============================] - 0s 7ms/step - loss: 2.2322 - accuracy: 0.3913\n",
            "Epoch 24/200\n",
            "2/2 [==============================] - 0s 6ms/step - loss: 2.1665 - accuracy: 0.3913\n",
            "Epoch 25/200\n",
            "2/2 [==============================] - 0s 7ms/step - loss: 2.1379 - accuracy: 0.5870\n",
            "Epoch 26/200\n",
            "2/2 [==============================] - 0s 7ms/step - loss: 2.2061 - accuracy: 0.3696\n",
            "Epoch 27/200\n",
            "2/2 [==============================] - 0s 9ms/step - loss: 2.1080 - accuracy: 0.4565\n",
            "Epoch 28/200\n",
            "2/2 [==============================] - 0s 7ms/step - loss: 2.1076 - accuracy: 0.4565\n",
            "Epoch 29/200\n",
            "2/2 [==============================] - 0s 5ms/step - loss: 2.1072 - accuracy: 0.4783\n",
            "Epoch 30/200\n",
            "2/2 [==============================] - 0s 7ms/step - loss: 2.0522 - accuracy: 0.5435\n",
            "Epoch 31/200\n",
            "2/2 [==============================] - 0s 7ms/step - loss: 2.0608 - accuracy: 0.5000\n",
            "Epoch 32/200\n",
            "2/2 [==============================] - 0s 8ms/step - loss: 2.0273 - accuracy: 0.5435\n",
            "Epoch 33/200\n",
            "2/2 [==============================] - 0s 7ms/step - loss: 2.0276 - accuracy: 0.5435\n",
            "Epoch 34/200\n",
            "2/2 [==============================] - 0s 6ms/step - loss: 1.9868 - accuracy: 0.5435\n",
            "Epoch 35/200\n",
            "2/2 [==============================] - 0s 5ms/step - loss: 1.9041 - accuracy: 0.5435\n",
            "Epoch 36/200\n",
            "2/2 [==============================] - 0s 7ms/step - loss: 1.9261 - accuracy: 0.5000\n",
            "Epoch 37/200\n",
            "2/2 [==============================] - 0s 5ms/step - loss: 1.9618 - accuracy: 0.5217\n",
            "Epoch 38/200\n",
            "2/2 [==============================] - 0s 5ms/step - loss: 1.9524 - accuracy: 0.5217\n",
            "Epoch 39/200\n",
            "2/2 [==============================] - 0s 6ms/step - loss: 1.8705 - accuracy: 0.5217\n",
            "Epoch 40/200\n",
            "2/2 [==============================] - 0s 5ms/step - loss: 1.8546 - accuracy: 0.5870\n",
            "Epoch 41/200\n",
            "2/2 [==============================] - 0s 5ms/step - loss: 1.8310 - accuracy: 0.5870\n",
            "Epoch 42/200\n",
            "2/2 [==============================] - 0s 8ms/step - loss: 1.8059 - accuracy: 0.5870\n",
            "Epoch 43/200\n",
            "2/2 [==============================] - 0s 6ms/step - loss: 1.8035 - accuracy: 0.6304\n",
            "Epoch 44/200\n",
            "2/2 [==============================] - 0s 7ms/step - loss: 1.7459 - accuracy: 0.5652\n",
            "Epoch 45/200\n",
            "2/2 [==============================] - 0s 6ms/step - loss: 1.7277 - accuracy: 0.6087\n",
            "Epoch 46/200\n",
            "2/2 [==============================] - 0s 5ms/step - loss: 1.7765 - accuracy: 0.6087\n",
            "Epoch 47/200\n",
            "2/2 [==============================] - 0s 6ms/step - loss: 1.6404 - accuracy: 0.5652\n",
            "Epoch 48/200\n",
            "2/2 [==============================] - 0s 8ms/step - loss: 1.7205 - accuracy: 0.6304\n",
            "Epoch 49/200\n",
            "2/2 [==============================] - 0s 5ms/step - loss: 1.5903 - accuracy: 0.6522\n",
            "Epoch 50/200\n",
            "2/2 [==============================] - 0s 6ms/step - loss: 1.5657 - accuracy: 0.6304\n",
            "Epoch 51/200\n",
            "2/2 [==============================] - 0s 6ms/step - loss: 1.5047 - accuracy: 0.6739\n",
            "Epoch 52/200\n",
            "2/2 [==============================] - 0s 6ms/step - loss: 1.5731 - accuracy: 0.6087\n",
            "Epoch 53/200\n",
            "2/2 [==============================] - 0s 6ms/step - loss: 1.6284 - accuracy: 0.5870\n",
            "Epoch 54/200\n",
            "2/2 [==============================] - 0s 5ms/step - loss: 1.4920 - accuracy: 0.6087\n",
            "Epoch 55/200\n",
            "2/2 [==============================] - 0s 7ms/step - loss: 1.4587 - accuracy: 0.7609\n",
            "Epoch 56/200\n",
            "2/2 [==============================] - 0s 9ms/step - loss: 1.4963 - accuracy: 0.6739\n",
            "Epoch 57/200\n",
            "2/2 [==============================] - 0s 7ms/step - loss: 1.4515 - accuracy: 0.6087\n",
            "Epoch 58/200\n",
            "2/2 [==============================] - 0s 7ms/step - loss: 1.3078 - accuracy: 0.7391\n",
            "Epoch 59/200\n",
            "2/2 [==============================] - 0s 7ms/step - loss: 1.4818 - accuracy: 0.6304\n",
            "Epoch 60/200\n",
            "2/2 [==============================] - 0s 6ms/step - loss: 1.3927 - accuracy: 0.6957\n",
            "Epoch 61/200\n",
            "2/2 [==============================] - 0s 6ms/step - loss: 1.3433 - accuracy: 0.7174\n",
            "Epoch 62/200\n",
            "2/2 [==============================] - 0s 6ms/step - loss: 1.2650 - accuracy: 0.6957\n",
            "Epoch 63/200\n",
            "2/2 [==============================] - 0s 6ms/step - loss: 1.2316 - accuracy: 0.7609\n",
            "Epoch 64/200\n",
            "2/2 [==============================] - 0s 5ms/step - loss: 1.1437 - accuracy: 0.6739\n",
            "Epoch 65/200\n",
            "2/2 [==============================] - 0s 6ms/step - loss: 1.2426 - accuracy: 0.7391\n",
            "Epoch 66/200\n",
            "2/2 [==============================] - 0s 8ms/step - loss: 1.2786 - accuracy: 0.7174\n",
            "Epoch 67/200\n",
            "2/2 [==============================] - 0s 8ms/step - loss: 1.1978 - accuracy: 0.7609\n",
            "Epoch 68/200\n",
            "2/2 [==============================] - 0s 10ms/step - loss: 1.1283 - accuracy: 0.7826\n",
            "Epoch 69/200\n",
            "2/2 [==============================] - 0s 9ms/step - loss: 1.1156 - accuracy: 0.7174\n",
            "Epoch 70/200\n",
            "2/2 [==============================] - 0s 7ms/step - loss: 1.1553 - accuracy: 0.6739\n",
            "Epoch 71/200\n",
            "2/2 [==============================] - 0s 7ms/step - loss: 1.0765 - accuracy: 0.7609\n",
            "Epoch 72/200\n",
            "2/2 [==============================] - 0s 7ms/step - loss: 1.0062 - accuracy: 0.7826\n",
            "Epoch 73/200\n",
            "2/2 [==============================] - 0s 9ms/step - loss: 1.0381 - accuracy: 0.8261\n",
            "Epoch 74/200\n",
            "2/2 [==============================] - 0s 7ms/step - loss: 0.9941 - accuracy: 0.8043\n",
            "Epoch 75/200\n",
            "2/2 [==============================] - 0s 7ms/step - loss: 1.1353 - accuracy: 0.7609\n",
            "Epoch 76/200\n",
            "2/2 [==============================] - 0s 9ms/step - loss: 1.1220 - accuracy: 0.7826\n",
            "Epoch 77/200\n",
            "2/2 [==============================] - 0s 7ms/step - loss: 0.9554 - accuracy: 0.8261\n",
            "Epoch 78/200\n",
            "2/2 [==============================] - 0s 11ms/step - loss: 0.8915 - accuracy: 0.8043\n",
            "Epoch 79/200\n",
            "2/2 [==============================] - 0s 5ms/step - loss: 0.9622 - accuracy: 0.7609\n",
            "Epoch 80/200\n",
            "2/2 [==============================] - 0s 7ms/step - loss: 0.8861 - accuracy: 0.8696\n",
            "Epoch 81/200\n",
            "2/2 [==============================] - 0s 5ms/step - loss: 0.8197 - accuracy: 0.8913\n",
            "Epoch 82/200\n",
            "2/2 [==============================] - 0s 6ms/step - loss: 0.9777 - accuracy: 0.7174\n",
            "Epoch 83/200\n",
            "2/2 [==============================] - 0s 6ms/step - loss: 0.8088 - accuracy: 0.8478\n",
            "Epoch 84/200\n",
            "2/2 [==============================] - 0s 7ms/step - loss: 0.8768 - accuracy: 0.8478\n",
            "Epoch 85/200\n",
            "2/2 [==============================] - 0s 6ms/step - loss: 0.7849 - accuracy: 0.8913\n",
            "Epoch 86/200\n",
            "2/2 [==============================] - 0s 7ms/step - loss: 0.8430 - accuracy: 0.8261\n",
            "Epoch 87/200\n",
            "2/2 [==============================] - 0s 7ms/step - loss: 0.7280 - accuracy: 0.8913\n",
            "Epoch 88/200\n",
            "2/2 [==============================] - 0s 6ms/step - loss: 0.7899 - accuracy: 0.8261\n",
            "Epoch 89/200\n",
            "2/2 [==============================] - 0s 6ms/step - loss: 0.8069 - accuracy: 0.8913\n",
            "Epoch 90/200\n",
            "2/2 [==============================] - 0s 5ms/step - loss: 1.0183 - accuracy: 0.6739\n",
            "Epoch 91/200\n",
            "2/2 [==============================] - 0s 9ms/step - loss: 0.7565 - accuracy: 0.8478\n",
            "Epoch 92/200\n",
            "2/2 [==============================] - 0s 6ms/step - loss: 0.8371 - accuracy: 0.8913\n",
            "Epoch 93/200\n",
            "2/2 [==============================] - 0s 7ms/step - loss: 0.6390 - accuracy: 0.8478\n",
            "Epoch 94/200\n",
            "2/2 [==============================] - 0s 7ms/step - loss: 0.7217 - accuracy: 0.8478\n",
            "Epoch 95/200\n",
            "2/2 [==============================] - 0s 7ms/step - loss: 0.5903 - accuracy: 0.8478\n",
            "Epoch 96/200\n",
            "2/2 [==============================] - 0s 8ms/step - loss: 0.6516 - accuracy: 0.8696\n",
            "Epoch 97/200\n",
            "2/2 [==============================] - 0s 8ms/step - loss: 0.7740 - accuracy: 0.8261\n",
            "Epoch 98/200\n",
            "2/2 [==============================] - 0s 7ms/step - loss: 0.6833 - accuracy: 0.8478\n",
            "Epoch 99/200\n",
            "2/2 [==============================] - 0s 8ms/step - loss: 0.6066 - accuracy: 0.9348\n",
            "Epoch 100/200\n",
            "2/2 [==============================] - 0s 8ms/step - loss: 0.6450 - accuracy: 0.8696\n",
            "Epoch 101/200\n",
            "2/2 [==============================] - 0s 8ms/step - loss: 0.6111 - accuracy: 0.8478\n",
            "Epoch 102/200\n",
            "2/2 [==============================] - 0s 7ms/step - loss: 0.6444 - accuracy: 0.8478\n",
            "Epoch 103/200\n",
            "2/2 [==============================] - 0s 7ms/step - loss: 0.5924 - accuracy: 0.8696\n",
            "Epoch 104/200\n",
            "2/2 [==============================] - 0s 10ms/step - loss: 0.7116 - accuracy: 0.8043\n",
            "Epoch 105/200\n",
            "2/2 [==============================] - 0s 9ms/step - loss: 0.6467 - accuracy: 0.8478\n",
            "Epoch 106/200\n",
            "2/2 [==============================] - 0s 8ms/step - loss: 0.4631 - accuracy: 0.9130\n",
            "Epoch 107/200\n",
            "2/2 [==============================] - 0s 6ms/step - loss: 0.5266 - accuracy: 0.8913\n",
            "Epoch 108/200\n",
            "2/2 [==============================] - 0s 7ms/step - loss: 0.5179 - accuracy: 0.8913\n",
            "Epoch 109/200\n",
            "2/2 [==============================] - 0s 6ms/step - loss: 0.6237 - accuracy: 0.8696\n",
            "Epoch 110/200\n",
            "2/2 [==============================] - 0s 8ms/step - loss: 0.5088 - accuracy: 0.9348\n",
            "Epoch 111/200\n",
            "2/2 [==============================] - 0s 7ms/step - loss: 0.5937 - accuracy: 0.8696\n",
            "Epoch 112/200\n",
            "2/2 [==============================] - 0s 7ms/step - loss: 0.5482 - accuracy: 0.8696\n",
            "Epoch 113/200\n",
            "2/2 [==============================] - 0s 7ms/step - loss: 0.4645 - accuracy: 0.9348\n",
            "Epoch 114/200\n",
            "2/2 [==============================] - 0s 7ms/step - loss: 0.4717 - accuracy: 0.9348\n",
            "Epoch 115/200\n",
            "2/2 [==============================] - 0s 7ms/step - loss: 0.5562 - accuracy: 0.8696\n",
            "Epoch 116/200\n",
            "2/2 [==============================] - 0s 7ms/step - loss: 0.4969 - accuracy: 0.8478\n",
            "Epoch 117/200\n",
            "2/2 [==============================] - 0s 6ms/step - loss: 0.5304 - accuracy: 0.8696\n",
            "Epoch 118/200\n",
            "2/2 [==============================] - 0s 6ms/step - loss: 0.5780 - accuracy: 0.8261\n",
            "Epoch 119/200\n",
            "2/2 [==============================] - 0s 5ms/step - loss: 0.4617 - accuracy: 0.9130\n",
            "Epoch 120/200\n",
            "2/2 [==============================] - 0s 6ms/step - loss: 0.4303 - accuracy: 0.8913\n",
            "Epoch 121/200\n",
            "2/2 [==============================] - 0s 6ms/step - loss: 0.4391 - accuracy: 0.8913\n",
            "Epoch 122/200\n",
            "2/2 [==============================] - 0s 7ms/step - loss: 0.5343 - accuracy: 0.8696\n",
            "Epoch 123/200\n",
            "2/2 [==============================] - 0s 7ms/step - loss: 0.5373 - accuracy: 0.9130\n",
            "Epoch 124/200\n",
            "2/2 [==============================] - 0s 7ms/step - loss: 0.3658 - accuracy: 0.8696\n",
            "Epoch 125/200\n",
            "2/2 [==============================] - 0s 8ms/step - loss: 0.4100 - accuracy: 0.9348\n",
            "Epoch 126/200\n",
            "2/2 [==============================] - 0s 5ms/step - loss: 0.4313 - accuracy: 0.8913\n",
            "Epoch 127/200\n",
            "2/2 [==============================] - 0s 7ms/step - loss: 0.3417 - accuracy: 0.9565\n",
            "Epoch 128/200\n",
            "2/2 [==============================] - 0s 6ms/step - loss: 0.4359 - accuracy: 0.9130\n",
            "Epoch 129/200\n",
            "2/2 [==============================] - 0s 6ms/step - loss: 0.4442 - accuracy: 0.9130\n",
            "Epoch 130/200\n",
            "2/2 [==============================] - 0s 7ms/step - loss: 0.3673 - accuracy: 0.8913\n",
            "Epoch 131/200\n",
            "2/2 [==============================] - 0s 7ms/step - loss: 0.3324 - accuracy: 0.9783\n",
            "Epoch 132/200\n",
            "2/2 [==============================] - 0s 6ms/step - loss: 0.4071 - accuracy: 0.9565\n",
            "Epoch 133/200\n",
            "2/2 [==============================] - 0s 6ms/step - loss: 0.3734 - accuracy: 0.8913\n",
            "Epoch 134/200\n",
            "2/2 [==============================] - 0s 7ms/step - loss: 0.3727 - accuracy: 0.8913\n",
            "Epoch 135/200\n",
            "2/2 [==============================] - 0s 6ms/step - loss: 0.4967 - accuracy: 0.8696\n",
            "Epoch 136/200\n",
            "2/2 [==============================] - 0s 6ms/step - loss: 0.2946 - accuracy: 0.9348\n",
            "Epoch 137/200\n",
            "2/2 [==============================] - 0s 6ms/step - loss: 0.4120 - accuracy: 0.9565\n",
            "Epoch 138/200\n",
            "2/2 [==============================] - 0s 6ms/step - loss: 0.3498 - accuracy: 0.9130\n",
            "Epoch 139/200\n",
            "2/2 [==============================] - 0s 5ms/step - loss: 0.3164 - accuracy: 0.9565\n",
            "Epoch 140/200\n",
            "2/2 [==============================] - 0s 6ms/step - loss: 0.4124 - accuracy: 0.9130\n",
            "Epoch 141/200\n",
            "2/2 [==============================] - 0s 5ms/step - loss: 0.3772 - accuracy: 0.8913\n",
            "Epoch 142/200\n",
            "2/2 [==============================] - 0s 11ms/step - loss: 0.3173 - accuracy: 0.9130\n",
            "Epoch 143/200\n",
            "2/2 [==============================] - 0s 6ms/step - loss: 0.2881 - accuracy: 0.8913\n",
            "Epoch 144/200\n",
            "2/2 [==============================] - 0s 5ms/step - loss: 0.3030 - accuracy: 0.9348\n",
            "Epoch 145/200\n",
            "2/2 [==============================] - 0s 6ms/step - loss: 0.3236 - accuracy: 0.9130\n",
            "Epoch 146/200\n",
            "2/2 [==============================] - 0s 6ms/step - loss: 0.3956 - accuracy: 0.8696\n",
            "Epoch 147/200\n",
            "2/2 [==============================] - 0s 7ms/step - loss: 0.3351 - accuracy: 0.9130\n",
            "Epoch 148/200\n",
            "2/2 [==============================] - 0s 6ms/step - loss: 0.3418 - accuracy: 0.8913\n",
            "Epoch 149/200\n",
            "2/2 [==============================] - 0s 6ms/step - loss: 0.4054 - accuracy: 0.9348\n",
            "Epoch 150/200\n",
            "2/2 [==============================] - 0s 6ms/step - loss: 0.2585 - accuracy: 0.9783\n",
            "Epoch 151/200\n",
            "2/2 [==============================] - 0s 6ms/step - loss: 0.4370 - accuracy: 0.9348\n",
            "Epoch 152/200\n",
            "2/2 [==============================] - 0s 6ms/step - loss: 0.3674 - accuracy: 0.8696\n",
            "Epoch 153/200\n",
            "2/2 [==============================] - 0s 6ms/step - loss: 0.2978 - accuracy: 0.9348\n",
            "Epoch 154/200\n",
            "2/2 [==============================] - 0s 6ms/step - loss: 0.3616 - accuracy: 0.8478\n",
            "Epoch 155/200\n",
            "2/2 [==============================] - 0s 6ms/step - loss: 0.3297 - accuracy: 0.9348\n",
            "Epoch 156/200\n",
            "2/2 [==============================] - 0s 5ms/step - loss: 0.2750 - accuracy: 0.8913\n",
            "Epoch 157/200\n",
            "2/2 [==============================] - 0s 6ms/step - loss: 0.2847 - accuracy: 0.9348\n",
            "Epoch 158/200\n",
            "2/2 [==============================] - 0s 6ms/step - loss: 0.3679 - accuracy: 0.9130\n",
            "Epoch 159/200\n",
            "2/2 [==============================] - 0s 6ms/step - loss: 0.2674 - accuracy: 0.9565\n",
            "Epoch 160/200\n",
            "2/2 [==============================] - 0s 6ms/step - loss: 0.3147 - accuracy: 0.9565\n",
            "Epoch 161/200\n",
            "2/2 [==============================] - 0s 6ms/step - loss: 0.2632 - accuracy: 0.9348\n",
            "Epoch 162/200\n",
            "2/2 [==============================] - 0s 5ms/step - loss: 0.2789 - accuracy: 0.9348\n",
            "Epoch 163/200\n",
            "2/2 [==============================] - 0s 6ms/step - loss: 0.3212 - accuracy: 0.9565\n",
            "Epoch 164/200\n",
            "2/2 [==============================] - 0s 6ms/step - loss: 0.2767 - accuracy: 0.9565\n",
            "Epoch 165/200\n",
            "2/2 [==============================] - 0s 6ms/step - loss: 0.3759 - accuracy: 0.9130\n",
            "Epoch 166/200\n",
            "2/2 [==============================] - 0s 6ms/step - loss: 0.2813 - accuracy: 0.9783\n",
            "Epoch 167/200\n",
            "2/2 [==============================] - 0s 6ms/step - loss: 0.2402 - accuracy: 0.9565\n",
            "Epoch 168/200\n",
            "2/2 [==============================] - 0s 5ms/step - loss: 0.2611 - accuracy: 0.9348\n",
            "Epoch 169/200\n",
            "2/2 [==============================] - 0s 6ms/step - loss: 0.2691 - accuracy: 0.9565\n",
            "Epoch 170/200\n",
            "2/2 [==============================] - 0s 6ms/step - loss: 0.2834 - accuracy: 0.8913\n",
            "Epoch 171/200\n",
            "2/2 [==============================] - 0s 6ms/step - loss: 0.2204 - accuracy: 0.9783\n",
            "Epoch 172/200\n",
            "2/2 [==============================] - 0s 6ms/step - loss: 0.3489 - accuracy: 0.8913\n",
            "Epoch 173/200\n",
            "2/2 [==============================] - 0s 7ms/step - loss: 0.3112 - accuracy: 0.9348\n",
            "Epoch 174/200\n",
            "2/2 [==============================] - 0s 5ms/step - loss: 0.1927 - accuracy: 0.9783\n",
            "Epoch 175/200\n",
            "2/2 [==============================] - 0s 7ms/step - loss: 0.3098 - accuracy: 0.9348\n",
            "Epoch 176/200\n",
            "2/2 [==============================] - 0s 6ms/step - loss: 0.2664 - accuracy: 0.9565\n",
            "Epoch 177/200\n",
            "2/2 [==============================] - 0s 7ms/step - loss: 0.2768 - accuracy: 0.9348\n",
            "Epoch 178/200\n",
            "2/2 [==============================] - 0s 9ms/step - loss: 0.2808 - accuracy: 0.9783\n",
            "Epoch 179/200\n",
            "2/2 [==============================] - 0s 6ms/step - loss: 0.3454 - accuracy: 0.9565\n",
            "Epoch 180/200\n",
            "2/2 [==============================] - 0s 10ms/step - loss: 0.2346 - accuracy: 0.9348\n",
            "Epoch 181/200\n",
            "2/2 [==============================] - 0s 6ms/step - loss: 0.3715 - accuracy: 0.8478\n",
            "Epoch 182/200\n",
            "2/2 [==============================] - 0s 6ms/step - loss: 0.2167 - accuracy: 0.9783\n",
            "Epoch 183/200\n",
            "2/2 [==============================] - 0s 8ms/step - loss: 0.3396 - accuracy: 0.9130\n",
            "Epoch 184/200\n",
            "2/2 [==============================] - 0s 8ms/step - loss: 0.2137 - accuracy: 0.9348\n",
            "Epoch 185/200\n",
            "2/2 [==============================] - 0s 7ms/step - loss: 0.2483 - accuracy: 0.9130\n",
            "Epoch 186/200\n",
            "2/2 [==============================] - 0s 10ms/step - loss: 0.1823 - accuracy: 0.9348\n",
            "Epoch 187/200\n",
            "2/2 [==============================] - 0s 9ms/step - loss: 0.1942 - accuracy: 0.9348\n",
            "Epoch 188/200\n",
            "2/2 [==============================] - 0s 10ms/step - loss: 0.2012 - accuracy: 0.9565\n",
            "Epoch 189/200\n",
            "2/2 [==============================] - 0s 5ms/step - loss: 0.2929 - accuracy: 0.9348\n",
            "Epoch 190/200\n",
            "2/2 [==============================] - 0s 11ms/step - loss: 0.2556 - accuracy: 0.9348\n",
            "Epoch 191/200\n",
            "2/2 [==============================] - 0s 9ms/step - loss: 0.1911 - accuracy: 0.9348\n",
            "Epoch 192/200\n",
            "2/2 [==============================] - 0s 5ms/step - loss: 0.3575 - accuracy: 0.8696\n",
            "Epoch 193/200\n",
            "2/2 [==============================] - 0s 6ms/step - loss: 0.2501 - accuracy: 0.9348\n",
            "Epoch 194/200\n",
            "2/2 [==============================] - 0s 5ms/step - loss: 0.1521 - accuracy: 0.9348\n",
            "Epoch 195/200\n",
            "2/2 [==============================] - 0s 6ms/step - loss: 0.2241 - accuracy: 0.9348\n",
            "Epoch 196/200\n",
            "2/2 [==============================] - 0s 9ms/step - loss: 0.1864 - accuracy: 0.9565\n",
            "Epoch 197/200\n",
            "2/2 [==============================] - 0s 9ms/step - loss: 0.2093 - accuracy: 0.9565\n",
            "Epoch 198/200\n",
            "2/2 [==============================] - 0s 8ms/step - loss: 0.1846 - accuracy: 0.9565\n",
            "Epoch 199/200\n",
            "2/2 [==============================] - 0s 6ms/step - loss: 0.1331 - accuracy: 0.9565\n",
            "Epoch 200/200\n",
            "2/2 [==============================] - 0s 9ms/step - loss: 0.1846 - accuracy: 0.9565\n"
          ]
        }
      ],
      "source": [
        "hist = model.fit(x=train_X, y=train_y, epochs=200)"
      ]
    },
    {
      "cell_type": "code",
      "execution_count": 112,
      "metadata": {
        "id": "Pb1GZDjGRP6Q",
        "colab": {
          "base_uri": "https://localhost:8080/",
          "height": 265
        },
        "outputId": "b03c2d60-2ac1-4813-fc7d-85954f58c811"
      },
      "outputs": [
        {
          "output_type": "display_data",
          "data": {
            "text/plain": [
              "<Figure size 432x288 with 1 Axes>"
            ],
            "image/png": "[encoded data removed]"
          },
          "metadata": {
            "needs_background": "light"
          }
        }
      ],
      "source": [
        "import matplotlib.pyplot as plt\n",
        "import seaborn as sns\n",
        "\n",
        "# Entrenamiento\n",
        "epoch_count = range(1, len(hist.history['accuracy']) + 1)\n",
        "sns.lineplot(x=epoch_count,  y=hist.history['accuracy'], label='train')\n",
        "plt.show()"
      ]
    },
    {
      "cell_type": "code",
      "execution_count": 113,
      "metadata": {
        "id": "eTVDnrV0mDRf"
      },
      "outputs": [],
      "source": [
        "# Guardar lo necesario para poder re-utilizar este modelo en el futuro\n",
        "# el vocabulario utilizado (words)\n",
        "# las posibles clases\n",
        "# el modelo\n",
        "import pickle\n",
        "pickle.dump(words, open('words.pkl','wb'))\n",
        "pickle.dump(classes, open('classes.pkl','wb'))\n",
        "model.save('chatbot_model.h5')"
      ]
    },
    {
      "cell_type": "markdown",
      "metadata": {
        "id": "TnD1WvhBfVYR"
      },
      "source": [
        "### 6 - Testing y validación"
      ]
    },
    {
      "cell_type": "code",
      "execution_count": 114,
      "metadata": {
        "id": "kqBdSGt8Orkm"
      },
      "outputs": [],
      "source": [
        "# convertir texto de entrada del usuario a tokens\n",
        "def text_to_tokens(text):\n",
        "    lemma_tokens = []\n",
        "    tokens = nlp(preprocess_clean_text(text.lower()))\n",
        "    for token in tokens:\n",
        "        lemma_tokens.append(token.lemma_)\n",
        "    #print(lemma_tokens)\n",
        "    return lemma_tokens\n",
        "\n",
        "# transformar el texto de entrada tokenizado a una representación OHE\n",
        "def bag_of_words(text, vocab): \n",
        "    tokens = text_to_tokens(text)\n",
        "    bow = [0] * len(vocab)\n",
        "    for w in tokens: \n",
        "        for idx, word in enumerate(vocab):\n",
        "            if word == w: \n",
        "                bow[idx] = 1\n",
        "    #print(bow)\n",
        "    return np.array(bow)\n",
        "\n",
        "# usar modelo con la entrada en OHE y los labels posibles (tags)\n",
        "def pred_class(text, vocab, labels): \n",
        "    bow = bag_of_words(text, vocab)\n",
        "    words_recognized = sum(bow)\n",
        "\n",
        "    return_list = []\n",
        "    if words_recognized > 0: # sólo si reconoció alguna palabra del vocabulario\n",
        "        result = model.predict(np.array([bow]))[0] # es un array de softmax\n",
        "        thresh = 0.2\n",
        "        # filtrar aquellas entradas menores al umbral `thresh`\n",
        "        y_pred = [[idx, res] for idx, res in enumerate(result) if res > thresh]\n",
        "        # ordenar keys de acuerdo al valor softmax\n",
        "        y_pred.sort(key=lambda x: x[1], reverse=True)\n",
        "    \n",
        "        # return_list es una lista de los labels de mayor a menor\n",
        "        for r in y_pred:\n",
        "            return_list.append(labels[r[0]])\n",
        "            #print(labels[r[0]], r[1])\n",
        "\n",
        "    # si no reconoció palabras del vocabulario se devuelve una lista vacía\n",
        "    return return_list\n",
        "\n",
        "# obtener una respuesta predeterminada \n",
        "def get_response(intents_list, intents_json):\n",
        "    tag = intents_list[0] # tomar el tag con el mejor valor softmax\n",
        "    list_of_intents = intents_json[\"intents\"] # intents_json es todo el dataset\n",
        "    for i in list_of_intents: \n",
        "        if i[\"tag\"] == tag: # buscar el tag correspoindiente y dar una respuesta predeterminada aleatoria \n",
        "            result = random.choice(i[\"responses\"])\n",
        "            break\n",
        "    return result"
      ]
    },
    {
      "cell_type": "code",
      "execution_count": 115,
      "metadata": {
        "id": "Xp1vXQwdOvl7",
        "colab": {
          "base_uri": "https://localhost:8080/"
        },
        "outputId": "38a45c9f-5871-4986-8fe7-56580e5af187"
      },
      "outputs": [
        {
          "output_type": "stream",
          "name": "stdout",
          "text": [
            "hola\n",
            "Q: hola\n",
            "1/1 [==============================] - 0s 45ms/step\n",
            "BOT: Hola! Bienvenido a Medicon\n",
            "como te llamas?\n",
            "Q: como te llamas?\n",
            "1/1 [==============================] - 0s 15ms/step\n",
            "BOT: Yo soy MediconBOT\n",
            "Como puedo sacar un turno?\n",
            "Q: Como puedo sacar un turno?\n",
            "1/1 [==============================] - 0s 14ms/step\n",
            "BOT: En el siguiente link podrás reservar un turno <link>\n",
            "Y como puedo ver los resultados de los estudios?\n",
            "Q: Y como puedo ver los resultados de los estudios?\n",
            "1/1 [==============================] - 0s 16ms/step\n",
            "BOT: En el siguiente link podrás encontrar los resultados de tus estudios <link>\n",
            "donde me puedo realizar los estudios?\n",
            "Q: donde me puedo realizar los estudios?\n",
            "1/1 [==============================] - 0s 15ms/step\n",
            "BOT: Tenemos 3 centros medicos, uno en calle falsa 123, otro en avenida siempreviva 874, ambos en springfield y otro en shelbiville\n",
            "me cubren con mi obra social?\n",
            "Q: me cubren con mi obra social?\n",
            "1/1 [==============================] - 0s 19ms/step\n",
            "BOT: En el siguiente link podrás encontrar las coberturas vigentes <link>\n",
            "cuales son los precios?\n",
            "Q: cuales son los precios?\n",
            "1/1 [==============================] - 0s 21ms/step\n",
            "BOT: En el siguiente link podrás encontrar los precios de las consultas y estudios <link>\n",
            "como puedo contactarlos?\n",
            "Q: como puedo contactarlos?\n",
            "1/1 [==============================] - ETA: 0s"
          ]
        },
        {
          "output_type": "stream",
          "name": "stderr",
          "text": [
            "/usr/local/lib/python3.7/dist-packages/stanza/models/common/beam.py:86: UserWarning: __floordiv__ is deprecated, and its behavior will change in a future version of pytorch. It currently rounds toward 0 (like the 'trunc' function NOT 'floor'). This results in incorrect rounding for negative values. To keep the current behavior, use torch.div(a, b, rounding_mode='trunc'), or for actual floor division, use torch.div(a, b, rounding_mode='floor').\n",
            "  prevK = bestScoresId // numWords\n"
          ]
        },
        {
          "output_type": "stream",
          "name": "stdout",
          "text": [
            "\b\b\b\b\b\b\b\b\b\b\b\b\b\b\b\b\b\b\b\b\b\b\b\b\b\b\b\b\b\b\b\b\b\b\b\b\b\b\b\b\b\b\b\b\b\b\r1/1 [==============================] - 0s 17ms/step\n",
            "BOT: En el siguiente link podrás encontrar los beneficios y formas de pago vigentes <link>\n",
            "contacto\n",
            "Q: contacto\n",
            "1/1 [==============================] - 0s 15ms/step\n",
            "BOT: Podes contactarnos al siguiente <numero>\n",
            "telefono\n",
            "Q: telefono\n",
            "1/1 [==============================] - 0s 15ms/step\n",
            "BOT: Contactos al whatsapp <numero>\n",
            "te agradezco mediconbot\n",
            "Q: te agradezco mediconbot\n",
            "1/1 [==============================] - 0s 16ms/step\n",
            "BOT: En el siguiente link podrás encontrar las coberturas vigentes <link>\n",
            "muchas gracias\n",
            "Q: muchas gracias\n",
            "1/1 [==============================] - 0s 18ms/step\n",
            "BOT: Por nada!, cualquier otra consulta podes escribirme\n",
            "chau\n",
            "Q: chau\n",
            "1/1 [==============================] - 0s 16ms/step\n",
            "BOT: Hablamos luego!\n"
          ]
        }
      ],
      "source": [
        "while True:\n",
        "    # pedir input al usuario\n",
        "    message = input(\"\")\n",
        "    print(\"Q:\", message)\n",
        "    \n",
        "\n",
        "    intents = pred_class(message, words, classes)\n",
        "    if len(intents) > 0:\n",
        "        result = get_response(intents, dataset)\n",
        "        print(\"BOT:\", result)\n",
        "    else: # si no hubo ningún resultado que supere el umbral\n",
        "        print(\"BOT: Perdón, no comprendo la pregunta.\")\n",
        "    if message==\"chau\":\n",
        "      break\n",
        "    "
      ]
    },
    {
      "cell_type": "markdown",
      "metadata": {
        "id": "ayatkwp4fYQx"
      },
      "source": [
        "### 7 - Conclusiones\n",
        "El bot tal cual está definido es capaz de responder a bastantes tipos de preguntas con gran precisión. Algunas técnicas que podrían ensayarse para evaluar como impactan en el sistema son:\n",
        "- Filtrar los stop words\n",
        "- Utilizar TF-IDF en vez de bag of words"
      ]
    },
    {
      "cell_type": "markdown",
      "metadata": {
        "id": "5ymtbwjphwTB"
      },
      "source": [
        "### Alumno"
      ]
    },
    {
      "cell_type": "markdown",
      "metadata": {
        "id": "JCSjI9YuhwTC"
      },
      "source": [
        "- Tomar un ejemplo de los bots utilizados (uno de los dos) y construir el propio.\n",
        "- Sacar conclusiones de los resultados.\n",
        "\n",
        "__IMPORTANTE__: Recuerde para la entrega del ejercicio debe quedar registrado en el colab las preguntas y las respuestas del BOT para que podamos evaluar el desempeño final."
      ]
    },
    {
      "cell_type": "markdown",
      "source": [
        "Conclusiones: En este caso siendo el bot de un centro medico, tendriamos que tener mas informacion de que obras sociales y prepagas cubrimos apra que le bot pueda responder eso en tiempo real. Despues agregar tfidf creo que seria un buen cambio, ya que el bot no respondio de manera correcta todas las preguntas como podemos ver arriba (como la de \"como puedo contactarlos?\").\n",
        "Finalmente, deberiamos poder agregar mas tags y patterns para poder reconocer mejor las preguntas, en este caso se trato de hacer preguntas como las haria un humano, y no simplemente pasando una palabra(como por ejemplo \"precio\").\n",
        "\n"
      ],
      "metadata": {
        "id": "78XLO-Oax0RR"
      }
    },
    {
      "cell_type": "code",
      "source": [],
      "metadata": {
        "id": "0poYuFfqxzcx"
      },
      "execution_count": null,
      "outputs": []
    }
  ],
  "metadata": {
    "colab": {
      "collapsed_sections": [],
      "provenance": [],
      "include_colab_link": true
    },
    "kernelspec": {
      "display_name": "Python 3",
      "language": "python",
      "name": "python3"
    },
    "language_info": {
      "codemirror_mode": {
        "name": "ipython",
        "version": 3
      },
      "file_extension": ".py",
      "mimetype": "text/x-python",
      "name": "python",
      "nbconvert_exporter": "python",
      "pygments_lexer": "ipython3",
      "version": "3.8.10"
    },
    "widgets": {
      "application/vnd.jupyter.widget-state+json": {
        "947644a8250e440d9e9696673f401d9b": {
          "model_module": "@jupyter-widgets/controls",
          "model_name": "HBoxModel",
          "model_module_version": "1.5.0",
          "state": {
            "_dom_classes": [],
            "_model_module": "@jupyter-widgets/controls",
            "_model_module_version": "1.5.0",
            "_model_name": "HBoxModel",
            "_view_count": null,
            "_view_module": "@jupyter-widgets/controls",
            "_view_module_version": "1.5.0",
            "_view_name": "HBoxView",
            "box_style": "",
            "children": [
              "IPY_MODEL_2f5c7fa2892247d991fdf2eadff1b8ca",
              "IPY_MODEL_5d42495218b248178ed5079c4fd1fb13",
              "IPY_MODEL_e3e73c0968a44ff58ce2f3245eb86d7d"
            ],
            "layout": "IPY_MODEL_27267dedf02c43b188c03792ffad9a56"
          }
        },
        "2f5c7fa2892247d991fdf2eadff1b8ca": {
          "model_module": "@jupyter-widgets/controls",
          "model_name": "HTMLModel",
          "model_module_version": "1.5.0",
          "state": {
            "_dom_classes": [],
            "_model_module": "@jupyter-widgets/controls",
            "_model_module_version": "1.5.0",
            "_model_name": "HTMLModel",
            "_view_count": null,
            "_view_module": "@jupyter-widgets/controls",
            "_view_module_version": "1.5.0",
            "_view_name": "HTMLView",
            "description": "",
            "description_tooltip": null,
            "layout": "IPY_MODEL_9cb5703436934385af32b339e933e22b",
            "placeholder": "​",
            "style": "IPY_MODEL_db38e5b8f31c4c458c9e7c481f33c94a",
            "value": "Downloading https://raw.githubusercontent.com/stanfordnlp/stanza-resources/main/resources_1.2.2.json: "
          }
        },
        "5d42495218b248178ed5079c4fd1fb13": {
          "model_module": "@jupyter-widgets/controls",
          "model_name": "FloatProgressModel",
          "model_module_version": "1.5.0",
          "state": {
            "_dom_classes": [],
            "_model_module": "@jupyter-widgets/controls",
            "_model_module_version": "1.5.0",
            "_model_name": "FloatProgressModel",
            "_view_count": null,
            "_view_module": "@jupyter-widgets/controls",
            "_view_module_version": "1.5.0",
            "_view_name": "ProgressView",
            "bar_style": "success",
            "description": "",
            "description_tooltip": null,
            "layout": "IPY_MODEL_98ecec9d64c045adb4e54030707f8224",
            "max": 24144,
            "min": 0,
            "orientation": "horizontal",
            "style": "IPY_MODEL_e82b60d2f656465186ae6c11f26d3cba",
            "value": 24144
          }
        },
        "e3e73c0968a44ff58ce2f3245eb86d7d": {
          "model_module": "@jupyter-widgets/controls",
          "model_name": "HTMLModel",
          "model_module_version": "1.5.0",
          "state": {
            "_dom_classes": [],
            "_model_module": "@jupyter-widgets/controls",
            "_model_module_version": "1.5.0",
            "_model_name": "HTMLModel",
            "_view_count": null,
            "_view_module": "@jupyter-widgets/controls",
            "_view_module_version": "1.5.0",
            "_view_name": "HTMLView",
            "description": "",
            "description_tooltip": null,
            "layout": "IPY_MODEL_c99e7cdcd0124a76abb529160c7a83ae",
            "placeholder": "​",
            "style": "IPY_MODEL_9fda9e7450254652a2d5f88473fffa92",
            "value": " 140k/? [00:00&lt;00:00, 3.04MB/s]"
          }
        },
        "27267dedf02c43b188c03792ffad9a56": {
          "model_module": "@jupyter-widgets/base",
          "model_name": "LayoutModel",
          "model_module_version": "1.2.0",
          "state": {
            "_model_module": "@jupyter-widgets/base",
            "_model_module_version": "1.2.0",
            "_model_name": "LayoutModel",
            "_view_count": null,
            "_view_module": "@jupyter-widgets/base",
            "_view_module_version": "1.2.0",
            "_view_name": "LayoutView",
            "align_content": null,
            "align_items": null,
            "align_self": null,
            "border": null,
            "bottom": null,
            "display": null,
            "flex": null,
            "flex_flow": null,
            "grid_area": null,
            "grid_auto_columns": null,
            "grid_auto_flow": null,
            "grid_auto_rows": null,
            "grid_column": null,
            "grid_gap": null,
            "grid_row": null,
            "grid_template_areas": null,
            "grid_template_columns": null,
            "grid_template_rows": null,
            "height": null,
            "justify_content": null,
            "justify_items": null,
            "left": null,
            "margin": null,
            "max_height": null,
            "max_width": null,
            "min_height": null,
            "min_width": null,
            "object_fit": null,
            "object_position": null,
            "order": null,
            "overflow": null,
            "overflow_x": null,
            "overflow_y": null,
            "padding": null,
            "right": null,
            "top": null,
            "visibility": null,
            "width": null
          }
        },
        "9cb5703436934385af32b339e933e22b": {
          "model_module": "@jupyter-widgets/base",
          "model_name": "LayoutModel",
          "model_module_version": "1.2.0",
          "state": {
            "_model_module": "@jupyter-widgets/base",
            "_model_module_version": "1.2.0",
            "_model_name": "LayoutModel",
            "_view_count": null,
            "_view_module": "@jupyter-widgets/base",
            "_view_module_version": "1.2.0",
            "_view_name": "LayoutView",
            "align_content": null,
            "align_items": null,
            "align_self": null,
            "border": null,
            "bottom": null,
            "display": null,
            "flex": null,
            "flex_flow": null,
            "grid_area": null,
            "grid_auto_columns": null,
            "grid_auto_flow": null,
            "grid_auto_rows": null,
            "grid_column": null,
            "grid_gap": null,
            "grid_row": null,
            "grid_template_areas": null,
            "grid_template_columns": null,
            "grid_template_rows": null,
            "height": null,
            "justify_content": null,
            "justify_items": null,
            "left": null,
            "margin": null,
            "max_height": null,
            "max_width": null,
            "min_height": null,
            "min_width": null,
            "object_fit": null,
            "object_position": null,
            "order": null,
            "overflow": null,
            "overflow_x": null,
            "overflow_y": null,
            "padding": null,
            "right": null,
            "top": null,
            "visibility": null,
            "width": null
          }
        },
        "db38e5b8f31c4c458c9e7c481f33c94a": {
          "model_module": "@jupyter-widgets/controls",
          "model_name": "DescriptionStyleModel",
          "model_module_version": "1.5.0",
          "state": {
            "_model_module": "@jupyter-widgets/controls",
            "_model_module_version": "1.5.0",
            "_model_name": "DescriptionStyleModel",
            "_view_count": null,
            "_view_module": "@jupyter-widgets/base",
            "_view_module_version": "1.2.0",
            "_view_name": "StyleView",
            "description_width": ""
          }
        },
        "98ecec9d64c045adb4e54030707f8224": {
          "model_module": "@jupyter-widgets/base",
          "model_name": "LayoutModel",
          "model_module_version": "1.2.0",
          "state": {
            "_model_module": "@jupyter-widgets/base",
            "_model_module_version": "1.2.0",
            "_model_name": "LayoutModel",
            "_view_count": null,
            "_view_module": "@jupyter-widgets/base",
            "_view_module_version": "1.2.0",
            "_view_name": "LayoutView",
            "align_content": null,
            "align_items": null,
            "align_self": null,
            "border": null,
            "bottom": null,
            "display": null,
            "flex": null,
            "flex_flow": null,
            "grid_area": null,
            "grid_auto_columns": null,
            "grid_auto_flow": null,
            "grid_auto_rows": null,
            "grid_column": null,
            "grid_gap": null,
            "grid_row": null,
            "grid_template_areas": null,
            "grid_template_columns": null,
            "grid_template_rows": null,
            "height": null,
            "justify_content": null,
            "justify_items": null,
            "left": null,
            "margin": null,
            "max_height": null,
            "max_width": null,
            "min_height": null,
            "min_width": null,
            "object_fit": null,
            "object_position": null,
            "order": null,
            "overflow": null,
            "overflow_x": null,
            "overflow_y": null,
            "padding": null,
            "right": null,
            "top": null,
            "visibility": null,
            "width": null
          }
        },
        "e82b60d2f656465186ae6c11f26d3cba": {
          "model_module": "@jupyter-widgets/controls",
          "model_name": "ProgressStyleModel",
          "model_module_version": "1.5.0",
          "state": {
            "_model_module": "@jupyter-widgets/controls",
            "_model_module_version": "1.5.0",
            "_model_name": "ProgressStyleModel",
            "_view_count": null,
            "_view_module": "@jupyter-widgets/base",
            "_view_module_version": "1.2.0",
            "_view_name": "StyleView",
            "bar_color": null,
            "description_width": ""
          }
        },
        "c99e7cdcd0124a76abb529160c7a83ae": {
          "model_module": "@jupyter-widgets/base",
          "model_name": "LayoutModel",
          "model_module_version": "1.2.0",
          "state": {
            "_model_module": "@jupyter-widgets/base",
            "_model_module_version": "1.2.0",
            "_model_name": "LayoutModel",
            "_view_count": null,
            "_view_module": "@jupyter-widgets/base",
            "_view_module_version": "1.2.0",
            "_view_name": "LayoutView",
            "align_content": null,
            "align_items": null,
            "align_self": null,
            "border": null,
            "bottom": null,
            "display": null,
            "flex": null,
            "flex_flow": null,
            "grid_area": null,
            "grid_auto_columns": null,
            "grid_auto_flow": null,
            "grid_auto_rows": null,
            "grid_column": null,
            "grid_gap": null,
            "grid_row": null,
            "grid_template_areas": null,
            "grid_template_columns": null,
            "grid_template_rows": null,
            "height": null,
            "justify_content": null,
            "justify_items": null,
            "left": null,
            "margin": null,
            "max_height": null,
            "max_width": null,
            "min_height": null,
            "min_width": null,
            "object_fit": null,
            "object_position": null,
            "order": null,
            "overflow": null,
            "overflow_x": null,
            "overflow_y": null,
            "padding": null,
            "right": null,
            "top": null,
            "visibility": null,
            "width": null
          }
        },
        "9fda9e7450254652a2d5f88473fffa92": {
          "model_module": "@jupyter-widgets/controls",
          "model_name": "DescriptionStyleModel",
          "model_module_version": "1.5.0",
          "state": {
            "_model_module": "@jupyter-widgets/controls",
            "_model_module_version": "1.5.0",
            "_model_name": "DescriptionStyleModel",
            "_view_count": null,
            "_view_module": "@jupyter-widgets/base",
            "_view_module_version": "1.2.0",
            "_view_name": "StyleView",
            "description_width": ""
          }
        },
        "81fd0ded73734107ae9640b336ca6b2a": {
          "model_module": "@jupyter-widgets/controls",
          "model_name": "HBoxModel",
          "model_module_version": "1.5.0",
          "state": {
            "_dom_classes": [],
            "_model_module": "@jupyter-widgets/controls",
            "_model_module_version": "1.5.0",
            "_model_name": "HBoxModel",
            "_view_count": null,
            "_view_module": "@jupyter-widgets/controls",
            "_view_module_version": "1.5.0",
            "_view_name": "HBoxView",
            "box_style": "",
            "children": [
              "IPY_MODEL_8249b78f996444fdb8b8e331195678e8",
              "IPY_MODEL_ba4811d946384f438ad377ebefd7feee",
              "IPY_MODEL_fc2dc00c37a24369883177fe7403ac28"
            ],
            "layout": "IPY_MODEL_a0d036c3ab984ab6a6a74a99ae6b681e"
          }
        },
        "8249b78f996444fdb8b8e331195678e8": {
          "model_module": "@jupyter-widgets/controls",
          "model_name": "HTMLModel",
          "model_module_version": "1.5.0",
          "state": {
            "_dom_classes": [],
            "_model_module": "@jupyter-widgets/controls",
            "_model_module_version": "1.5.0",
            "_model_name": "HTMLModel",
            "_view_count": null,
            "_view_module": "@jupyter-widgets/controls",
            "_view_module_version": "1.5.0",
            "_view_name": "HTMLView",
            "description": "",
            "description_tooltip": null,
            "layout": "IPY_MODEL_0aa41698d90346679f0107c2597f5af5",
            "placeholder": "​",
            "style": "IPY_MODEL_e5468137ab3a41c38379c52e633644a2",
            "value": "Downloading http://nlp.stanford.edu/software/stanza/1.2.2/es/default.zip: 100%"
          }
        },
        "ba4811d946384f438ad377ebefd7feee": {
          "model_module": "@jupyter-widgets/controls",
          "model_name": "FloatProgressModel",
          "model_module_version": "1.5.0",
          "state": {
            "_dom_classes": [],
            "_model_module": "@jupyter-widgets/controls",
            "_model_module_version": "1.5.0",
            "_model_name": "FloatProgressModel",
            "_view_count": null,
            "_view_module": "@jupyter-widgets/controls",
            "_view_module_version": "1.5.0",
            "_view_name": "ProgressView",
            "bar_style": "success",
            "description": "",
            "description_tooltip": null,
            "layout": "IPY_MODEL_67ccaa9c8820463981426e4a56a54540",
            "max": 565553347,
            "min": 0,
            "orientation": "horizontal",
            "style": "IPY_MODEL_ca87dc78bb724e42ba4fa931092e8528",
            "value": 565553347
          }
        },
        "fc2dc00c37a24369883177fe7403ac28": {
          "model_module": "@jupyter-widgets/controls",
          "model_name": "HTMLModel",
          "model_module_version": "1.5.0",
          "state": {
            "_dom_classes": [],
            "_model_module": "@jupyter-widgets/controls",
            "_model_module_version": "1.5.0",
            "_model_name": "HTMLModel",
            "_view_count": null,
            "_view_module": "@jupyter-widgets/controls",
            "_view_module_version": "1.5.0",
            "_view_name": "HTMLView",
            "description": "",
            "description_tooltip": null,
            "layout": "IPY_MODEL_64649eac8e6b45e0bdd382cf971723a6",
            "placeholder": "​",
            "style": "IPY_MODEL_bae413ce47bf477d9f1b1a2937a687ef",
            "value": " 566M/566M [01:43&lt;00:00, 5.35MB/s]"
          }
        },
        "a0d036c3ab984ab6a6a74a99ae6b681e": {
          "model_module": "@jupyter-widgets/base",
          "model_name": "LayoutModel",
          "model_module_version": "1.2.0",
          "state": {
            "_model_module": "@jupyter-widgets/base",
            "_model_module_version": "1.2.0",
            "_model_name": "LayoutModel",
            "_view_count": null,
            "_view_module": "@jupyter-widgets/base",
            "_view_module_version": "1.2.0",
            "_view_name": "LayoutView",
            "align_content": null,
            "align_items": null,
            "align_self": null,
            "border": null,
            "bottom": null,
            "display": null,
            "flex": null,
            "flex_flow": null,
            "grid_area": null,
            "grid_auto_columns": null,
            "grid_auto_flow": null,
            "grid_auto_rows": null,
            "grid_column": null,
            "grid_gap": null,
            "grid_row": null,
            "grid_template_areas": null,
            "grid_template_columns": null,
            "grid_template_rows": null,
            "height": null,
            "justify_content": null,
            "justify_items": null,
            "left": null,
            "margin": null,
            "max_height": null,
            "max_width": null,
            "min_height": null,
            "min_width": null,
            "object_fit": null,
            "object_position": null,
            "order": null,
            "overflow": null,
            "overflow_x": null,
            "overflow_y": null,
            "padding": null,
            "right": null,
            "top": null,
            "visibility": null,
            "width": null
          }
        },
        "0aa41698d90346679f0107c2597f5af5": {
          "model_module": "@jupyter-widgets/base",
          "model_name": "LayoutModel",
          "model_module_version": "1.2.0",
          "state": {
            "_model_module": "@jupyter-widgets/base",
            "_model_module_version": "1.2.0",
            "_model_name": "LayoutModel",
            "_view_count": null,
            "_view_module": "@jupyter-widgets/base",
            "_view_module_version": "1.2.0",
            "_view_name": "LayoutView",
            "align_content": null,
            "align_items": null,
            "align_self": null,
            "border": null,
            "bottom": null,
            "display": null,
            "flex": null,
            "flex_flow": null,
            "grid_area": null,
            "grid_auto_columns": null,
            "grid_auto_flow": null,
            "grid_auto_rows": null,
            "grid_column": null,
            "grid_gap": null,
            "grid_row": null,
            "grid_template_areas": null,
            "grid_template_columns": null,
            "grid_template_rows": null,
            "height": null,
            "justify_content": null,
            "justify_items": null,
            "left": null,
            "margin": null,
            "max_height": null,
            "max_width": null,
            "min_height": null,
            "min_width": null,
            "object_fit": null,
            "object_position": null,
            "order": null,
            "overflow": null,
            "overflow_x": null,
            "overflow_y": null,
            "padding": null,
            "right": null,
            "top": null,
            "visibility": null,
            "width": null
          }
        },
        "e5468137ab3a41c38379c52e633644a2": {
          "model_module": "@jupyter-widgets/controls",
          "model_name": "DescriptionStyleModel",
          "model_module_version": "1.5.0",
          "state": {
            "_model_module": "@jupyter-widgets/controls",
            "_model_module_version": "1.5.0",
            "_model_name": "DescriptionStyleModel",
            "_view_count": null,
            "_view_module": "@jupyter-widgets/base",
            "_view_module_version": "1.2.0",
            "_view_name": "StyleView",
            "description_width": ""
          }
        },
        "67ccaa9c8820463981426e4a56a54540": {
          "model_module": "@jupyter-widgets/base",
          "model_name": "LayoutModel",
          "model_module_version": "1.2.0",
          "state": {
            "_model_module": "@jupyter-widgets/base",
            "_model_module_version": "1.2.0",
            "_model_name": "LayoutModel",
            "_view_count": null,
            "_view_module": "@jupyter-widgets/base",
            "_view_module_version": "1.2.0",
            "_view_name": "LayoutView",
            "align_content": null,
            "align_items": null,
            "align_self": null,
            "border": null,
            "bottom": null,
            "display": null,
            "flex": null,
            "flex_flow": null,
            "grid_area": null,
            "grid_auto_columns": null,
            "grid_auto_flow": null,
            "grid_auto_rows": null,
            "grid_column": null,
            "grid_gap": null,
            "grid_row": null,
            "grid_template_areas": null,
            "grid_template_columns": null,
            "grid_template_rows": null,
            "height": null,
            "justify_content": null,
            "justify_items": null,
            "left": null,
            "margin": null,
            "max_height": null,
            "max_width": null,
            "min_height": null,
            "min_width": null,
            "object_fit": null,
            "object_position": null,
            "order": null,
            "overflow": null,
            "overflow_x": null,
            "overflow_y": null,
            "padding": null,
            "right": null,
            "top": null,
            "visibility": null,
            "width": null
          }
        },
        "ca87dc78bb724e42ba4fa931092e8528": {
          "model_module": "@jupyter-widgets/controls",
          "model_name": "ProgressStyleModel",
          "model_module_version": "1.5.0",
          "state": {
            "_model_module": "@jupyter-widgets/controls",
            "_model_module_version": "1.5.0",
            "_model_name": "ProgressStyleModel",
            "_view_count": null,
            "_view_module": "@jupyter-widgets/base",
            "_view_module_version": "1.2.0",
            "_view_name": "StyleView",
            "bar_color": null,
            "description_width": ""
          }
        },
        "64649eac8e6b45e0bdd382cf971723a6": {
          "model_module": "@jupyter-widgets/base",
          "model_name": "LayoutModel",
          "model_module_version": "1.2.0",
          "state": {
            "_model_module": "@jupyter-widgets/base",
            "_model_module_version": "1.2.0",
            "_model_name": "LayoutModel",
            "_view_count": null,
            "_view_module": "@jupyter-widgets/base",
            "_view_module_version": "1.2.0",
            "_view_name": "LayoutView",
            "align_content": null,
            "align_items": null,
            "align_self": null,
            "border": null,
            "bottom": null,
            "display": null,
            "flex": null,
            "flex_flow": null,
            "grid_area": null,
            "grid_auto_columns": null,
            "grid_auto_flow": null,
            "grid_auto_rows": null,
            "grid_column": null,
            "grid_gap": null,
            "grid_row": null,
            "grid_template_areas": null,
            "grid_template_columns": null,
            "grid_template_rows": null,
            "height": null,
            "justify_content": null,
            "justify_items": null,
            "left": null,
            "margin": null,
            "max_height": null,
            "max_width": null,
            "min_height": null,
            "min_width": null,
            "object_fit": null,
            "object_position": null,
            "order": null,
            "overflow": null,
            "overflow_x": null,
            "overflow_y": null,
            "padding": null,
            "right": null,
            "top": null,
            "visibility": null,
            "width": null
          }
        },
        "bae413ce47bf477d9f1b1a2937a687ef": {
          "model_module": "@jupyter-widgets/controls",
          "model_name": "DescriptionStyleModel",
          "model_module_version": "1.5.0",
          "state": {
            "_model_module": "@jupyter-widgets/controls",
            "_model_module_version": "1.5.0",
            "_model_name": "DescriptionStyleModel",
            "_view_count": null,
            "_view_module": "@jupyter-widgets/base",
            "_view_module_version": "1.2.0",
            "_view_name": "StyleView",
            "description_width": ""
          }
        }
      }
    }
  },
  "nbformat": 4,
  "nbformat_minor": 0
}